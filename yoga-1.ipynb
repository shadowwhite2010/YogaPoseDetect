{
 "cells": [
  {
   "cell_type": "code",
   "execution_count": 1,
   "metadata": {},
   "outputs": [],
   "source": [
    "import numpy as np\n",
    "import os\n",
    "import time\n",
    "import pandas as pd\n",
    "import pickle\n",
    "from mediapipe.python.solutions import drawing_utils as mp_drawing\n",
    "from mediapipe.python.solutions import pose as mp_pose\n",
    "import matplotlib.pyplot as plt\n",
    "import cv2\n",
    "import mediapipe as mp\n",
    "from typing import Mapping\n",
    "mp_pose = mp.solutions.pose\n"
   ]
  },
  {
   "cell_type": "code",
   "execution_count": 13,
   "metadata": {},
   "outputs": [
    {
     "name": "stdout",
     "output_type": "stream",
     "text": [
      "Requirement already satisfied: scikit-learn==1.0.1 in d:\\projects\\yogaposedetect\\yoga_jupy\\env\\lib\\site-packages (1.0.1)\n",
      "Requirement already satisfied: scipy>=1.1.0 in d:\\projects\\yogaposedetect\\yoga_jupy\\env\\lib\\site-packages (from scikit-learn==1.0.1) (1.9.1)\n",
      "Requirement already satisfied: threadpoolctl>=2.0.0 in d:\\projects\\yogaposedetect\\yoga_jupy\\env\\lib\\site-packages (from scikit-learn==1.0.1) (3.0.0)\n",
      "Requirement already satisfied: numpy>=1.14.6 in d:\\projects\\yogaposedetect\\yoga_jupy\\env\\lib\\site-packages (from scikit-learn==1.0.1) (1.23.4)\n",
      "Requirement already satisfied: joblib>=0.11 in d:\\projects\\yogaposedetect\\yoga_jupy\\env\\lib\\site-packages (from scikit-learn==1.0.1) (1.1.0)\n"
     ]
    },
    {
     "name": "stderr",
     "output_type": "stream",
     "text": [
      "WARNING: You are using pip version 21.2.4; however, version 22.3.1 is available.\n",
      "You should consider upgrading via the 'D:\\projects\\YogaPoseDetect\\yoga_jupy\\env\\Scripts\\python.exe -m pip install --upgrade pip' command.\n"
     ]
    }
   ],
   "source": [
    "!pip install scikit-learn==1.0.1"
   ]
  },
  {
   "cell_type": "code",
   "execution_count": 4,
   "metadata": {},
   "outputs": [],
   "source": [
    "classifier = pickle.load(open('yoga_pose_dataset/latest_model1', 'rb'))"
   ]
  },
  {
   "cell_type": "code",
   "execution_count": 5,
   "metadata": {},
   "outputs": [],
   "source": [
    "# to calculate angle in three points\n",
    "def getAngles(item, pt1, pt2, pt3):\n",
    "    a = item[pt1]\n",
    "    b = item[pt2]\n",
    "    c = item[pt3]\n",
    "    ba = a - b\n",
    "    bc = c - b\n",
    "    cosine_angle = np.dot(ba, bc) / (np.linalg.norm(ba) * np.linalg.norm(bc))\n",
    "    angle = (np.arccos(cosine_angle))*(180/np.pi)\n",
    "    return angle"
   ]
  },
  {
   "cell_type": "code",
   "execution_count": 3,
   "metadata": {},
   "outputs": [],
   "source": [
    "def chk_vis(lis):\n",
    "    cnt = 0\n",
    "    for obj in lis:\n",
    "        if (obj.visibility>0.5): cnt+=1\n",
    "    if (cnt==33): return True\n",
    "    else: return False "
   ]
  },
  {
   "cell_type": "code",
   "execution_count": null,
   "metadata": {},
   "outputs": [],
   "source": [
    "\n",
    "from timeit import default_timer as timer\n",
    "\n",
    "PosesAudioLoc = \"audioFiles/poses/\"\n",
    "SecAudioLoc = \"audioFiles/seconds/\"\n"
   ]
  },
  {
   "cell_type": "code",
   "execution_count": 36,
   "metadata": {},
   "outputs": [],
   "source": [
    "import json\n",
    "colr = 255\n",
    "with open(\"pose_angle.json\", \"r\") as pose_angle:\n",
    "    pose_data = json.load(pose_angle)\n",
    "def chck_angle(ps_name, angle_dic):\n",
    "    angle_col_dic = {}\n",
    "    for d_angle in pose_data[ps_name]:\n",
    "        mn, std = pose_data[ps_name][d_angle]\n",
    "        rat = abs(mn-angle_dic[d_angle])/mn\n",
    "        if rat>1: rat = 1\n",
    "        angle_col_dic[d_angle] = (0, colr*(1-rat), colr*rat)\n",
    "    print(angle_col_dic)\n",
    "    return angle_col_dic\n",
    "# print(pose_data)    "
   ]
  },
  {
   "cell_type": "code",
   "execution_count": 34,
   "metadata": {},
   "outputs": [],
   "source": [
    "def start_vid(frame_rate):\n",
    "    vid = cv2.VideoCapture(0)\n",
    "    # frame_rate = 30\n",
    "    prev = time.time()\n",
    "    while(True):\n",
    "        \n",
    "        # Capture the video frame\n",
    "        # by frame\n",
    "        time_elapsed = time.time() - prev\n",
    "        ret, frame = vid.read()\n",
    "        # time_elapsed = time.time() - prev\n",
    "        # ret, frame = self.video.read()\n",
    "        if time_elapsed > 1./frame_rate:\n",
    "            prev = time.time()\n",
    "            frame = cv2.cvtColor(frame, cv2.COLOR_BGR2RGB)\n",
    "            with mp_pose.Pose() as pose_tracker:\n",
    "                result = pose_tracker.process(image=frame)\n",
    "                # mp_drawing.plot_landmarks(results.pose_world_landmarks, mp_pose.POSE_CONNECTIONS)\n",
    "                pose_landmarks = result.pose_landmarks\n",
    "            output_frame = frame.copy()\n",
    "            # print(pose_landmarks.landmark)\n",
    "            pose_name = \"\"\n",
    "            if pose_landmarks is not None:\n",
    "                dict_obj = {}\n",
    "                for i in range(0,33):\n",
    "                    dict_obj[i] = mp_drawing.DrawingSpec(color=mp_drawing.WHITE_COLOR)\n",
    "                pose_landmarka = [[lmk.x, lmk.y, lmk.z] for lmk in pose_landmarks.landmark]\n",
    "                output_frame = cv2.cvtColor(output_frame, cv2.COLOR_RGB2BGR)\n",
    "                frame_height, frame_width = frame.shape[:2]\n",
    "                pose_landmarka *= np.array([frame_width, frame_height, frame_width])\n",
    "                # uncomment this when predicting\n",
    "                item = pose_landmarka\n",
    "                angle_dict = {\n",
    "                    'left_shoulder': getAngles(item, 13, 11, 12),\n",
    "                    'right_shoulder': getAngles(item, 24, 12, 14),\n",
    "                    'left_elbow': getAngles(item, 15, 13, 11),\n",
    "                    'right_elbow': getAngles(item, 12, 14, 16),\n",
    "                    'left_leg_waist': getAngles(item, 11, 23, 25),\n",
    "                    'right_leg_waist': getAngles(item, 12, 24, 26),\n",
    "                    'left_knee': getAngles(item, 23, 25, 27),\n",
    "                    'right_knee': getAngles(item, 24, 26, 28),\n",
    "                }\n",
    "                arr = np.array([angle_dict['left_shoulder'],\n",
    "                angle_dict['right_shoulder'],\n",
    "                angle_dict['left_elbow'],\n",
    "                angle_dict['right_elbow'],\n",
    "                angle_dict['left_leg_waist'],\n",
    "                angle_dict['right_leg_waist'],\n",
    "                angle_dict['left_knee'],\n",
    "                angle_dict['right_knee']])\n",
    "                res = classifier.predict([arr]) # classified pose name\n",
    "                pose_name = res[0]\n",
    "                angle_colr = chck_angle(pose_name, angle_dict)\n",
    "                dict_obj[11] = mp_drawing.DrawingSpec(color=angle_colr[\"left_shoulder\"])\n",
    "                dict_obj[12] = mp_drawing.DrawingSpec(color=angle_colr[\"right_shoulder\"])\n",
    "                dict_obj[13] = mp_drawing.DrawingSpec(color=angle_colr[\"left_elbow\"])\n",
    "                dict_obj[14] = mp_drawing.DrawingSpec(color=angle_colr[\"right_elbow\"])\n",
    "                dict_obj[23] = mp_drawing.DrawingSpec(color=angle_colr[\"left_leg_waist\"])\n",
    "                dict_obj[24] = mp_drawing.DrawingSpec(color=angle_colr[\"right_leg_waist\"])\n",
    "                dict_obj[25] = mp_drawing.DrawingSpec(color=angle_colr[\"left_knee\"])\n",
    "                dict_obj[26] = mp_drawing.DrawingSpec(color=angle_colr[\"right_knee\"])\n",
    "                x: Mapping[int, mp_drawing.DrawingSpec] = dict_obj\n",
    "                mp_drawing.draw_landmarks(\n",
    "                    image=output_frame,\n",
    "                    landmark_list=pose_landmarks,\n",
    "                    connections=mp_pose.POSE_CONNECTIONS,\n",
    "                    landmark_drawing_spec=  x)\n",
    "                assert len(pose_landmarks.landmark) == 33, 'Unexpected number of predicted pose landmarks: {}'.format(len(pose_landmarks.landmark))\n",
    "                # if chk_vis(pose_landmarks.landmark):\n",
    "                \n",
    "            output_frame = cv2.putText(output_frame, pose_name, (50,50), cv2.FONT_HERSHEY_SIMPLEX, 1, (255, 0, 255), 2, cv2.LINE_AA)\n",
    "            cv2.imshow('frame', output_frame)\n",
    "        \n",
    "        # the 'q' button is set as the\n",
    "        # quitting button you may use any\n",
    "        # desired button of your choice\n",
    "        if cv2.waitKey(1) & 0xFF == ord('q'):\n",
    "            break\n",
    "\n",
    "    # After the loop release the cap object\n",
    "    vid.release()\n",
    "    # Destroy all the windows\n",
    "    cv2.destroyAllWindows()"
   ]
  },
  {
   "cell_type": "code",
   "execution_count": 7,
   "metadata": {},
   "outputs": [
    {
     "data": {
      "text/plain": [
       "array(['adho mukha savanasana', 'ashtanga namaskar', 'aswa sanchalnasan',\n",
       "       'bhujangasana', 'pranamasan', 'urdhva hastasana', 'uttanasana'],\n",
       "      dtype=object)"
      ]
     },
     "execution_count": 7,
     "metadata": {},
     "output_type": "execute_result"
    }
   ],
   "source": [
    "classifier.classes_"
   ]
  },
  {
   "cell_type": "code",
   "execution_count": 29,
   "metadata": {},
   "outputs": [
    {
     "data": {
      "text/plain": [
       "2"
      ]
     },
     "execution_count": 29,
     "metadata": {},
     "output_type": "execute_result"
    }
   ],
   "source": [
    "classifier.metric_params()"
   ]
  },
  {
   "cell_type": "code",
   "execution_count": 37,
   "metadata": {},
   "outputs": [
    {
     "name": "stderr",
     "output_type": "stream",
     "text": [
      "d:\\projects\\YogaPoseDetect\\yoga_jupy\\env\\lib\\site-packages\\sklearn\\neighbors\\_classification.py:228: FutureWarning: Unlike other reduction functions (e.g. `skew`, `kurtosis`), the default behavior of `mode` typically preserves the axis it acts along. In SciPy 1.11.0, this behavior will change: the default value of `keepdims` will become False, the `axis` over which the statistic is taken will be eliminated, and the value None will no longer be accepted. Set `keepdims` to True or False to avoid this warning.\n",
      "  mode, _ = stats.mode(_y[neigh_ind, k], axis=1)\n"
     ]
    },
    {
     "name": "stdout",
     "output_type": "stream",
     "text": [
      "{'left_shoulder': (0, 251.99769225335444, 3.002307746645553), 'right_shoulder': (0, 246.00201286957844, 8.997987130421581), 'left_elbow': (0, 252.15683031890327, 2.84316968109671), 'right_elbow': (0, 190.96623321290707, 64.03376678709293), 'left_leg_waist': (0, 156.84652882858225, 98.15347117141773), 'right_leg_waist': (0, 229.27937763083474, 25.720622369165238), 'left_knee': (0, 235.77957124319101, 19.22042875680898), 'right_knee': (0, 180.12399251922085, 74.87600748077915)}\n"
     ]
    },
    {
     "name": "stderr",
     "output_type": "stream",
     "text": [
      "d:\\projects\\YogaPoseDetect\\yoga_jupy\\env\\lib\\site-packages\\sklearn\\neighbors\\_classification.py:228: FutureWarning: Unlike other reduction functions (e.g. `skew`, `kurtosis`), the default behavior of `mode` typically preserves the axis it acts along. In SciPy 1.11.0, this behavior will change: the default value of `keepdims` will become False, the `axis` over which the statistic is taken will be eliminated, and the value None will no longer be accepted. Set `keepdims` to True or False to avoid this warning.\n",
      "  mode, _ = stats.mode(_y[neigh_ind, k], axis=1)\n"
     ]
    },
    {
     "name": "stdout",
     "output_type": "stream",
     "text": [
      "{'left_shoulder': (0, 251.8119530416824, 3.1880469583176345), 'right_shoulder': (0, 223.1464445986926, 31.853555401307414), 'left_elbow': (0, 248.16564249652072, 6.834357503479281), 'right_elbow': (0, 196.4797317032596, 58.52026829674039), 'left_leg_waist': (0, 158.296030621919, 96.70396937808101), 'right_leg_waist': (0, 232.4269597491724, 22.57304025082759), 'left_knee': (0, 227.52973090823193, 27.47026909176808), 'right_knee': (0, 179.4450678780977, 75.55493212190231)}\n"
     ]
    },
    {
     "name": "stderr",
     "output_type": "stream",
     "text": [
      "d:\\projects\\YogaPoseDetect\\yoga_jupy\\env\\lib\\site-packages\\sklearn\\neighbors\\_classification.py:228: FutureWarning: Unlike other reduction functions (e.g. `skew`, `kurtosis`), the default behavior of `mode` typically preserves the axis it acts along. In SciPy 1.11.0, this behavior will change: the default value of `keepdims` will become False, the `axis` over which the statistic is taken will be eliminated, and the value None will no longer be accepted. Set `keepdims` to True or False to avoid this warning.\n",
      "  mode, _ = stats.mode(_y[neigh_ind, k], axis=1)\n"
     ]
    },
    {
     "name": "stdout",
     "output_type": "stream",
     "text": [
      "{'left_shoulder': (0, 234.32588383731695, 20.67411616268303), 'right_shoulder': (0, 235.74804404411205, 19.25195595588798), 'left_elbow': (0, 246.92243953153255, 8.077560468467434), 'right_elbow': (0, 189.01873116571429, 65.98126883428571), 'left_leg_waist': (0, 150.32872301845, 104.67127698154998), 'right_leg_waist': (0, 216.79900170033076, 38.20099829966923), 'left_knee': (0, 226.89284746553975, 28.107152534460273), 'right_knee': (0, 181.32775812706825, 73.67224187293175)}\n"
     ]
    },
    {
     "name": "stderr",
     "output_type": "stream",
     "text": [
      "d:\\projects\\YogaPoseDetect\\yoga_jupy\\env\\lib\\site-packages\\sklearn\\neighbors\\_classification.py:228: FutureWarning: Unlike other reduction functions (e.g. `skew`, `kurtosis`), the default behavior of `mode` typically preserves the axis it acts along. In SciPy 1.11.0, this behavior will change: the default value of `keepdims` will become False, the `axis` over which the statistic is taken will be eliminated, and the value None will no longer be accepted. Set `keepdims` to True or False to avoid this warning.\n",
      "  mode, _ = stats.mode(_y[neigh_ind, k], axis=1)\n"
     ]
    },
    {
     "name": "stdout",
     "output_type": "stream",
     "text": [
      "{'left_shoulder': (0, 250.12688246581928, 4.873117534180725), 'right_shoulder': (0, 223.8733942408651, 31.126605759134897), 'left_elbow': (0, 248.68744706011498, 6.312552939885039), 'right_elbow': (0, 206.97302933602725, 48.02697066397274), 'left_leg_waist': (0, 159.04385973816846, 95.95614026183156), 'right_leg_waist': (0, 239.96862987503502, 15.03137012496498), 'left_knee': (0, 214.03869790419063, 40.96130209580939), 'right_knee': (0, 179.01354457585953, 75.98645542414047)}\n"
     ]
    },
    {
     "name": "stderr",
     "output_type": "stream",
     "text": [
      "d:\\projects\\YogaPoseDetect\\yoga_jupy\\env\\lib\\site-packages\\sklearn\\neighbors\\_classification.py:228: FutureWarning: Unlike other reduction functions (e.g. `skew`, `kurtosis`), the default behavior of `mode` typically preserves the axis it acts along. In SciPy 1.11.0, this behavior will change: the default value of `keepdims` will become False, the `axis` over which the statistic is taken will be eliminated, and the value None will no longer be accepted. Set `keepdims` to True or False to avoid this warning.\n",
      "  mode, _ = stats.mode(_y[neigh_ind, k], axis=1)\n"
     ]
    },
    {
     "name": "stdout",
     "output_type": "stream",
     "text": [
      "{'left_shoulder': (0, 249.9901790819462, 5.0098209180538), 'right_shoulder': (0, 94.27306789566323, 160.72693210433675), 'left_elbow': (0, 159.99119993069368, 95.00880006930635), 'right_elbow': (0, 172.49057947620025, 82.50942052379978), 'left_leg_waist': (0, 171.30037680619935, 83.69962319380066), 'right_leg_waist': (0, 242.42394651230467, 12.57605348769533), 'left_knee': (0, 250.56302614862093, 4.436973851379064), 'right_knee': (0, 222.19178411704766, 32.80821588295234)}\n"
     ]
    },
    {
     "name": "stderr",
     "output_type": "stream",
     "text": [
      "d:\\projects\\YogaPoseDetect\\yoga_jupy\\env\\lib\\site-packages\\sklearn\\neighbors\\_classification.py:228: FutureWarning: Unlike other reduction functions (e.g. `skew`, `kurtosis`), the default behavior of `mode` typically preserves the axis it acts along. In SciPy 1.11.0, this behavior will change: the default value of `keepdims` will become False, the `axis` over which the statistic is taken will be eliminated, and the value None will no longer be accepted. Set `keepdims` to True or False to avoid this warning.\n",
      "  mode, _ = stats.mode(_y[neigh_ind, k], axis=1)\n"
     ]
    },
    {
     "name": "stdout",
     "output_type": "stream",
     "text": [
      "{'left_shoulder': (0, 229.4369302577279, 25.563069742272084), 'right_shoulder': (0, 244.39308853177562, 10.606911468224402), 'left_elbow': (0, 247.30811040445514, 7.691889595544865), 'right_elbow': (0, 186.31063416075315, 68.68936583924686), 'left_leg_waist': (0, 159.7388590168143, 95.2611409831857), 'right_leg_waist': (0, 218.6026642730615, 36.397335726938486), 'left_knee': (0, 215.99835587678461, 39.00164412321537), 'right_knee': (0, 184.55599808220632, 70.44400191779367)}\n"
     ]
    },
    {
     "name": "stderr",
     "output_type": "stream",
     "text": [
      "d:\\projects\\YogaPoseDetect\\yoga_jupy\\env\\lib\\site-packages\\sklearn\\neighbors\\_classification.py:228: FutureWarning: Unlike other reduction functions (e.g. `skew`, `kurtosis`), the default behavior of `mode` typically preserves the axis it acts along. In SciPy 1.11.0, this behavior will change: the default value of `keepdims` will become False, the `axis` over which the statistic is taken will be eliminated, and the value None will no longer be accepted. Set `keepdims` to True or False to avoid this warning.\n",
      "  mode, _ = stats.mode(_y[neigh_ind, k], axis=1)\n"
     ]
    },
    {
     "name": "stdout",
     "output_type": "stream",
     "text": [
      "{'left_shoulder': (0, 228.5847465038127, 26.415253496187287), 'right_shoulder': (0, 245.85183517704593, 9.148164822954092), 'left_elbow': (0, 228.0891867732458, 26.91081322675418), 'right_elbow': (0, 183.43712511056432, 71.56287488943568), 'left_leg_waist': (0, 156.56861530064018, 98.43138469935982), 'right_leg_waist': (0, 228.9957070457418, 26.0042929542582), 'left_knee': (0, 209.6812674077076, 45.318732592292406), 'right_knee': (0, 174.84632797840746, 80.15367202159253)}\n"
     ]
    },
    {
     "name": "stderr",
     "output_type": "stream",
     "text": [
      "d:\\projects\\YogaPoseDetect\\yoga_jupy\\env\\lib\\site-packages\\sklearn\\neighbors\\_classification.py:228: FutureWarning: Unlike other reduction functions (e.g. `skew`, `kurtosis`), the default behavior of `mode` typically preserves the axis it acts along. In SciPy 1.11.0, this behavior will change: the default value of `keepdims` will become False, the `axis` over which the statistic is taken will be eliminated, and the value None will no longer be accepted. Set `keepdims` to True or False to avoid this warning.\n",
      "  mode, _ = stats.mode(_y[neigh_ind, k], axis=1)\n"
     ]
    },
    {
     "name": "stdout",
     "output_type": "stream",
     "text": [
      "{'left_shoulder': (0, 207.7422758543953, 47.257724145604705), 'right_shoulder': (0, 239.85839472015468, 15.141605279845308), 'left_elbow': (0, 212.3063122541718, 42.693687745828235), 'right_elbow': (0, 182.6922138046306, 72.30778619536939), 'left_leg_waist': (0, 195.48924013778947, 59.510759862210534), 'right_leg_waist': (0, 221.92754554315735, 33.07245445684264), 'left_knee': (0, 123.39636986518776, 131.60363013481222), 'right_knee': (0, 135.5342758261071, 119.46572417389291)}\n"
     ]
    },
    {
     "name": "stderr",
     "output_type": "stream",
     "text": [
      "d:\\projects\\YogaPoseDetect\\yoga_jupy\\env\\lib\\site-packages\\sklearn\\neighbors\\_classification.py:228: FutureWarning: Unlike other reduction functions (e.g. `skew`, `kurtosis`), the default behavior of `mode` typically preserves the axis it acts along. In SciPy 1.11.0, this behavior will change: the default value of `keepdims` will become False, the `axis` over which the statistic is taken will be eliminated, and the value None will no longer be accepted. Set `keepdims` to True or False to avoid this warning.\n",
      "  mode, _ = stats.mode(_y[neigh_ind, k], axis=1)\n"
     ]
    },
    {
     "name": "stdout",
     "output_type": "stream",
     "text": [
      "{'left_shoulder': (0, 225.26164118279215, 29.738358817207853), 'right_shoulder': (0, 254.01511625452665, 0.984883745473363), 'left_elbow': (0, 240.61860781756425, 14.38139218243576), 'right_elbow': (0, 191.5961362749236, 63.403863725076405), 'left_leg_waist': (0, 163.5356574015288, 91.46434259847119), 'right_leg_waist': (0, 222.5732286371267, 32.426771362873296), 'left_knee': (0, 212.94553966483272, 42.0544603351673), 'right_knee': (0, 177.7249295482603, 77.27507045173972)}\n"
     ]
    },
    {
     "name": "stderr",
     "output_type": "stream",
     "text": [
      "d:\\projects\\YogaPoseDetect\\yoga_jupy\\env\\lib\\site-packages\\sklearn\\neighbors\\_classification.py:228: FutureWarning: Unlike other reduction functions (e.g. `skew`, `kurtosis`), the default behavior of `mode` typically preserves the axis it acts along. In SciPy 1.11.0, this behavior will change: the default value of `keepdims` will become False, the `axis` over which the statistic is taken will be eliminated, and the value None will no longer be accepted. Set `keepdims` to True or False to avoid this warning.\n",
      "  mode, _ = stats.mode(_y[neigh_ind, k], axis=1)\n"
     ]
    },
    {
     "name": "stdout",
     "output_type": "stream",
     "text": [
      "{'left_shoulder': (0, 107.5108442477887, 147.4891557522113), 'right_shoulder': (0, 203.61442519716715, 51.38557480283284), 'left_elbow': (0, 182.07581353336698, 72.92418646663302), 'right_elbow': (0, 224.06447755624714, 30.93552244375287), 'left_leg_waist': (0, 239.45578910037145, 15.544210899628574), 'right_leg_waist': (0, 220.7426764163319, 34.25732358366808), 'left_knee': (0, 244.08160029198038, 10.918399708019615), 'right_knee': (0, 230.56639182500084, 24.433608174999137)}\n"
     ]
    },
    {
     "name": "stderr",
     "output_type": "stream",
     "text": [
      "d:\\projects\\YogaPoseDetect\\yoga_jupy\\env\\lib\\site-packages\\sklearn\\neighbors\\_classification.py:228: FutureWarning: Unlike other reduction functions (e.g. `skew`, `kurtosis`), the default behavior of `mode` typically preserves the axis it acts along. In SciPy 1.11.0, this behavior will change: the default value of `keepdims` will become False, the `axis` over which the statistic is taken will be eliminated, and the value None will no longer be accepted. Set `keepdims` to True or False to avoid this warning.\n",
      "  mode, _ = stats.mode(_y[neigh_ind, k], axis=1)\n"
     ]
    },
    {
     "name": "stdout",
     "output_type": "stream",
     "text": [
      "{'left_shoulder': (0, 230.5256020595489, 24.4743979404511), 'right_shoulder': (0, 240.48712083997623, 14.512879160023774), 'left_elbow': (0, 244.33845807107784, 10.66154192892216), 'right_elbow': (0, 195.4765223882184, 59.523477611781594), 'left_leg_waist': (0, 152.93208821261456, 102.06791178738546), 'right_leg_waist': (0, 228.1964990892883, 26.80350091071173), 'left_knee': (0, 220.1951449007781, 34.8048550992219), 'right_knee': (0, 177.92520879938826, 77.07479120061173)}\n"
     ]
    },
    {
     "name": "stderr",
     "output_type": "stream",
     "text": [
      "d:\\projects\\YogaPoseDetect\\yoga_jupy\\env\\lib\\site-packages\\sklearn\\neighbors\\_classification.py:228: FutureWarning: Unlike other reduction functions (e.g. `skew`, `kurtosis`), the default behavior of `mode` typically preserves the axis it acts along. In SciPy 1.11.0, this behavior will change: the default value of `keepdims` will become False, the `axis` over which the statistic is taken will be eliminated, and the value None will no longer be accepted. Set `keepdims` to True or False to avoid this warning.\n",
      "  mode, _ = stats.mode(_y[neigh_ind, k], axis=1)\n"
     ]
    },
    {
     "name": "stdout",
     "output_type": "stream",
     "text": [
      "{'left_shoulder': (0, 235.90110637890882, 19.098893621091168), 'right_shoulder': (0, 213.8899689271558, 41.1100310728442), 'left_elbow': (0, 249.9575022380903, 5.042497761909686), 'right_elbow': (0, 205.66576872450327, 49.334231275496734), 'left_leg_waist': (0, 148.30723306215637, 106.69276693784361), 'right_leg_waist': (0, 232.6341343329908, 22.365865667009192), 'left_knee': (0, 225.6216090791264, 29.378390920873624), 'right_knee': (0, 179.10818846745482, 75.89181153254518)}\n"
     ]
    },
    {
     "name": "stderr",
     "output_type": "stream",
     "text": [
      "d:\\projects\\YogaPoseDetect\\yoga_jupy\\env\\lib\\site-packages\\sklearn\\neighbors\\_classification.py:228: FutureWarning: Unlike other reduction functions (e.g. `skew`, `kurtosis`), the default behavior of `mode` typically preserves the axis it acts along. In SciPy 1.11.0, this behavior will change: the default value of `keepdims` will become False, the `axis` over which the statistic is taken will be eliminated, and the value None will no longer be accepted. Set `keepdims` to True or False to avoid this warning.\n",
      "  mode, _ = stats.mode(_y[neigh_ind, k], axis=1)\n"
     ]
    },
    {
     "name": "stdout",
     "output_type": "stream",
     "text": [
      "{'left_shoulder': (0, 235.23824942703476, 19.76175057296526), 'right_shoulder': (0, 211.6530103309469, 43.34698966905307), 'left_elbow': (0, 245.91488303129879, 9.085116968701207), 'right_elbow': (0, 203.72753951529987, 51.272460484700126), 'left_leg_waist': (0, 147.5129867425924, 107.48701325740758), 'right_leg_waist': (0, 227.95721495055272, 27.04278504944727), 'left_knee': (0, 233.87486409545414, 21.12513590454587), 'right_knee': (0, 181.2578641431883, 73.74213585681169)}\n"
     ]
    },
    {
     "name": "stderr",
     "output_type": "stream",
     "text": [
      "d:\\projects\\YogaPoseDetect\\yoga_jupy\\env\\lib\\site-packages\\sklearn\\neighbors\\_classification.py:228: FutureWarning: Unlike other reduction functions (e.g. `skew`, `kurtosis`), the default behavior of `mode` typically preserves the axis it acts along. In SciPy 1.11.0, this behavior will change: the default value of `keepdims` will become False, the `axis` over which the statistic is taken will be eliminated, and the value None will no longer be accepted. Set `keepdims` to True or False to avoid this warning.\n",
      "  mode, _ = stats.mode(_y[neigh_ind, k], axis=1)\n"
     ]
    },
    {
     "name": "stdout",
     "output_type": "stream",
     "text": [
      "{'left_shoulder': (0, 229.1291471062325, 25.870852893767506), 'right_shoulder': (0, 225.09525514105934, 29.904744858940653), 'left_elbow': (0, 240.46328631791567, 14.536713682084338), 'right_elbow': (0, 209.9995252943735, 45.000474705626495), 'left_leg_waist': (0, 151.1502373127491, 103.84976268725089), 'right_leg_waist': (0, 217.99314469218575, 37.00685530781425), 'left_knee': (0, 230.7806107201084, 24.219389279891605), 'right_knee': (0, 187.2600920806926, 67.73990791930741)}\n"
     ]
    },
    {
     "name": "stderr",
     "output_type": "stream",
     "text": [
      "d:\\projects\\YogaPoseDetect\\yoga_jupy\\env\\lib\\site-packages\\sklearn\\neighbors\\_classification.py:228: FutureWarning: Unlike other reduction functions (e.g. `skew`, `kurtosis`), the default behavior of `mode` typically preserves the axis it acts along. In SciPy 1.11.0, this behavior will change: the default value of `keepdims` will become False, the `axis` over which the statistic is taken will be eliminated, and the value None will no longer be accepted. Set `keepdims` to True or False to avoid this warning.\n",
      "  mode, _ = stats.mode(_y[neigh_ind, k], axis=1)\n"
     ]
    },
    {
     "name": "stdout",
     "output_type": "stream",
     "text": [
      "{'left_shoulder': (0, 215.89851790634674, 39.10148209365326), 'right_shoulder': (0, 235.48983445899404, 19.51016554100594), 'left_elbow': (0, 240.1118006842489, 14.888199315751082), 'right_elbow': (0, 204.43396299516186, 50.566037004838115), 'left_leg_waist': (0, 164.32444638023873, 90.67555361976126), 'right_leg_waist': (0, 203.82588032451972, 51.174119675480284), 'left_knee': (0, 211.2861900010824, 43.71380999891761), 'right_knee': (0, 191.03027459514317, 63.96972540485684)}\n"
     ]
    },
    {
     "name": "stderr",
     "output_type": "stream",
     "text": [
      "d:\\projects\\YogaPoseDetect\\yoga_jupy\\env\\lib\\site-packages\\sklearn\\neighbors\\_classification.py:228: FutureWarning: Unlike other reduction functions (e.g. `skew`, `kurtosis`), the default behavior of `mode` typically preserves the axis it acts along. In SciPy 1.11.0, this behavior will change: the default value of `keepdims` will become False, the `axis` over which the statistic is taken will be eliminated, and the value None will no longer be accepted. Set `keepdims` to True or False to avoid this warning.\n",
      "  mode, _ = stats.mode(_y[neigh_ind, k], axis=1)\n"
     ]
    },
    {
     "name": "stdout",
     "output_type": "stream",
     "text": [
      "{'left_shoulder': (0, 224.68208442399148, 30.317915576008527), 'right_shoulder': (0, 166.70532649221084, 88.29467350778917), 'left_elbow': (0, 226.80642395943968, 28.19357604056031), 'right_elbow': (0, 216.14357113872595, 38.856428861274054), 'left_leg_waist': (0, 250.21271630398766, 4.787283696012327), 'right_leg_waist': (0, 217.99362271030566, 37.00637728969433), 'left_knee': (0, 179.93696542553946, 75.06303457446053), 'right_knee': (0, 173.4264764108245, 81.57352358917548)}\n"
     ]
    },
    {
     "name": "stderr",
     "output_type": "stream",
     "text": [
      "d:\\projects\\YogaPoseDetect\\yoga_jupy\\env\\lib\\site-packages\\sklearn\\neighbors\\_classification.py:228: FutureWarning: Unlike other reduction functions (e.g. `skew`, `kurtosis`), the default behavior of `mode` typically preserves the axis it acts along. In SciPy 1.11.0, this behavior will change: the default value of `keepdims` will become False, the `axis` over which the statistic is taken will be eliminated, and the value None will no longer be accepted. Set `keepdims` to True or False to avoid this warning.\n",
      "  mode, _ = stats.mode(_y[neigh_ind, k], axis=1)\n"
     ]
    },
    {
     "name": "stdout",
     "output_type": "stream",
     "text": [
      "{'left_shoulder': (0, 145.60892292503982, 109.39107707496018), 'right_shoulder': (0, 212.22374721643186, 42.77625278356814), 'left_elbow': (0, 189.4214215070202, 65.57857849297979), 'right_elbow': (0, 220.81421691802828, 34.18578308197171), 'left_leg_waist': (0, 188.3561649860608, 66.64383501393922), 'right_leg_waist': (0, 245.04796138933054, 9.952038610669462), 'left_knee': (0, 153.90797039636314, 101.09202960363686), 'right_knee': (0, 167.10736613707834, 87.89263386292166)}\n"
     ]
    },
    {
     "name": "stderr",
     "output_type": "stream",
     "text": [
      "d:\\projects\\YogaPoseDetect\\yoga_jupy\\env\\lib\\site-packages\\sklearn\\neighbors\\_classification.py:228: FutureWarning: Unlike other reduction functions (e.g. `skew`, `kurtosis`), the default behavior of `mode` typically preserves the axis it acts along. In SciPy 1.11.0, this behavior will change: the default value of `keepdims` will become False, the `axis` over which the statistic is taken will be eliminated, and the value None will no longer be accepted. Set `keepdims` to True or False to avoid this warning.\n",
      "  mode, _ = stats.mode(_y[neigh_ind, k], axis=1)\n"
     ]
    },
    {
     "name": "stdout",
     "output_type": "stream",
     "text": [
      "{'left_shoulder': (0, 100.67761035924032, 154.3223896407597), 'right_shoulder': (0, 168.3069291986302, 86.6930708013698), 'left_elbow': (0, 180.31368264548846, 74.68631735451154), 'right_elbow': (0, 228.3882814191564, 26.61171858084358), 'left_leg_waist': (0, 243.60793047441365, 11.392069525586344), 'right_leg_waist': (0, 244.61484790573667, 10.38515209426331), 'left_knee': (0, 235.20207236897687, 19.797927631023125), 'right_knee': (0, 233.8176757930734, 21.18232420692663)}\n"
     ]
    },
    {
     "name": "stderr",
     "output_type": "stream",
     "text": [
      "d:\\projects\\YogaPoseDetect\\yoga_jupy\\env\\lib\\site-packages\\sklearn\\neighbors\\_classification.py:228: FutureWarning: Unlike other reduction functions (e.g. `skew`, `kurtosis`), the default behavior of `mode` typically preserves the axis it acts along. In SciPy 1.11.0, this behavior will change: the default value of `keepdims` will become False, the `axis` over which the statistic is taken will be eliminated, and the value None will no longer be accepted. Set `keepdims` to True or False to avoid this warning.\n",
      "  mode, _ = stats.mode(_y[neigh_ind, k], axis=1)\n"
     ]
    },
    {
     "name": "stdout",
     "output_type": "stream",
     "text": [
      "{'left_shoulder': (0, 133.46505568805006, 121.53494431194996), 'right_shoulder': (0, 207.7968702346803, 47.203129765319666), 'left_elbow': (0, 167.3535653757353, 87.6464346242647), 'right_elbow': (0, 247.00111226412528, 7.998887735874727), 'left_leg_waist': (0, 240.7060425119298, 14.293957488070198), 'right_leg_waist': (0, 202.7350764688815, 52.26492353111852), 'left_knee': (0, 243.92966829074288, 11.07033170925712), 'right_knee': (0, 222.1711941063101, 32.82880589368989)}\n"
     ]
    },
    {
     "name": "stderr",
     "output_type": "stream",
     "text": [
      "d:\\projects\\YogaPoseDetect\\yoga_jupy\\env\\lib\\site-packages\\sklearn\\neighbors\\_classification.py:228: FutureWarning: Unlike other reduction functions (e.g. `skew`, `kurtosis`), the default behavior of `mode` typically preserves the axis it acts along. In SciPy 1.11.0, this behavior will change: the default value of `keepdims` will become False, the `axis` over which the statistic is taken will be eliminated, and the value None will no longer be accepted. Set `keepdims` to True or False to avoid this warning.\n",
      "  mode, _ = stats.mode(_y[neigh_ind, k], axis=1)\n"
     ]
    },
    {
     "name": "stdout",
     "output_type": "stream",
     "text": [
      "{'left_shoulder': (0, 241.73608456044317, 13.263915439556818), 'right_shoulder': (0, 115.96215355617385, 139.03784644382617), 'left_elbow': (0, 179.77191981949537, 75.22808018050465), 'right_elbow': (0, 160.45479562294287, 94.54520437705712), 'left_leg_waist': (0, 232.24008428190606, 22.759915718093946), 'right_leg_waist': (0, 158.21623560503903, 96.78376439496095), 'left_knee': (0, 120.24826947276648, 134.75173052723352), 'right_knee': (0, 181.15138802963355, 73.84861197036646)}\n"
     ]
    },
    {
     "name": "stderr",
     "output_type": "stream",
     "text": [
      "d:\\projects\\YogaPoseDetect\\yoga_jupy\\env\\lib\\site-packages\\sklearn\\neighbors\\_classification.py:228: FutureWarning: Unlike other reduction functions (e.g. `skew`, `kurtosis`), the default behavior of `mode` typically preserves the axis it acts along. In SciPy 1.11.0, this behavior will change: the default value of `keepdims` will become False, the `axis` over which the statistic is taken will be eliminated, and the value None will no longer be accepted. Set `keepdims` to True or False to avoid this warning.\n",
      "  mode, _ = stats.mode(_y[neigh_ind, k], axis=1)\n"
     ]
    },
    {
     "name": "stdout",
     "output_type": "stream",
     "text": [
      "{'left_shoulder': (0, 207.67011645813002, 47.32988354186999), 'right_shoulder': (0, 230.79876538768764, 24.201234612312366), 'left_elbow': (0, 179.72465786567366, 75.27534213432632), 'right_elbow': (0, 204.30717859504287, 50.692821404957144), 'left_leg_waist': (0, 188.1277167767247, 66.8722832232753), 'right_leg_waist': (0, 226.55481176314134, 28.44518823685867), 'left_knee': (0, 242.27919951220983, 12.720800487790164), 'right_knee': (0, 194.59003217643723, 60.409967823562766)}\n"
     ]
    },
    {
     "name": "stderr",
     "output_type": "stream",
     "text": [
      "d:\\projects\\YogaPoseDetect\\yoga_jupy\\env\\lib\\site-packages\\sklearn\\neighbors\\_classification.py:228: FutureWarning: Unlike other reduction functions (e.g. `skew`, `kurtosis`), the default behavior of `mode` typically preserves the axis it acts along. In SciPy 1.11.0, this behavior will change: the default value of `keepdims` will become False, the `axis` over which the statistic is taken will be eliminated, and the value None will no longer be accepted. Set `keepdims` to True or False to avoid this warning.\n",
      "  mode, _ = stats.mode(_y[neigh_ind, k], axis=1)\n"
     ]
    },
    {
     "name": "stdout",
     "output_type": "stream",
     "text": [
      "{'left_shoulder': (0, 167.71425316424038, 87.28574683575962), 'right_shoulder': (0, 204.6047774787337, 50.3952225212663), 'left_elbow': (0, 187.19623473803895, 67.80376526196106), 'right_elbow': (0, 249.3104073723534, 5.689592627646596), 'left_leg_waist': (0, 248.35289971681874, 6.647100283181246), 'right_leg_waist': (0, 241.23451114310893, 13.765488856891068), 'left_knee': (0, 247.3595562214379, 7.640443778562103), 'right_knee': (0, 247.16497591032123, 7.83502408967878)}\n"
     ]
    },
    {
     "name": "stderr",
     "output_type": "stream",
     "text": [
      "d:\\projects\\YogaPoseDetect\\yoga_jupy\\env\\lib\\site-packages\\sklearn\\neighbors\\_classification.py:228: FutureWarning: Unlike other reduction functions (e.g. `skew`, `kurtosis`), the default behavior of `mode` typically preserves the axis it acts along. In SciPy 1.11.0, this behavior will change: the default value of `keepdims` will become False, the `axis` over which the statistic is taken will be eliminated, and the value None will no longer be accepted. Set `keepdims` to True or False to avoid this warning.\n",
      "  mode, _ = stats.mode(_y[neigh_ind, k], axis=1)\n"
     ]
    },
    {
     "name": "stdout",
     "output_type": "stream",
     "text": [
      "{'left_shoulder': (0, 219.54140882979416, 35.458591170205835), 'right_shoulder': (0, 175.66497654569667, 79.33502345430331), 'left_elbow': (0, 238.6052918224752, 16.39470817752479), 'right_elbow': (0, 209.20327663420542, 45.796723365794584), 'left_leg_waist': (0, 176.83122266790448, 78.16877733209552), 'right_leg_waist': (0, 207.81316427487076, 47.18683572512923), 'left_knee': (0, 235.78816635203378, 19.211833647966195), 'right_knee': (0, 247.01059079910036, 7.989409200899649)}\n"
     ]
    },
    {
     "name": "stderr",
     "output_type": "stream",
     "text": [
      "d:\\projects\\YogaPoseDetect\\yoga_jupy\\env\\lib\\site-packages\\sklearn\\neighbors\\_classification.py:228: FutureWarning: Unlike other reduction functions (e.g. `skew`, `kurtosis`), the default behavior of `mode` typically preserves the axis it acts along. In SciPy 1.11.0, this behavior will change: the default value of `keepdims` will become False, the `axis` over which the statistic is taken will be eliminated, and the value None will no longer be accepted. Set `keepdims` to True or False to avoid this warning.\n",
      "  mode, _ = stats.mode(_y[neigh_ind, k], axis=1)\n"
     ]
    },
    {
     "name": "stdout",
     "output_type": "stream",
     "text": [
      "{'left_shoulder': (0, 204.36943111140855, 50.630568888591434), 'right_shoulder': (0, 252.91540619308253, 2.0845938069174648), 'left_elbow': (0, 231.08977452476762, 23.910225475232373), 'right_elbow': (0, 219.17113821036713, 35.82886178963285), 'left_leg_waist': (0, 197.38581473010817, 57.61418526989184), 'right_leg_waist': (0, 205.52753455728268, 49.472465442717294), 'left_knee': (0, 242.05222272139156, 12.947777278608465), 'right_knee': (0, 222.89821515339491, 32.10178484660511)}\n"
     ]
    },
    {
     "name": "stderr",
     "output_type": "stream",
     "text": [
      "d:\\projects\\YogaPoseDetect\\yoga_jupy\\env\\lib\\site-packages\\sklearn\\neighbors\\_classification.py:228: FutureWarning: Unlike other reduction functions (e.g. `skew`, `kurtosis`), the default behavior of `mode` typically preserves the axis it acts along. In SciPy 1.11.0, this behavior will change: the default value of `keepdims` will become False, the `axis` over which the statistic is taken will be eliminated, and the value None will no longer be accepted. Set `keepdims` to True or False to avoid this warning.\n",
      "  mode, _ = stats.mode(_y[neigh_ind, k], axis=1)\n"
     ]
    },
    {
     "name": "stdout",
     "output_type": "stream",
     "text": [
      "{'left_shoulder': (0, 73.50793237181162, 181.49206762818838), 'right_shoulder': (0, 162.83172141730114, 92.16827858269885), 'left_elbow': (0, 221.03669484457635, 33.96330515542367), 'right_elbow': (0, 243.9707049665904, 11.029295033409591), 'left_leg_waist': (0, 243.085602164825, 11.91439783517502), 'right_leg_waist': (0, 224.60087609217248, 30.399123907827523), 'left_knee': (0, 236.98057703512987, 18.01942296487015), 'right_knee': (0, 249.50162764189105, 5.498372358108957)}\n"
     ]
    },
    {
     "name": "stderr",
     "output_type": "stream",
     "text": [
      "d:\\projects\\YogaPoseDetect\\yoga_jupy\\env\\lib\\site-packages\\sklearn\\neighbors\\_classification.py:228: FutureWarning: Unlike other reduction functions (e.g. `skew`, `kurtosis`), the default behavior of `mode` typically preserves the axis it acts along. In SciPy 1.11.0, this behavior will change: the default value of `keepdims` will become False, the `axis` over which the statistic is taken will be eliminated, and the value None will no longer be accepted. Set `keepdims` to True or False to avoid this warning.\n",
      "  mode, _ = stats.mode(_y[neigh_ind, k], axis=1)\n"
     ]
    },
    {
     "name": "stdout",
     "output_type": "stream",
     "text": [
      "{'left_shoulder': (0, 243.032653357541, 11.967346642458995), 'right_shoulder': (0, 161.83724773662894, 93.16275226337106), 'left_elbow': (0, 220.58280878573143, 34.41719121426856), 'right_elbow': (0, 222.98471078078356, 32.01528921921642), 'left_leg_waist': (0, 197.0221206974784, 57.97787930252158), 'right_leg_waist': (0, 226.58981833140325, 28.410181668596742), 'left_knee': (0, 220.07651958433632, 34.92348041566369), 'right_knee': (0, 233.41296116343986, 21.587038836560136)}\n"
     ]
    },
    {
     "name": "stderr",
     "output_type": "stream",
     "text": [
      "d:\\projects\\YogaPoseDetect\\yoga_jupy\\env\\lib\\site-packages\\sklearn\\neighbors\\_classification.py:228: FutureWarning: Unlike other reduction functions (e.g. `skew`, `kurtosis`), the default behavior of `mode` typically preserves the axis it acts along. In SciPy 1.11.0, this behavior will change: the default value of `keepdims` will become False, the `axis` over which the statistic is taken will be eliminated, and the value None will no longer be accepted. Set `keepdims` to True or False to avoid this warning.\n",
      "  mode, _ = stats.mode(_y[neigh_ind, k], axis=1)\n"
     ]
    },
    {
     "name": "stdout",
     "output_type": "stream",
     "text": [
      "{'left_shoulder': (0, 129.57473881630577, 125.42526118369425), 'right_shoulder': (0, 123.10674656248811, 131.8932534375119), 'left_elbow': (0, 230.8471463673747, 24.15285363262529), 'right_elbow': (0, 228.54922122784959, 26.450778772150404), 'left_leg_waist': (0, 253.53667091934372, 1.4633290806562782), 'right_leg_waist': (0, 226.70093707226792, 28.29906292773207), 'left_knee': (0, 219.52407978762733, 35.47592021237269), 'right_knee': (0, 253.55498895104375, 1.4450110489562287)}\n"
     ]
    },
    {
     "name": "stderr",
     "output_type": "stream",
     "text": [
      "d:\\projects\\YogaPoseDetect\\yoga_jupy\\env\\lib\\site-packages\\sklearn\\neighbors\\_classification.py:228: FutureWarning: Unlike other reduction functions (e.g. `skew`, `kurtosis`), the default behavior of `mode` typically preserves the axis it acts along. In SciPy 1.11.0, this behavior will change: the default value of `keepdims` will become False, the `axis` over which the statistic is taken will be eliminated, and the value None will no longer be accepted. Set `keepdims` to True or False to avoid this warning.\n",
      "  mode, _ = stats.mode(_y[neigh_ind, k], axis=1)\n"
     ]
    },
    {
     "name": "stdout",
     "output_type": "stream",
     "text": [
      "{'left_shoulder': (0, 221.4422603912728, 33.557739608727196), 'right_shoulder': (0, 203.30370075484115, 51.69629924515886), 'left_elbow': (0, 203.40000852842286, 51.59999147157714), 'right_elbow': (0, 247.34160191635448, 7.658398083645528), 'left_leg_waist': (0, 205.27075691895274, 49.72924308104726), 'right_leg_waist': (0, 175.3618618804143, 79.6381381195857), 'left_knee': (0, 254.8996064510053, 0.10039354899471557), 'right_knee': (0, 220.8285329414239, 34.1714670585761)}\n"
     ]
    },
    {
     "name": "stderr",
     "output_type": "stream",
     "text": [
      "d:\\projects\\YogaPoseDetect\\yoga_jupy\\env\\lib\\site-packages\\sklearn\\neighbors\\_classification.py:228: FutureWarning: Unlike other reduction functions (e.g. `skew`, `kurtosis`), the default behavior of `mode` typically preserves the axis it acts along. In SciPy 1.11.0, this behavior will change: the default value of `keepdims` will become False, the `axis` over which the statistic is taken will be eliminated, and the value None will no longer be accepted. Set `keepdims` to True or False to avoid this warning.\n",
      "  mode, _ = stats.mode(_y[neigh_ind, k], axis=1)\n"
     ]
    },
    {
     "name": "stdout",
     "output_type": "stream",
     "text": [
      "{'left_shoulder': (0, 180.3361321757136, 74.66386782428641), 'right_shoulder': (0, 73.20981664513225, 181.79018335486776), 'left_elbow': (0, 244.7542621878363, 10.245737812163675), 'right_elbow': (0, 232.73025690402545, 22.26974309597454), 'left_leg_waist': (0, 249.481766903612, 5.518233096387982), 'right_leg_waist': (0, 250.37501839066286, 4.624981609337145), 'left_knee': (0, 217.75744210878304, 37.242557891216975), 'right_knee': (0, 237.77898907641023, 17.221010923589766)}\n"
     ]
    },
    {
     "name": "stderr",
     "output_type": "stream",
     "text": [
      "d:\\projects\\YogaPoseDetect\\yoga_jupy\\env\\lib\\site-packages\\sklearn\\neighbors\\_classification.py:228: FutureWarning: Unlike other reduction functions (e.g. `skew`, `kurtosis`), the default behavior of `mode` typically preserves the axis it acts along. In SciPy 1.11.0, this behavior will change: the default value of `keepdims` will become False, the `axis` over which the statistic is taken will be eliminated, and the value None will no longer be accepted. Set `keepdims` to True or False to avoid this warning.\n",
      "  mode, _ = stats.mode(_y[neigh_ind, k], axis=1)\n"
     ]
    },
    {
     "name": "stdout",
     "output_type": "stream",
     "text": [
      "{'left_shoulder': (0, 246.0968771795636, 8.903122820436403), 'right_shoulder': (0, 229.0151270006604, 25.984872999339593), 'left_elbow': (0, 199.11706673287424, 55.88293326712575), 'right_elbow': (0, 228.1745150425977, 26.825484957402317), 'left_leg_waist': (0, 76.9710375793578, 178.02896242064222), 'right_leg_waist': (0, 55.91510460798105, 199.08489539201895), 'left_knee': (0, 39.71006722685451, 215.2899327731455), 'right_knee': (0, 34.22161785903383, 220.7783821409662)}\n"
     ]
    },
    {
     "name": "stderr",
     "output_type": "stream",
     "text": [
      "d:\\projects\\YogaPoseDetect\\yoga_jupy\\env\\lib\\site-packages\\sklearn\\neighbors\\_classification.py:228: FutureWarning: Unlike other reduction functions (e.g. `skew`, `kurtosis`), the default behavior of `mode` typically preserves the axis it acts along. In SciPy 1.11.0, this behavior will change: the default value of `keepdims` will become False, the `axis` over which the statistic is taken will be eliminated, and the value None will no longer be accepted. Set `keepdims` to True or False to avoid this warning.\n",
      "  mode, _ = stats.mode(_y[neigh_ind, k], axis=1)\n"
     ]
    },
    {
     "name": "stdout",
     "output_type": "stream",
     "text": [
      "{'left_shoulder': (0, 52.43711990072273, 202.56288009927727), 'right_shoulder': (0, 248.39681755934194, 6.603182440658053), 'left_elbow': (0, 232.5143735570146, 22.485626442985414), 'right_elbow': (0, 234.68939214885486, 20.310607851145136), 'left_leg_waist': (0, 243.6572768877909, 11.34272311220908), 'right_leg_waist': (0, 242.25162369134586, 12.748376308654132), 'left_knee': (0, 220.08514988347534, 34.91485011652464), 'right_knee': (0, 212.90814162932188, 42.09185837067814)}\n"
     ]
    },
    {
     "name": "stderr",
     "output_type": "stream",
     "text": [
      "d:\\projects\\YogaPoseDetect\\yoga_jupy\\env\\lib\\site-packages\\sklearn\\neighbors\\_classification.py:228: FutureWarning: Unlike other reduction functions (e.g. `skew`, `kurtosis`), the default behavior of `mode` typically preserves the axis it acts along. In SciPy 1.11.0, this behavior will change: the default value of `keepdims` will become False, the `axis` over which the statistic is taken will be eliminated, and the value None will no longer be accepted. Set `keepdims` to True or False to avoid this warning.\n",
      "  mode, _ = stats.mode(_y[neigh_ind, k], axis=1)\n"
     ]
    },
    {
     "name": "stdout",
     "output_type": "stream",
     "text": [
      "{'left_shoulder': (0, 83.79201013954868, 171.2079898604513), 'right_shoulder': (0, 225.65560819540218, 29.344391804597816), 'left_elbow': (0, 166.8847152917024, 88.11528470829758), 'right_elbow': (0, 119.58461534681659, 135.41538465318342), 'left_leg_waist': (0, 181.28338841795068, 73.71661158204932), 'right_leg_waist': (0, 186.59272124236858, 68.40727875763142), 'left_knee': (0, 135.92962658557252, 119.07037341442748), 'right_knee': (0, 86.32758430883106, 168.67241569116894)}\n"
     ]
    },
    {
     "name": "stderr",
     "output_type": "stream",
     "text": [
      "d:\\projects\\YogaPoseDetect\\yoga_jupy\\env\\lib\\site-packages\\sklearn\\neighbors\\_classification.py:228: FutureWarning: Unlike other reduction functions (e.g. `skew`, `kurtosis`), the default behavior of `mode` typically preserves the axis it acts along. In SciPy 1.11.0, this behavior will change: the default value of `keepdims` will become False, the `axis` over which the statistic is taken will be eliminated, and the value None will no longer be accepted. Set `keepdims` to True or False to avoid this warning.\n",
      "  mode, _ = stats.mode(_y[neigh_ind, k], axis=1)\n"
     ]
    },
    {
     "name": "stdout",
     "output_type": "stream",
     "text": [
      "{'left_shoulder': (0, 205.886219457896, 49.11378054210401), 'right_shoulder': (0, 0, 255), 'left_elbow': (0, 195.26020815913682, 59.73979184086318), 'right_elbow': (0, 207.69358079667464, 47.30641920332535), 'left_leg_waist': (0, 92.72056318098461, 162.2794368190154), 'right_leg_waist': (0, 121.30417585367054, 133.69582414632947), 'left_knee': (0, 139.0318531567906, 115.9681468432094), 'right_knee': (0, 3.6874299954449477, 251.31257000455506)}\n"
     ]
    },
    {
     "name": "stderr",
     "output_type": "stream",
     "text": [
      "d:\\projects\\YogaPoseDetect\\yoga_jupy\\env\\lib\\site-packages\\sklearn\\neighbors\\_classification.py:228: FutureWarning: Unlike other reduction functions (e.g. `skew`, `kurtosis`), the default behavior of `mode` typically preserves the axis it acts along. In SciPy 1.11.0, this behavior will change: the default value of `keepdims` will become False, the `axis` over which the statistic is taken will be eliminated, and the value None will no longer be accepted. Set `keepdims` to True or False to avoid this warning.\n",
      "  mode, _ = stats.mode(_y[neigh_ind, k], axis=1)\n"
     ]
    },
    {
     "name": "stdout",
     "output_type": "stream",
     "text": [
      "{'left_shoulder': (0, 196.24615622779487, 58.75384377220514), 'right_shoulder': (0, 199.02758304876278, 55.972416951237214), 'left_elbow': (0, 158.3008077759435, 96.6991922240565), 'right_elbow': (0, 221.54544978927072, 33.4545502107293), 'left_leg_waist': (0, 122.91090900846122, 132.0890909915388), 'right_leg_waist': (0, 64.05015392571356, 190.94984607428643), 'left_knee': (0, 39.43527105572632, 215.5647289442737), 'right_knee': (0, 43.26357704988856, 211.73642295011143)}\n"
     ]
    },
    {
     "name": "stderr",
     "output_type": "stream",
     "text": [
      "d:\\projects\\YogaPoseDetect\\yoga_jupy\\env\\lib\\site-packages\\sklearn\\neighbors\\_classification.py:228: FutureWarning: Unlike other reduction functions (e.g. `skew`, `kurtosis`), the default behavior of `mode` typically preserves the axis it acts along. In SciPy 1.11.0, this behavior will change: the default value of `keepdims` will become False, the `axis` over which the statistic is taken will be eliminated, and the value None will no longer be accepted. Set `keepdims` to True or False to avoid this warning.\n",
      "  mode, _ = stats.mode(_y[neigh_ind, k], axis=1)\n"
     ]
    },
    {
     "name": "stdout",
     "output_type": "stream",
     "text": [
      "{'left_shoulder': (0, 172.68033685242423, 82.31966314757575), 'right_shoulder': (0, 203.28576487206803, 51.714235127931964), 'left_elbow': (0, 251.7592518081684, 3.240748191831621), 'right_elbow': (0, 91.02757158588494, 163.97242841411506), 'left_leg_waist': (0, 219.43602111888478, 35.56397888111521), 'right_leg_waist': (0, 202.20773340639064, 52.79226659360935), 'left_knee': (0, 227.1848195621991, 27.8151804378009), 'right_knee': (0, 195.31882925209595, 59.68117074790403)}\n"
     ]
    },
    {
     "name": "stderr",
     "output_type": "stream",
     "text": [
      "d:\\projects\\YogaPoseDetect\\yoga_jupy\\env\\lib\\site-packages\\sklearn\\neighbors\\_classification.py:228: FutureWarning: Unlike other reduction functions (e.g. `skew`, `kurtosis`), the default behavior of `mode` typically preserves the axis it acts along. In SciPy 1.11.0, this behavior will change: the default value of `keepdims` will become False, the `axis` over which the statistic is taken will be eliminated, and the value None will no longer be accepted. Set `keepdims` to True or False to avoid this warning.\n",
      "  mode, _ = stats.mode(_y[neigh_ind, k], axis=1)\n"
     ]
    },
    {
     "name": "stdout",
     "output_type": "stream",
     "text": [
      "{'left_shoulder': (0, 207.82420454214474, 47.175795457855244), 'right_shoulder': (0, 102.98652740073355, 152.01347259926646), 'left_elbow': (0, 189.2457726965467, 65.7542273034533), 'right_elbow': (0, 111.54888642903146, 143.45111357096854), 'left_leg_waist': (0, 222.74977908677806, 32.25022091322194), 'right_leg_waist': (0, 252.52722274732875, 2.4727772526712632), 'left_knee': (0, 204.63218601530954, 50.36781398469047), 'right_knee': (0, 193.7059412067422, 61.29405879325779)}\n"
     ]
    },
    {
     "name": "stderr",
     "output_type": "stream",
     "text": [
      "d:\\projects\\YogaPoseDetect\\yoga_jupy\\env\\lib\\site-packages\\sklearn\\neighbors\\_classification.py:228: FutureWarning: Unlike other reduction functions (e.g. `skew`, `kurtosis`), the default behavior of `mode` typically preserves the axis it acts along. In SciPy 1.11.0, this behavior will change: the default value of `keepdims` will become False, the `axis` over which the statistic is taken will be eliminated, and the value None will no longer be accepted. Set `keepdims` to True or False to avoid this warning.\n",
      "  mode, _ = stats.mode(_y[neigh_ind, k], axis=1)\n"
     ]
    },
    {
     "name": "stdout",
     "output_type": "stream",
     "text": [
      "{'left_shoulder': (0, 194.53443562829312, 60.46556437170689), 'right_shoulder': (0, 205.73466630668707, 49.26533369331293), 'left_elbow': (0, 170.10015674305242, 84.89984325694758), 'right_elbow': (0, 230.2318317066199, 24.768168293380104), 'left_leg_waist': (0, 182.14477262632144, 72.85522737367853), 'right_leg_waist': (0, 253.44243407836277, 1.5575659216372237), 'left_knee': (0, 245.76560500142966, 9.234394998570334), 'right_knee': (0, 210.92573919559493, 44.074260804405085)}\n"
     ]
    },
    {
     "name": "stderr",
     "output_type": "stream",
     "text": [
      "d:\\projects\\YogaPoseDetect\\yoga_jupy\\env\\lib\\site-packages\\sklearn\\neighbors\\_classification.py:228: FutureWarning: Unlike other reduction functions (e.g. `skew`, `kurtosis`), the default behavior of `mode` typically preserves the axis it acts along. In SciPy 1.11.0, this behavior will change: the default value of `keepdims` will become False, the `axis` over which the statistic is taken will be eliminated, and the value None will no longer be accepted. Set `keepdims` to True or False to avoid this warning.\n",
      "  mode, _ = stats.mode(_y[neigh_ind, k], axis=1)\n"
     ]
    },
    {
     "name": "stdout",
     "output_type": "stream",
     "text": [
      "{'left_shoulder': (0, 217.80100066406496, 37.19899933593507), 'right_shoulder': (0, 0, 255), 'left_elbow': (0, 180.793246868594, 74.206753131406), 'right_elbow': (0, 249.80044627112733, 5.199553728872667), 'left_leg_waist': (0, 89.9748551781078, 165.02514482189218), 'right_leg_waist': (0, 138.20626769140688, 116.7937323085931), 'left_knee': (0, 217.81579446880093, 37.18420553119908), 'right_knee': (0, 161.4165856257576, 93.58341437424242)}\n"
     ]
    },
    {
     "name": "stderr",
     "output_type": "stream",
     "text": [
      "d:\\projects\\YogaPoseDetect\\yoga_jupy\\env\\lib\\site-packages\\sklearn\\neighbors\\_classification.py:228: FutureWarning: Unlike other reduction functions (e.g. `skew`, `kurtosis`), the default behavior of `mode` typically preserves the axis it acts along. In SciPy 1.11.0, this behavior will change: the default value of `keepdims` will become False, the `axis` over which the statistic is taken will be eliminated, and the value None will no longer be accepted. Set `keepdims` to True or False to avoid this warning.\n",
      "  mode, _ = stats.mode(_y[neigh_ind, k], axis=1)\n"
     ]
    },
    {
     "name": "stdout",
     "output_type": "stream",
     "text": [
      "{'left_shoulder': (0, 178.65251888734815, 76.34748111265185), 'right_shoulder': (0, 89.26914150569084, 165.73085849430916), 'left_elbow': (0, 217.16062903127755, 37.83937096872244), 'right_elbow': (0, 161.97093667103016, 93.02906332896985), 'left_leg_waist': (0, 239.52927234186183, 15.470727658138184), 'right_leg_waist': (0, 71.84146728218353, 183.15853271781646), 'left_knee': (0, 125.08035052816342, 129.91964947183658), 'right_knee': (0, 169.89995991494894, 85.10004008505106)}\n"
     ]
    },
    {
     "name": "stderr",
     "output_type": "stream",
     "text": [
      "d:\\projects\\YogaPoseDetect\\yoga_jupy\\env\\lib\\site-packages\\sklearn\\neighbors\\_classification.py:228: FutureWarning: Unlike other reduction functions (e.g. `skew`, `kurtosis`), the default behavior of `mode` typically preserves the axis it acts along. In SciPy 1.11.0, this behavior will change: the default value of `keepdims` will become False, the `axis` over which the statistic is taken will be eliminated, and the value None will no longer be accepted. Set `keepdims` to True or False to avoid this warning.\n",
      "  mode, _ = stats.mode(_y[neigh_ind, k], axis=1)\n"
     ]
    },
    {
     "name": "stdout",
     "output_type": "stream",
     "text": [
      "{'left_shoulder': (0, 233.0762776826958, 21.923722317304197), 'right_shoulder': (0, 213.83100999936897, 41.16899000063102), 'left_elbow': (0, 246.87532311284457, 8.124676887155443), 'right_elbow': (0, 84.21314705509862, 170.7868529449014), 'left_leg_waist': (0, 230.17185665279234, 24.828143347207643), 'right_leg_waist': (0, 161.09081110709127, 93.90918889290872), 'left_knee': (0, 241.5183456215698, 13.481654378430187), 'right_knee': (0, 202.28089499630315, 52.71910500369685)}\n"
     ]
    },
    {
     "name": "stderr",
     "output_type": "stream",
     "text": [
      "d:\\projects\\YogaPoseDetect\\yoga_jupy\\env\\lib\\site-packages\\sklearn\\neighbors\\_classification.py:228: FutureWarning: Unlike other reduction functions (e.g. `skew`, `kurtosis`), the default behavior of `mode` typically preserves the axis it acts along. In SciPy 1.11.0, this behavior will change: the default value of `keepdims` will become False, the `axis` over which the statistic is taken will be eliminated, and the value None will no longer be accepted. Set `keepdims` to True or False to avoid this warning.\n",
      "  mode, _ = stats.mode(_y[neigh_ind, k], axis=1)\n"
     ]
    },
    {
     "name": "stdout",
     "output_type": "stream",
     "text": [
      "{'left_shoulder': (0, 150.84826855840322, 104.1517314415968), 'right_shoulder': (0, 60.393746165429306, 194.60625383457068), 'left_elbow': (0, 231.22688793917206, 23.77311206082796), 'right_elbow': (0, 202.42754356112687, 52.57245643887312), 'left_leg_waist': (0, 152.34772908632982, 102.6522709136702), 'right_leg_waist': (0, 214.69617859501153, 40.30382140498847), 'left_knee': (0, 93.53562349940339, 161.46437650059661), 'right_knee': (0, 71.88699856051066, 183.11300143948932)}\n"
     ]
    },
    {
     "name": "stderr",
     "output_type": "stream",
     "text": [
      "d:\\projects\\YogaPoseDetect\\yoga_jupy\\env\\lib\\site-packages\\sklearn\\neighbors\\_classification.py:228: FutureWarning: Unlike other reduction functions (e.g. `skew`, `kurtosis`), the default behavior of `mode` typically preserves the axis it acts along. In SciPy 1.11.0, this behavior will change: the default value of `keepdims` will become False, the `axis` over which the statistic is taken will be eliminated, and the value None will no longer be accepted. Set `keepdims` to True or False to avoid this warning.\n",
      "  mode, _ = stats.mode(_y[neigh_ind, k], axis=1)\n"
     ]
    },
    {
     "name": "stdout",
     "output_type": "stream",
     "text": [
      "{'left_shoulder': (0, 203.02233086021755, 51.977669139782435), 'right_shoulder': (0, 239.14219785089654, 15.857802149103467), 'left_elbow': (0, 169.51843349565166, 85.48156650434834), 'right_elbow': (0, 151.9357658311111, 103.06423416888892), 'left_leg_waist': (0, 233.52227181119184, 21.477728188808147), 'right_leg_waist': (0, 204.22845237137705, 50.771547628622955), 'left_knee': (0, 199.15248106959766, 55.847518930402344), 'right_knee': (0, 197.48260574631266, 57.51739425368735)}\n"
     ]
    },
    {
     "name": "stderr",
     "output_type": "stream",
     "text": [
      "d:\\projects\\YogaPoseDetect\\yoga_jupy\\env\\lib\\site-packages\\sklearn\\neighbors\\_classification.py:228: FutureWarning: Unlike other reduction functions (e.g. `skew`, `kurtosis`), the default behavior of `mode` typically preserves the axis it acts along. In SciPy 1.11.0, this behavior will change: the default value of `keepdims` will become False, the `axis` over which the statistic is taken will be eliminated, and the value None will no longer be accepted. Set `keepdims` to True or False to avoid this warning.\n",
      "  mode, _ = stats.mode(_y[neigh_ind, k], axis=1)\n"
     ]
    },
    {
     "name": "stdout",
     "output_type": "stream",
     "text": [
      "{'left_shoulder': (0, 206.21958876221225, 48.78041123778775), 'right_shoulder': (0, 98.57403161898574, 156.42596838101426), 'left_elbow': (0, 175.92335805897946, 79.07664194102055), 'right_elbow': (0, 218.62530203117458, 36.3746979688254), 'left_leg_waist': (0, 243.1559810087162, 11.844018991283807), 'right_leg_waist': (0, 253.71624348432096, 1.2837565156790312), 'left_knee': (0, 217.28974234183653, 37.710257658163464), 'right_knee': (0, 216.05163088072996, 38.94836911927003)}\n"
     ]
    },
    {
     "name": "stderr",
     "output_type": "stream",
     "text": [
      "d:\\projects\\YogaPoseDetect\\yoga_jupy\\env\\lib\\site-packages\\sklearn\\neighbors\\_classification.py:228: FutureWarning: Unlike other reduction functions (e.g. `skew`, `kurtosis`), the default behavior of `mode` typically preserves the axis it acts along. In SciPy 1.11.0, this behavior will change: the default value of `keepdims` will become False, the `axis` over which the statistic is taken will be eliminated, and the value None will no longer be accepted. Set `keepdims` to True or False to avoid this warning.\n",
      "  mode, _ = stats.mode(_y[neigh_ind, k], axis=1)\n"
     ]
    },
    {
     "name": "stdout",
     "output_type": "stream",
     "text": [
      "{'left_shoulder': (0, 253.97549856545226, 1.0245014345477437), 'right_shoulder': (0, 238.95471265168965, 16.04528734831035), 'left_elbow': (0, 241.8416453636198, 13.15835463638021), 'right_elbow': (0, 211.73031283846316, 43.269687161536815), 'left_leg_waist': (0, 216.70808336718974, 38.29191663281025), 'right_leg_waist': (0, 199.5324658587943, 55.467534141205704), 'left_knee': (0, 127.22494826313121, 127.77505173686879), 'right_knee': (0, 204.43089798102224, 50.56910201897775)}\n"
     ]
    },
    {
     "name": "stderr",
     "output_type": "stream",
     "text": [
      "d:\\projects\\YogaPoseDetect\\yoga_jupy\\env\\lib\\site-packages\\sklearn\\neighbors\\_classification.py:228: FutureWarning: Unlike other reduction functions (e.g. `skew`, `kurtosis`), the default behavior of `mode` typically preserves the axis it acts along. In SciPy 1.11.0, this behavior will change: the default value of `keepdims` will become False, the `axis` over which the statistic is taken will be eliminated, and the value None will no longer be accepted. Set `keepdims` to True or False to avoid this warning.\n",
      "  mode, _ = stats.mode(_y[neigh_ind, k], axis=1)\n"
     ]
    },
    {
     "name": "stdout",
     "output_type": "stream",
     "text": [
      "{'left_shoulder': (0, 227.73815318337185, 27.261846816628157), 'right_shoulder': (0, 210.563629994679, 44.43637000532101), 'left_elbow': (0, 234.95502215506073, 20.044977844939257), 'right_elbow': (0, 81.50652902314505, 173.49347097685495), 'left_leg_waist': (0, 250.47860150921287, 4.521398490787136), 'right_leg_waist': (0, 204.05146757011, 50.948532429890015), 'left_knee': (0, 220.53610149699398, 34.46389850300604), 'right_knee': (0, 229.99170183275882, 25.008298167241175)}\n"
     ]
    },
    {
     "name": "stderr",
     "output_type": "stream",
     "text": [
      "d:\\projects\\YogaPoseDetect\\yoga_jupy\\env\\lib\\site-packages\\sklearn\\neighbors\\_classification.py:228: FutureWarning: Unlike other reduction functions (e.g. `skew`, `kurtosis`), the default behavior of `mode` typically preserves the axis it acts along. In SciPy 1.11.0, this behavior will change: the default value of `keepdims` will become False, the `axis` over which the statistic is taken will be eliminated, and the value None will no longer be accepted. Set `keepdims` to True or False to avoid this warning.\n",
      "  mode, _ = stats.mode(_y[neigh_ind, k], axis=1)\n"
     ]
    },
    {
     "name": "stdout",
     "output_type": "stream",
     "text": [
      "{'left_shoulder': (0, 229.55941138042306, 25.440588619576932), 'right_shoulder': (0, 216.9176157420172, 38.08238425798279), 'left_elbow': (0, 243.520887719832, 11.479112280168009), 'right_elbow': (0, 83.27471923547867, 171.72528076452133), 'left_leg_waist': (0, 241.5130383914796, 13.486961608520415), 'right_leg_waist': (0, 192.30320543723963, 62.696794562760374), 'left_knee': (0, 223.46718807140957, 31.53281192859042), 'right_knee': (0, 233.07621031300323, 21.923789686996756)}\n"
     ]
    },
    {
     "name": "stderr",
     "output_type": "stream",
     "text": [
      "d:\\projects\\YogaPoseDetect\\yoga_jupy\\env\\lib\\site-packages\\sklearn\\neighbors\\_classification.py:228: FutureWarning: Unlike other reduction functions (e.g. `skew`, `kurtosis`), the default behavior of `mode` typically preserves the axis it acts along. In SciPy 1.11.0, this behavior will change: the default value of `keepdims` will become False, the `axis` over which the statistic is taken will be eliminated, and the value None will no longer be accepted. Set `keepdims` to True or False to avoid this warning.\n",
      "  mode, _ = stats.mode(_y[neigh_ind, k], axis=1)\n"
     ]
    },
    {
     "name": "stdout",
     "output_type": "stream",
     "text": [
      "{'left_shoulder': (0, 241.18267595245447, 13.817324047545517), 'right_shoulder': (0, 40.514853349701696, 214.4851466502983), 'left_elbow': (0, 212.22281509154615, 42.777184908453854), 'right_elbow': (0, 206.24752506596525, 48.752474934034765), 'left_leg_waist': (0, 115.10029497774913, 139.89970502225088), 'right_leg_waist': (0, 20.49485960343972, 234.50514039656028), 'left_knee': (0, 139.57420373572117, 115.42579626427884), 'right_knee': (0, 201.00382204468198, 53.996177955318025)}\n"
     ]
    },
    {
     "name": "stderr",
     "output_type": "stream",
     "text": [
      "d:\\projects\\YogaPoseDetect\\yoga_jupy\\env\\lib\\site-packages\\sklearn\\neighbors\\_classification.py:228: FutureWarning: Unlike other reduction functions (e.g. `skew`, `kurtosis`), the default behavior of `mode` typically preserves the axis it acts along. In SciPy 1.11.0, this behavior will change: the default value of `keepdims` will become False, the `axis` over which the statistic is taken will be eliminated, and the value None will no longer be accepted. Set `keepdims` to True or False to avoid this warning.\n",
      "  mode, _ = stats.mode(_y[neigh_ind, k], axis=1)\n"
     ]
    },
    {
     "name": "stdout",
     "output_type": "stream",
     "text": [
      "{'left_shoulder': (0, 222.8086284181751, 32.191371581824896), 'right_shoulder': (0, 78.22924157256064, 176.77075842743938), 'left_elbow': (0, 235.9542574502694, 19.04574254973059), 'right_elbow': (0, 207.54283974013467, 47.457160259865354), 'left_leg_waist': (0, 157.23435981810968, 97.76564018189033), 'right_leg_waist': (0, 31.86014845173399, 223.13985154826602), 'left_knee': (0, 177.37198192262474, 77.62801807737524), 'right_knee': (0, 200.23323240470907, 54.76676759529092)}\n"
     ]
    },
    {
     "name": "stderr",
     "output_type": "stream",
     "text": [
      "d:\\projects\\YogaPoseDetect\\yoga_jupy\\env\\lib\\site-packages\\sklearn\\neighbors\\_classification.py:228: FutureWarning: Unlike other reduction functions (e.g. `skew`, `kurtosis`), the default behavior of `mode` typically preserves the axis it acts along. In SciPy 1.11.0, this behavior will change: the default value of `keepdims` will become False, the `axis` over which the statistic is taken will be eliminated, and the value None will no longer be accepted. Set `keepdims` to True or False to avoid this warning.\n",
      "  mode, _ = stats.mode(_y[neigh_ind, k], axis=1)\n"
     ]
    },
    {
     "name": "stdout",
     "output_type": "stream",
     "text": [
      "{'left_shoulder': (0, 107.62329977992277, 147.37670022007723), 'right_shoulder': (0, 106.04545967950035, 148.95454032049963), 'left_elbow': (0, 172.13988158272, 82.86011841727999), 'right_elbow': (0, 114.6711163379592, 140.3288836620408), 'left_leg_waist': (0, 119.76424416883175, 135.23575583116826), 'right_leg_waist': (0, 133.65197279277845, 121.34802720722153), 'left_knee': (0, 202.7938493240991, 52.20615067590089), 'right_knee': (0, 196.58693004623606, 58.41306995376395)}\n"
     ]
    },
    {
     "name": "stderr",
     "output_type": "stream",
     "text": [
      "d:\\projects\\YogaPoseDetect\\yoga_jupy\\env\\lib\\site-packages\\sklearn\\neighbors\\_classification.py:228: FutureWarning: Unlike other reduction functions (e.g. `skew`, `kurtosis`), the default behavior of `mode` typically preserves the axis it acts along. In SciPy 1.11.0, this behavior will change: the default value of `keepdims` will become False, the `axis` over which the statistic is taken will be eliminated, and the value None will no longer be accepted. Set `keepdims` to True or False to avoid this warning.\n",
      "  mode, _ = stats.mode(_y[neigh_ind, k], axis=1)\n"
     ]
    },
    {
     "name": "stdout",
     "output_type": "stream",
     "text": [
      "{'left_shoulder': (0, 86.38173716283848, 168.61826283716152), 'right_shoulder': (0, 164.62231949211204, 90.37768050788794), 'left_elbow': (0, 251.38616087911197, 3.613839120888012), 'right_elbow': (0, 200.2088196860269, 54.79118031397309), 'left_leg_waist': (0, 142.0064809696156, 112.9935190303844), 'right_leg_waist': (0, 27.71646017733959, 227.2835398226604), 'left_knee': (0, 139.5098116238816, 115.4901883761184), 'right_knee': (0, 50.13896280707156, 204.86103719292845)}\n"
     ]
    },
    {
     "name": "stderr",
     "output_type": "stream",
     "text": [
      "d:\\projects\\YogaPoseDetect\\yoga_jupy\\env\\lib\\site-packages\\sklearn\\neighbors\\_classification.py:228: FutureWarning: Unlike other reduction functions (e.g. `skew`, `kurtosis`), the default behavior of `mode` typically preserves the axis it acts along. In SciPy 1.11.0, this behavior will change: the default value of `keepdims` will become False, the `axis` over which the statistic is taken will be eliminated, and the value None will no longer be accepted. Set `keepdims` to True or False to avoid this warning.\n",
      "  mode, _ = stats.mode(_y[neigh_ind, k], axis=1)\n"
     ]
    },
    {
     "name": "stdout",
     "output_type": "stream",
     "text": [
      "{'left_shoulder': (0, 171.34168396188622, 83.6583160381138), 'right_shoulder': (0, 186.9124119459033, 68.08758805409671), 'left_elbow': (0, 211.34445963111804, 43.65554036888196), 'right_elbow': (0, 214.74849887711397, 40.251501122886005), 'left_leg_waist': (0, 237.33549891011276, 17.664501089887228), 'right_leg_waist': (0, 230.84787033604175, 24.152129663958238), 'left_knee': (0, 230.45053407437837, 24.549465925621632), 'right_knee': (0, 203.74909140430944, 51.25090859569058)}\n"
     ]
    },
    {
     "name": "stderr",
     "output_type": "stream",
     "text": [
      "d:\\projects\\YogaPoseDetect\\yoga_jupy\\env\\lib\\site-packages\\sklearn\\neighbors\\_classification.py:228: FutureWarning: Unlike other reduction functions (e.g. `skew`, `kurtosis`), the default behavior of `mode` typically preserves the axis it acts along. In SciPy 1.11.0, this behavior will change: the default value of `keepdims` will become False, the `axis` over which the statistic is taken will be eliminated, and the value None will no longer be accepted. Set `keepdims` to True or False to avoid this warning.\n",
      "  mode, _ = stats.mode(_y[neigh_ind, k], axis=1)\n"
     ]
    },
    {
     "name": "stdout",
     "output_type": "stream",
     "text": [
      "{'left_shoulder': (0, 188.4445745535744, 66.55542544642562), 'right_shoulder': (0, 185.5467336064307, 69.45326639356928), 'left_elbow': (0, 215.13502297052625, 39.86497702947376), 'right_elbow': (0, 209.53942310034012, 45.46057689965988), 'left_leg_waist': (0, 235.3955231998363, 19.604476800163695), 'right_leg_waist': (0, 227.13373868093393, 27.86626131906607), 'left_knee': (0, 229.16120734814712, 25.838792651852906), 'right_knee': (0, 203.19228531115408, 51.80771468884593)}\n"
     ]
    },
    {
     "name": "stderr",
     "output_type": "stream",
     "text": [
      "d:\\projects\\YogaPoseDetect\\yoga_jupy\\env\\lib\\site-packages\\sklearn\\neighbors\\_classification.py:228: FutureWarning: Unlike other reduction functions (e.g. `skew`, `kurtosis`), the default behavior of `mode` typically preserves the axis it acts along. In SciPy 1.11.0, this behavior will change: the default value of `keepdims` will become False, the `axis` over which the statistic is taken will be eliminated, and the value None will no longer be accepted. Set `keepdims` to True or False to avoid this warning.\n",
      "  mode, _ = stats.mode(_y[neigh_ind, k], axis=1)\n"
     ]
    },
    {
     "name": "stdout",
     "output_type": "stream",
     "text": [
      "{'left_shoulder': (0, 157.15287009650984, 97.84712990349016), 'right_shoulder': (0, 184.82415981079305, 70.17584018920694), 'left_elbow': (0, 187.9600656775341, 67.03993432246592), 'right_elbow': (0, 124.36134791381673, 130.63865208618327), 'left_leg_waist': (0, 254.14364439051158, 0.8563556094884253), 'right_leg_waist': (0, 237.35770256533013, 17.642297434669857), 'left_knee': (0, 209.414759994837, 45.585240005163), 'right_knee': (0, 230.3248880949869, 24.675111905013086)}\n"
     ]
    },
    {
     "name": "stderr",
     "output_type": "stream",
     "text": [
      "d:\\projects\\YogaPoseDetect\\yoga_jupy\\env\\lib\\site-packages\\sklearn\\neighbors\\_classification.py:228: FutureWarning: Unlike other reduction functions (e.g. `skew`, `kurtosis`), the default behavior of `mode` typically preserves the axis it acts along. In SciPy 1.11.0, this behavior will change: the default value of `keepdims` will become False, the `axis` over which the statistic is taken will be eliminated, and the value None will no longer be accepted. Set `keepdims` to True or False to avoid this warning.\n",
      "  mode, _ = stats.mode(_y[neigh_ind, k], axis=1)\n"
     ]
    },
    {
     "name": "stdout",
     "output_type": "stream",
     "text": [
      "{'left_shoulder': (0, 107.60853182044102, 147.39146817955898), 'right_shoulder': (0, 191.27703071717855, 63.722969282821445), 'left_elbow': (0, 170.43244349005255, 84.56755650994745), 'right_elbow': (0, 226.20092113446083, 28.79907886553918), 'left_leg_waist': (0, 254.32543731018453, 0.6745626898154689), 'right_leg_waist': (0, 240.7317474682344, 14.26825253176561), 'left_knee': (0, 185.2298775707074, 69.77012242929257), 'right_knee': (0, 202.8875422591628, 52.11245774083721)}\n"
     ]
    },
    {
     "name": "stderr",
     "output_type": "stream",
     "text": [
      "d:\\projects\\YogaPoseDetect\\yoga_jupy\\env\\lib\\site-packages\\sklearn\\neighbors\\_classification.py:228: FutureWarning: Unlike other reduction functions (e.g. `skew`, `kurtosis`), the default behavior of `mode` typically preserves the axis it acts along. In SciPy 1.11.0, this behavior will change: the default value of `keepdims` will become False, the `axis` over which the statistic is taken will be eliminated, and the value None will no longer be accepted. Set `keepdims` to True or False to avoid this warning.\n",
      "  mode, _ = stats.mode(_y[neigh_ind, k], axis=1)\n"
     ]
    },
    {
     "name": "stdout",
     "output_type": "stream",
     "text": [
      "{'left_shoulder': (0, 159.256124767041, 95.74387523295898), 'right_shoulder': (0, 189.5560696313348, 65.4439303686652), 'left_elbow': (0, 210.0915739126628, 44.908426087337176), 'right_elbow': (0, 228.1134745501781, 26.886525449821878), 'left_leg_waist': (0, 239.17482828048537, 15.825171719514628), 'right_leg_waist': (0, 251.80560754770846, 3.1943924522915563), 'left_knee': (0, 226.8998721250749, 28.10012787492512), 'right_knee': (0, 206.28002097367647, 48.719979026323536)}\n"
     ]
    },
    {
     "name": "stderr",
     "output_type": "stream",
     "text": [
      "d:\\projects\\YogaPoseDetect\\yoga_jupy\\env\\lib\\site-packages\\sklearn\\neighbors\\_classification.py:228: FutureWarning: Unlike other reduction functions (e.g. `skew`, `kurtosis`), the default behavior of `mode` typically preserves the axis it acts along. In SciPy 1.11.0, this behavior will change: the default value of `keepdims` will become False, the `axis` over which the statistic is taken will be eliminated, and the value None will no longer be accepted. Set `keepdims` to True or False to avoid this warning.\n",
      "  mode, _ = stats.mode(_y[neigh_ind, k], axis=1)\n"
     ]
    },
    {
     "name": "stdout",
     "output_type": "stream",
     "text": [
      "{'left_shoulder': (0, 180.33844146517706, 74.66155853482293), 'right_shoulder': (0, 199.42429199394428, 55.575708006055734), 'left_elbow': (0, 245.70709143221222, 9.292908567787755), 'right_elbow': (0, 233.24400748439297, 21.75599251560702), 'left_leg_waist': (0, 237.1695521083302, 17.830447891669774), 'right_leg_waist': (0, 233.94579797341936, 21.05420202658065), 'left_knee': (0, 224.6813951290708, 30.318604870929196), 'right_knee': (0, 206.43405862460088, 48.565941375399106)}\n"
     ]
    },
    {
     "name": "stderr",
     "output_type": "stream",
     "text": [
      "d:\\projects\\YogaPoseDetect\\yoga_jupy\\env\\lib\\site-packages\\sklearn\\neighbors\\_classification.py:228: FutureWarning: Unlike other reduction functions (e.g. `skew`, `kurtosis`), the default behavior of `mode` typically preserves the axis it acts along. In SciPy 1.11.0, this behavior will change: the default value of `keepdims` will become False, the `axis` over which the statistic is taken will be eliminated, and the value None will no longer be accepted. Set `keepdims` to True or False to avoid this warning.\n",
      "  mode, _ = stats.mode(_y[neigh_ind, k], axis=1)\n"
     ]
    },
    {
     "name": "stdout",
     "output_type": "stream",
     "text": [
      "{'left_shoulder': (0, 173.50362910613802, 81.49637089386198), 'right_shoulder': (0, 227.6919287997977, 27.308071200202296), 'left_elbow': (0, 187.7371398443564, 67.26286015564361), 'right_elbow': (0, 243.44172179825875, 11.558278201741254), 'left_leg_waist': (0, 233.87606002294189, 21.12393997705813), 'right_leg_waist': (0, 241.7554384958896, 13.244561504110408), 'left_knee': (0, 212.28407955509354, 42.715920444906445), 'right_knee': (0, 213.0749626053974, 41.925037394602604)}\n"
     ]
    },
    {
     "name": "stderr",
     "output_type": "stream",
     "text": [
      "d:\\projects\\YogaPoseDetect\\yoga_jupy\\env\\lib\\site-packages\\sklearn\\neighbors\\_classification.py:228: FutureWarning: Unlike other reduction functions (e.g. `skew`, `kurtosis`), the default behavior of `mode` typically preserves the axis it acts along. In SciPy 1.11.0, this behavior will change: the default value of `keepdims` will become False, the `axis` over which the statistic is taken will be eliminated, and the value None will no longer be accepted. Set `keepdims` to True or False to avoid this warning.\n",
      "  mode, _ = stats.mode(_y[neigh_ind, k], axis=1)\n"
     ]
    },
    {
     "name": "stdout",
     "output_type": "stream",
     "text": [
      "{'left_shoulder': (0, 228.22345181950752, 26.77654818049249), 'right_shoulder': (0, 214.91283691365226, 40.08716308634774), 'left_elbow': (0, 254.20006372827729, 0.7999362717227112), 'right_elbow': (0, 81.27955200886836, 173.72044799113164), 'left_leg_waist': (0, 250.72709810902754, 4.272901890972468), 'right_leg_waist': (0, 214.68527794680995, 40.31472205319005), 'left_knee': (0, 222.4921263119514, 32.5078736880486), 'right_knee': (0, 229.70420477220222, 25.2957952277978)}\n"
     ]
    },
    {
     "name": "stderr",
     "output_type": "stream",
     "text": [
      "d:\\projects\\YogaPoseDetect\\yoga_jupy\\env\\lib\\site-packages\\sklearn\\neighbors\\_classification.py:228: FutureWarning: Unlike other reduction functions (e.g. `skew`, `kurtosis`), the default behavior of `mode` typically preserves the axis it acts along. In SciPy 1.11.0, this behavior will change: the default value of `keepdims` will become False, the `axis` over which the statistic is taken will be eliminated, and the value None will no longer be accepted. Set `keepdims` to True or False to avoid this warning.\n",
      "  mode, _ = stats.mode(_y[neigh_ind, k], axis=1)\n"
     ]
    },
    {
     "name": "stdout",
     "output_type": "stream",
     "text": [
      "{'left_shoulder': (0, 241.34257509133417, 13.657424908665842), 'right_shoulder': (0, 213.24297302201208, 41.757026977987906), 'left_elbow': (0, 233.1690654164247, 21.8309345835753), 'right_elbow': (0, 90.29066211170176, 164.70933788829825), 'left_leg_waist': (0, 236.4276459415852, 18.572354058414774), 'right_leg_waist': (0, 229.72464455266103, 25.275355447338978), 'left_knee': (0, 228.84037201600762, 26.15962798399236), 'right_knee': (0, 218.4134845378713, 36.58651546212868)}\n"
     ]
    },
    {
     "name": "stderr",
     "output_type": "stream",
     "text": [
      "d:\\projects\\YogaPoseDetect\\yoga_jupy\\env\\lib\\site-packages\\sklearn\\neighbors\\_classification.py:228: FutureWarning: Unlike other reduction functions (e.g. `skew`, `kurtosis`), the default behavior of `mode` typically preserves the axis it acts along. In SciPy 1.11.0, this behavior will change: the default value of `keepdims` will become False, the `axis` over which the statistic is taken will be eliminated, and the value None will no longer be accepted. Set `keepdims` to True or False to avoid this warning.\n",
      "  mode, _ = stats.mode(_y[neigh_ind, k], axis=1)\n"
     ]
    },
    {
     "name": "stdout",
     "output_type": "stream",
     "text": [
      "{'left_shoulder': (0, 194.03700388232957, 60.96299611767042), 'right_shoulder': (0, 126.7225514220388, 128.2774485779612), 'left_elbow': (0, 168.52820142362583, 86.47179857637418), 'right_elbow': (0, 187.52443289469076, 67.47556710530924), 'left_leg_waist': (0, 211.97247362919046, 43.02752637080955), 'right_leg_waist': (0, 213.40493351495869, 41.59506648504132), 'left_knee': (0, 193.69830773414418, 61.30169226585581), 'right_knee': (0, 218.5272725598438, 36.4727274401562)}\n"
     ]
    },
    {
     "name": "stderr",
     "output_type": "stream",
     "text": [
      "d:\\projects\\YogaPoseDetect\\yoga_jupy\\env\\lib\\site-packages\\sklearn\\neighbors\\_classification.py:228: FutureWarning: Unlike other reduction functions (e.g. `skew`, `kurtosis`), the default behavior of `mode` typically preserves the axis it acts along. In SciPy 1.11.0, this behavior will change: the default value of `keepdims` will become False, the `axis` over which the statistic is taken will be eliminated, and the value None will no longer be accepted. Set `keepdims` to True or False to avoid this warning.\n",
      "  mode, _ = stats.mode(_y[neigh_ind, k], axis=1)\n"
     ]
    },
    {
     "name": "stdout",
     "output_type": "stream",
     "text": [
      "{'left_shoulder': (0, 132.24296283791153, 122.75703716208847), 'right_shoulder': (0, 168.42035022336123, 86.57964977663877), 'left_elbow': (0, 237.50421919466345, 17.495780805336544), 'right_elbow': (0, 246.61390024953988, 8.386099750460112), 'left_leg_waist': (0, 197.70912001496853, 57.29087998503146), 'right_leg_waist': (0, 221.93592820287353, 33.06407179712648), 'left_knee': (0, 112.85408323208988, 142.14591676791014), 'right_knee': (0, 213.18769806947475, 41.81230193052524)}\n"
     ]
    },
    {
     "name": "stderr",
     "output_type": "stream",
     "text": [
      "d:\\projects\\YogaPoseDetect\\yoga_jupy\\env\\lib\\site-packages\\sklearn\\neighbors\\_classification.py:228: FutureWarning: Unlike other reduction functions (e.g. `skew`, `kurtosis`), the default behavior of `mode` typically preserves the axis it acts along. In SciPy 1.11.0, this behavior will change: the default value of `keepdims` will become False, the `axis` over which the statistic is taken will be eliminated, and the value None will no longer be accepted. Set `keepdims` to True or False to avoid this warning.\n",
      "  mode, _ = stats.mode(_y[neigh_ind, k], axis=1)\n"
     ]
    },
    {
     "name": "stdout",
     "output_type": "stream",
     "text": [
      "{'left_shoulder': (0, 253.92888180613707, 1.0711181938629453), 'right_shoulder': (0, 227.4336671973261, 27.566332802673916), 'left_elbow': (0, 231.75256110825268, 23.247438891747304), 'right_elbow': (0, 165.909600799224, 89.090399200776), 'left_leg_waist': (0, 193.11273449216316, 61.887265507836865), 'right_leg_waist': (0, 208.23862269801333, 46.76137730198666), 'left_knee': (0, 179.5357455174904, 75.46425448250959), 'right_knee': (0, 221.04751612219653, 33.95248387780348)}\n"
     ]
    },
    {
     "name": "stderr",
     "output_type": "stream",
     "text": [
      "d:\\projects\\YogaPoseDetect\\yoga_jupy\\env\\lib\\site-packages\\sklearn\\neighbors\\_classification.py:228: FutureWarning: Unlike other reduction functions (e.g. `skew`, `kurtosis`), the default behavior of `mode` typically preserves the axis it acts along. In SciPy 1.11.0, this behavior will change: the default value of `keepdims` will become False, the `axis` over which the statistic is taken will be eliminated, and the value None will no longer be accepted. Set `keepdims` to True or False to avoid this warning.\n",
      "  mode, _ = stats.mode(_y[neigh_ind, k], axis=1)\n"
     ]
    },
    {
     "name": "stdout",
     "output_type": "stream",
     "text": [
      "{'left_shoulder': (0, 230.27997258534674, 24.72002741465326), 'right_shoulder': (0, 218.26815774104645, 36.731842258953556), 'left_elbow': (0, 240.6534495011018, 14.346550498898212), 'right_elbow': (0, 85.8871283044783, 169.1128716955217), 'left_leg_waist': (0, 238.02414772247434, 16.975852277525664), 'right_leg_waist': (0, 194.81486290538376, 60.18513709461622), 'left_knee': (0, 230.0759226779632, 24.924077322036798), 'right_knee': (0, 230.14458566256837, 24.85541433743163)}\n"
     ]
    },
    {
     "name": "stderr",
     "output_type": "stream",
     "text": [
      "d:\\projects\\YogaPoseDetect\\yoga_jupy\\env\\lib\\site-packages\\sklearn\\neighbors\\_classification.py:228: FutureWarning: Unlike other reduction functions (e.g. `skew`, `kurtosis`), the default behavior of `mode` typically preserves the axis it acts along. In SciPy 1.11.0, this behavior will change: the default value of `keepdims` will become False, the `axis` over which the statistic is taken will be eliminated, and the value None will no longer be accepted. Set `keepdims` to True or False to avoid this warning.\n",
      "  mode, _ = stats.mode(_y[neigh_ind, k], axis=1)\n"
     ]
    },
    {
     "name": "stdout",
     "output_type": "stream",
     "text": [
      "{'left_shoulder': (0, 185.2060258491826, 69.79397415081743), 'right_shoulder': (0, 101.64776140184468, 153.35223859815534), 'left_elbow': (0, 107.91401644232049, 147.08598355767953), 'right_elbow': (0, 238.72182509471907, 16.27817490528093), 'left_leg_waist': (0, 125.56353841054924, 129.43646158945077), 'right_leg_waist': (0, 68.61725764423636, 186.38274235576364), 'left_knee': (0, 123.7937123450945, 131.2062876549055), 'right_knee': (0, 55.834539199291505, 199.1654608007085)}\n"
     ]
    },
    {
     "name": "stderr",
     "output_type": "stream",
     "text": [
      "d:\\projects\\YogaPoseDetect\\yoga_jupy\\env\\lib\\site-packages\\sklearn\\neighbors\\_classification.py:228: FutureWarning: Unlike other reduction functions (e.g. `skew`, `kurtosis`), the default behavior of `mode` typically preserves the axis it acts along. In SciPy 1.11.0, this behavior will change: the default value of `keepdims` will become False, the `axis` over which the statistic is taken will be eliminated, and the value None will no longer be accepted. Set `keepdims` to True or False to avoid this warning.\n",
      "  mode, _ = stats.mode(_y[neigh_ind, k], axis=1)\n"
     ]
    },
    {
     "name": "stdout",
     "output_type": "stream",
     "text": [
      "{'left_shoulder': (0, 141.52997631595233, 113.47002368404767), 'right_shoulder': (0, 110.17805480161415, 144.82194519838583), 'left_elbow': (0, 194.36840238673742, 60.63159761326258), 'right_elbow': (0, 215.01822432416176, 39.981775675838236), 'left_leg_waist': (0, 52.42374799830866, 202.57625200169133), 'right_leg_waist': (0, 216.0922371963854, 38.90776280361458), 'left_knee': (0, 138.59608102708654, 116.40391897291346), 'right_knee': (0, 210.13387747872835, 44.86612252127163)}\n"
     ]
    },
    {
     "name": "stderr",
     "output_type": "stream",
     "text": [
      "d:\\projects\\YogaPoseDetect\\yoga_jupy\\env\\lib\\site-packages\\sklearn\\neighbors\\_classification.py:228: FutureWarning: Unlike other reduction functions (e.g. `skew`, `kurtosis`), the default behavior of `mode` typically preserves the axis it acts along. In SciPy 1.11.0, this behavior will change: the default value of `keepdims` will become False, the `axis` over which the statistic is taken will be eliminated, and the value None will no longer be accepted. Set `keepdims` to True or False to avoid this warning.\n",
      "  mode, _ = stats.mode(_y[neigh_ind, k], axis=1)\n"
     ]
    },
    {
     "name": "stdout",
     "output_type": "stream",
     "text": [
      "{'left_shoulder': (0, 146.73433151479816, 108.26566848520183), 'right_shoulder': (0, 53.52594606682293, 201.47405393317706), 'left_elbow': (0, 176.60849428627756, 78.39150571372241), 'right_elbow': (0, 217.96798286417365, 37.03201713582635), 'left_leg_waist': (0, 65.424845238967, 189.575154761033), 'right_leg_waist': (0, 253.20883461402735, 1.7911653859726717), 'left_knee': (0, 154.30899755715183, 100.69100244284817), 'right_knee': (0, 226.40452121540704, 28.595478784592977)}\n"
     ]
    },
    {
     "name": "stderr",
     "output_type": "stream",
     "text": [
      "d:\\projects\\YogaPoseDetect\\yoga_jupy\\env\\lib\\site-packages\\sklearn\\neighbors\\_classification.py:228: FutureWarning: Unlike other reduction functions (e.g. `skew`, `kurtosis`), the default behavior of `mode` typically preserves the axis it acts along. In SciPy 1.11.0, this behavior will change: the default value of `keepdims` will become False, the `axis` over which the statistic is taken will be eliminated, and the value None will no longer be accepted. Set `keepdims` to True or False to avoid this warning.\n",
      "  mode, _ = stats.mode(_y[neigh_ind, k], axis=1)\n"
     ]
    },
    {
     "name": "stdout",
     "output_type": "stream",
     "text": [
      "{'left_shoulder': (0, 219.7187520849249, 35.28124791507511), 'right_shoulder': (0, 170.27073902089964, 84.72926097910037), 'left_elbow': (0, 225.45805354155547, 29.541946458444528), 'right_elbow': (0, 200.74576316857983, 54.25423683142018), 'left_leg_waist': (0, 185.56657187904318, 69.4334281209568), 'right_leg_waist': (0, 126.61968762672313, 128.38031237327687), 'left_knee': (0, 63.11651807773358, 191.8834819222664), 'right_knee': (0, 168.71305818652772, 86.28694181347228)}\n"
     ]
    },
    {
     "name": "stderr",
     "output_type": "stream",
     "text": [
      "d:\\projects\\YogaPoseDetect\\yoga_jupy\\env\\lib\\site-packages\\sklearn\\neighbors\\_classification.py:228: FutureWarning: Unlike other reduction functions (e.g. `skew`, `kurtosis`), the default behavior of `mode` typically preserves the axis it acts along. In SciPy 1.11.0, this behavior will change: the default value of `keepdims` will become False, the `axis` over which the statistic is taken will be eliminated, and the value None will no longer be accepted. Set `keepdims` to True or False to avoid this warning.\n",
      "  mode, _ = stats.mode(_y[neigh_ind, k], axis=1)\n"
     ]
    },
    {
     "name": "stdout",
     "output_type": "stream",
     "text": [
      "{'left_shoulder': (0, 165.0459673041272, 89.9540326958728), 'right_shoulder': (0, 214.54568434623724, 40.45431565376277), 'left_elbow': (0, 187.02057632908208, 67.97942367091794), 'right_elbow': (0, 219.91641020209366, 35.08358979790636), 'left_leg_waist': (0, 253.66740931501008, 1.3325906849899314), 'right_leg_waist': (0, 240.40277113663876, 14.597228863361227), 'left_knee': (0, 195.320369264002, 59.679630735997996), 'right_knee': (0, 212.54105646208237, 42.45894353791763)}\n"
     ]
    },
    {
     "name": "stderr",
     "output_type": "stream",
     "text": [
      "d:\\projects\\YogaPoseDetect\\yoga_jupy\\env\\lib\\site-packages\\sklearn\\neighbors\\_classification.py:228: FutureWarning: Unlike other reduction functions (e.g. `skew`, `kurtosis`), the default behavior of `mode` typically preserves the axis it acts along. In SciPy 1.11.0, this behavior will change: the default value of `keepdims` will become False, the `axis` over which the statistic is taken will be eliminated, and the value None will no longer be accepted. Set `keepdims` to True or False to avoid this warning.\n",
      "  mode, _ = stats.mode(_y[neigh_ind, k], axis=1)\n"
     ]
    },
    {
     "name": "stdout",
     "output_type": "stream",
     "text": [
      "{'left_shoulder': (0, 158.23933383801491, 96.76066616198506), 'right_shoulder': (0, 104.06723222529013, 150.93276777470987), 'left_elbow': (0, 187.19332016949465, 67.80667983050535), 'right_elbow': (0, 187.08398837399116, 67.91601162600884), 'left_leg_waist': (0, 61.27623009070443, 193.72376990929558), 'right_leg_waist': (0, 214.60250475520513, 40.39749524479486), 'left_knee': (0, 116.27691554760798, 138.72308445239202), 'right_knee': (0, 223.89619762452446, 31.103802375475535)}\n"
     ]
    },
    {
     "name": "stderr",
     "output_type": "stream",
     "text": [
      "d:\\projects\\YogaPoseDetect\\yoga_jupy\\env\\lib\\site-packages\\sklearn\\neighbors\\_classification.py:228: FutureWarning: Unlike other reduction functions (e.g. `skew`, `kurtosis`), the default behavior of `mode` typically preserves the axis it acts along. In SciPy 1.11.0, this behavior will change: the default value of `keepdims` will become False, the `axis` over which the statistic is taken will be eliminated, and the value None will no longer be accepted. Set `keepdims` to True or False to avoid this warning.\n",
      "  mode, _ = stats.mode(_y[neigh_ind, k], axis=1)\n"
     ]
    },
    {
     "name": "stdout",
     "output_type": "stream",
     "text": [
      "{'left_shoulder': (0, 152.2543663187977, 102.74563368120232), 'right_shoulder': (0, 37.440342289670006, 217.55965771033), 'left_elbow': (0, 183.87619311527237, 71.12380688472766), 'right_elbow': (0, 199.48843141603126, 55.511568583968725), 'left_leg_waist': (0, 63.26930130484951, 191.7306986951505), 'right_leg_waist': (0, 235.5471981278461, 19.45280187215393), 'left_knee': (0, 166.81379713742558, 88.18620286257442), 'right_knee': (0, 215.56340493571219, 39.43659506428782)}\n"
     ]
    },
    {
     "name": "stderr",
     "output_type": "stream",
     "text": [
      "d:\\projects\\YogaPoseDetect\\yoga_jupy\\env\\lib\\site-packages\\sklearn\\neighbors\\_classification.py:228: FutureWarning: Unlike other reduction functions (e.g. `skew`, `kurtosis`), the default behavior of `mode` typically preserves the axis it acts along. In SciPy 1.11.0, this behavior will change: the default value of `keepdims` will become False, the `axis` over which the statistic is taken will be eliminated, and the value None will no longer be accepted. Set `keepdims` to True or False to avoid this warning.\n",
      "  mode, _ = stats.mode(_y[neigh_ind, k], axis=1)\n"
     ]
    },
    {
     "name": "stdout",
     "output_type": "stream",
     "text": [
      "{'left_shoulder': (0, 39.73361192743497, 215.26638807256504), 'right_shoulder': (0, 185.96480195221386, 69.03519804778614), 'left_elbow': (0, 207.88430945426788, 47.115690545732114), 'right_elbow': (0, 229.07353119746116, 25.926468802538842), 'left_leg_waist': (0, 110.33361075940198, 144.66638924059802), 'right_leg_waist': (0, 187.0007727158423, 67.9992272841577), 'left_knee': (0, 102.49268636918949, 152.50731363081053), 'right_knee': (0, 116.47471840546129, 138.5252815945387)}\n"
     ]
    },
    {
     "name": "stderr",
     "output_type": "stream",
     "text": [
      "d:\\projects\\YogaPoseDetect\\yoga_jupy\\env\\lib\\site-packages\\sklearn\\neighbors\\_classification.py:228: FutureWarning: Unlike other reduction functions (e.g. `skew`, `kurtosis`), the default behavior of `mode` typically preserves the axis it acts along. In SciPy 1.11.0, this behavior will change: the default value of `keepdims` will become False, the `axis` over which the statistic is taken will be eliminated, and the value None will no longer be accepted. Set `keepdims` to True or False to avoid this warning.\n",
      "  mode, _ = stats.mode(_y[neigh_ind, k], axis=1)\n"
     ]
    },
    {
     "name": "stdout",
     "output_type": "stream",
     "text": [
      "{'left_shoulder': (0, 212.32934108131982, 42.67065891868018), 'right_shoulder': (0, 64.47309525476076, 190.52690474523922), 'left_elbow': (0, 215.79756115665583, 39.20243884334419), 'right_elbow': (0, 240.7820530114807, 14.217946988519271), 'left_leg_waist': (0, 210.15938299660166, 44.84061700339836), 'right_leg_waist': (0, 173.33680414458513, 81.66319585541486), 'left_knee': (0, 231.41116098420878, 23.58883901579123), 'right_knee': (0, 219.50790440100377, 35.49209559899623)}\n"
     ]
    },
    {
     "name": "stderr",
     "output_type": "stream",
     "text": [
      "d:\\projects\\YogaPoseDetect\\yoga_jupy\\env\\lib\\site-packages\\sklearn\\neighbors\\_classification.py:228: FutureWarning: Unlike other reduction functions (e.g. `skew`, `kurtosis`), the default behavior of `mode` typically preserves the axis it acts along. In SciPy 1.11.0, this behavior will change: the default value of `keepdims` will become False, the `axis` over which the statistic is taken will be eliminated, and the value None will no longer be accepted. Set `keepdims` to True or False to avoid this warning.\n",
      "  mode, _ = stats.mode(_y[neigh_ind, k], axis=1)\n"
     ]
    },
    {
     "name": "stdout",
     "output_type": "stream",
     "text": [
      "{'left_shoulder': (0, 151.1574413485722, 103.8425586514278), 'right_shoulder': (0, 47.22857699833817, 207.77142300166182), 'left_elbow': (0, 202.6629751264534, 52.33702487354658), 'right_elbow': (0, 204.93673638496026, 50.06326361503975), 'left_leg_waist': (0, 116.31850646434995, 138.68149353565005), 'right_leg_waist': (0, 185.7396931442181, 69.26030685578188), 'left_knee': (0, 106.47284236332929, 148.5271576366707), 'right_knee': (0, 173.6225301610387, 81.3774698389613)}\n"
     ]
    },
    {
     "name": "stderr",
     "output_type": "stream",
     "text": [
      "d:\\projects\\YogaPoseDetect\\yoga_jupy\\env\\lib\\site-packages\\sklearn\\neighbors\\_classification.py:228: FutureWarning: Unlike other reduction functions (e.g. `skew`, `kurtosis`), the default behavior of `mode` typically preserves the axis it acts along. In SciPy 1.11.0, this behavior will change: the default value of `keepdims` will become False, the `axis` over which the statistic is taken will be eliminated, and the value None will no longer be accepted. Set `keepdims` to True or False to avoid this warning.\n",
      "  mode, _ = stats.mode(_y[neigh_ind, k], axis=1)\n"
     ]
    },
    {
     "name": "stdout",
     "output_type": "stream",
     "text": [
      "{'left_shoulder': (0, 172.571243118121, 82.42875688187897), 'right_shoulder': (0, 24.63701387446219, 230.36298612553782), 'left_elbow': (0, 145.46366449487667, 109.53633550512332), 'right_elbow': (0, 182.84379463410988, 72.15620536589012), 'left_leg_waist': (0, 248.529742947876, 6.470257052123997), 'right_leg_waist': (0, 249.7360902302018, 5.263909769798207), 'left_knee': (0, 203.3090729244755, 51.69092707552449), 'right_knee': (0, 203.02310191972745, 51.97689808027254)}\n"
     ]
    },
    {
     "name": "stderr",
     "output_type": "stream",
     "text": [
      "d:\\projects\\YogaPoseDetect\\yoga_jupy\\env\\lib\\site-packages\\sklearn\\neighbors\\_classification.py:228: FutureWarning: Unlike other reduction functions (e.g. `skew`, `kurtosis`), the default behavior of `mode` typically preserves the axis it acts along. In SciPy 1.11.0, this behavior will change: the default value of `keepdims` will become False, the `axis` over which the statistic is taken will be eliminated, and the value None will no longer be accepted. Set `keepdims` to True or False to avoid this warning.\n",
      "  mode, _ = stats.mode(_y[neigh_ind, k], axis=1)\n"
     ]
    },
    {
     "name": "stdout",
     "output_type": "stream",
     "text": [
      "{'left_shoulder': (0, 243.83678728427566, 11.163212715724356), 'right_shoulder': (0, 207.6265333637089, 47.37346663629112), 'left_elbow': (0, 187.63779947243276, 67.36220052756724), 'right_elbow': (0, 243.03047113684343, 11.96952886315656), 'left_leg_waist': (0, 126.09189505558038, 128.90810494441962), 'right_leg_waist': (0, 78.12020573959956, 176.87979426040044), 'left_knee': (0, 252.7635528232164, 2.236447176783596), 'right_knee': (0, 247.82039638268037, 7.179603617319617)}\n"
     ]
    },
    {
     "name": "stderr",
     "output_type": "stream",
     "text": [
      "d:\\projects\\YogaPoseDetect\\yoga_jupy\\env\\lib\\site-packages\\sklearn\\neighbors\\_classification.py:228: FutureWarning: Unlike other reduction functions (e.g. `skew`, `kurtosis`), the default behavior of `mode` typically preserves the axis it acts along. In SciPy 1.11.0, this behavior will change: the default value of `keepdims` will become False, the `axis` over which the statistic is taken will be eliminated, and the value None will no longer be accepted. Set `keepdims` to True or False to avoid this warning.\n",
      "  mode, _ = stats.mode(_y[neigh_ind, k], axis=1)\n"
     ]
    },
    {
     "name": "stdout",
     "output_type": "stream",
     "text": [
      "{'left_shoulder': (0, 134.07149689803475, 120.92850310196523), 'right_shoulder': (0, 170.5169603280089, 84.48303967199108), 'left_elbow': (0, 197.08619995950656, 57.91380004049345), 'right_elbow': (0, 191.9481088596303, 63.0518911403697), 'left_leg_waist': (0, 231.62127443634103, 23.378725563658982), 'right_leg_waist': (0, 205.75670773568086, 49.24329226431916), 'left_knee': (0, 220.937509457326, 34.062490542674), 'right_knee': (0, 210.96287459870345, 44.03712540129654)}\n"
     ]
    }
   ],
   "source": [
    "start_vid(10)"
   ]
  }
 ],
 "metadata": {
  "kernelspec": {
   "display_name": "Python 3.9.10 ('env': venv)",
   "language": "python",
   "name": "python3"
  },
  "language_info": {
   "codemirror_mode": {
    "name": "ipython",
    "version": 3
   },
   "file_extension": ".py",
   "mimetype": "text/x-python",
   "name": "python",
   "nbconvert_exporter": "python",
   "pygments_lexer": "ipython3",
   "version": "3.9.10"
  },
  "orig_nbformat": 4,
  "vscode": {
   "interpreter": {
    "hash": "d352b7b89aefcf18acc8ab37af57672aecbd752547159b9bed95f47d44296c9c"
   }
  }
 },
 "nbformat": 4,
 "nbformat_minor": 2
}
