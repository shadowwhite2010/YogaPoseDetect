{
  "nbformat": 4,
  "nbformat_minor": 0,
  "metadata": {
    "colab": {
      "provenance": []
    },
    "kernelspec": {
      "display_name": "Python 3",
      "language": "python",
      "name": "python3"
    },
    "language_info": {
      "codemirror_mode": {
        "name": "ipython",
        "version": 3
      },
      "file_extension": ".py",
      "mimetype": "text/x-python",
      "name": "python",
      "nbconvert_exporter": "python",
      "pygments_lexer": "ipython3",
      "version": "3.8.3"
    }
  },
  "cells": [
    {
      "cell_type": "markdown",
      "source": [
        "## Install Requirements"
      ],
      "metadata": {
        "id": "_vWsbIRdx9iz"
      }
    },
    {
      "cell_type": "code",
      "metadata": {
        "id": "TpZrq2Ktsgdu",
        "colab": {
          "base_uri": "https://localhost:8080/"
        },
        "outputId": "b7df9084-3aea-4e94-ced0-19f016375198"
      },
      "source": [
        "!pip install numpy\n",
        "!pip install opencv-python\n",
        "!pip install tqdm\n",
        "!pip install Kaggle\n",
        "!pip install mediapipe\n",
        "# !pip install mediapipe==0.8.9"
      ],
      "execution_count": 1,
      "outputs": [
        {
          "output_type": "stream",
          "name": "stdout",
          "text": [
            "Looking in indexes: https://pypi.org/simple, https://us-python.pkg.dev/colab-wheels/public/simple/\n",
            "Requirement already satisfied: numpy in /usr/local/lib/python3.8/dist-packages (1.21.6)\n",
            "Looking in indexes: https://pypi.org/simple, https://us-python.pkg.dev/colab-wheels/public/simple/\n",
            "Requirement already satisfied: opencv-python in /usr/local/lib/python3.8/dist-packages (4.6.0.66)\n",
            "Requirement already satisfied: numpy>=1.14.5 in /usr/local/lib/python3.8/dist-packages (from opencv-python) (1.21.6)\n",
            "Looking in indexes: https://pypi.org/simple, https://us-python.pkg.dev/colab-wheels/public/simple/\n",
            "Requirement already satisfied: tqdm in /usr/local/lib/python3.8/dist-packages (4.64.1)\n",
            "Looking in indexes: https://pypi.org/simple, https://us-python.pkg.dev/colab-wheels/public/simple/\n",
            "Requirement already satisfied: Kaggle in /usr/local/lib/python3.8/dist-packages (1.5.12)\n",
            "Requirement already satisfied: python-dateutil in /usr/local/lib/python3.8/dist-packages (from Kaggle) (2.8.2)\n",
            "Requirement already satisfied: requests in /usr/local/lib/python3.8/dist-packages (from Kaggle) (2.23.0)\n",
            "Requirement already satisfied: urllib3 in /usr/local/lib/python3.8/dist-packages (from Kaggle) (1.24.3)\n",
            "Requirement already satisfied: python-slugify in /usr/local/lib/python3.8/dist-packages (from Kaggle) (7.0.0)\n",
            "Requirement already satisfied: certifi in /usr/local/lib/python3.8/dist-packages (from Kaggle) (2022.9.24)\n",
            "Requirement already satisfied: tqdm in /usr/local/lib/python3.8/dist-packages (from Kaggle) (4.64.1)\n",
            "Requirement already satisfied: six>=1.10 in /usr/local/lib/python3.8/dist-packages (from Kaggle) (1.15.0)\n",
            "Requirement already satisfied: text-unidecode>=1.3 in /usr/local/lib/python3.8/dist-packages (from python-slugify->Kaggle) (1.3)\n",
            "Requirement already satisfied: chardet<4,>=3.0.2 in /usr/local/lib/python3.8/dist-packages (from requests->Kaggle) (3.0.4)\n",
            "Requirement already satisfied: idna<3,>=2.5 in /usr/local/lib/python3.8/dist-packages (from requests->Kaggle) (2.10)\n",
            "Looking in indexes: https://pypi.org/simple, https://us-python.pkg.dev/colab-wheels/public/simple/\n",
            "Collecting mediapipe\n",
            "  Downloading mediapipe-0.9.0-cp38-cp38-manylinux_2_17_x86_64.manylinux2014_x86_64.whl (33.0 MB)\n",
            "\u001b[K     |████████████████████████████████| 33.0 MB 133.9 MB/s \n",
            "\u001b[?25hCollecting flatbuffers>=2.0\n",
            "  Downloading flatbuffers-22.11.23-py2.py3-none-any.whl (26 kB)\n",
            "Requirement already satisfied: protobuf<4,>=3.11 in /usr/local/lib/python3.8/dist-packages (from mediapipe) (3.19.6)\n",
            "Requirement already satisfied: attrs>=19.1.0 in /usr/local/lib/python3.8/dist-packages (from mediapipe) (22.1.0)\n",
            "Requirement already satisfied: opencv-contrib-python in /usr/local/lib/python3.8/dist-packages (from mediapipe) (4.6.0.66)\n",
            "Requirement already satisfied: numpy in /usr/local/lib/python3.8/dist-packages (from mediapipe) (1.21.6)\n",
            "Requirement already satisfied: absl-py in /usr/local/lib/python3.8/dist-packages (from mediapipe) (1.3.0)\n",
            "Requirement already satisfied: matplotlib in /usr/local/lib/python3.8/dist-packages (from mediapipe) (3.2.2)\n",
            "Requirement already satisfied: kiwisolver>=1.0.1 in /usr/local/lib/python3.8/dist-packages (from matplotlib->mediapipe) (1.4.4)\n",
            "Requirement already satisfied: cycler>=0.10 in /usr/local/lib/python3.8/dist-packages (from matplotlib->mediapipe) (0.11.0)\n",
            "Requirement already satisfied: pyparsing!=2.0.4,!=2.1.2,!=2.1.6,>=2.0.1 in /usr/local/lib/python3.8/dist-packages (from matplotlib->mediapipe) (3.0.9)\n",
            "Requirement already satisfied: python-dateutil>=2.1 in /usr/local/lib/python3.8/dist-packages (from matplotlib->mediapipe) (2.8.2)\n",
            "Requirement already satisfied: six>=1.5 in /usr/local/lib/python3.8/dist-packages (from python-dateutil>=2.1->matplotlib->mediapipe) (1.15.0)\n",
            "Installing collected packages: flatbuffers, mediapipe\n",
            "  Attempting uninstall: flatbuffers\n",
            "    Found existing installation: flatbuffers 1.12\n",
            "    Uninstalling flatbuffers-1.12:\n",
            "      Successfully uninstalled flatbuffers-1.12\n",
            "\u001b[31mERROR: pip's dependency resolver does not currently take into account all the packages that are installed. This behaviour is the source of the following dependency conflicts.\n",
            "tensorflow 2.9.2 requires flatbuffers<2,>=1.12, but you have flatbuffers 22.11.23 which is incompatible.\u001b[0m\n",
            "Successfully installed flatbuffers-22.11.23 mediapipe-0.9.0\n"
          ]
        }
      ]
    },
    {
      "cell_type": "markdown",
      "source": [
        "##mount the google drive"
      ],
      "metadata": {
        "id": "gP9O1iSQ3ClQ"
      }
    },
    {
      "cell_type": "code",
      "metadata": {
        "id": "3-zrnt6TbcQd",
        "colab": {
          "base_uri": "https://localhost:8080/"
        },
        "outputId": "c88658d9-0d64-43fe-d6d3-029bf40991ed"
      },
      "source": [
        "from google.colab import drive\n",
        "drive.mount('/content/drive')"
      ],
      "execution_count": 2,
      "outputs": [
        {
          "output_type": "stream",
          "name": "stdout",
          "text": [
            "Mounted at /content/drive\n"
          ]
        }
      ]
    },
    {
      "cell_type": "markdown",
      "source": [
        "##import requirements"
      ],
      "metadata": {
        "id": "cqsL1uwE3IT2"
      }
    },
    {
      "cell_type": "code",
      "metadata": {
        "id": "Ob6sNW-6YXxJ"
      },
      "source": [
        "import numpy as np\n",
        "import os\n",
        "import pandas as pd\n",
        "import pickle\n",
        "import seaborn as sns\n",
        "from pylab import rcParams\n",
        "import matplotlib.pyplot as plt\n",
        "import cv2\n",
        "from IPython.display import display, Javascript, Image\n",
        "from google.colab.output import eval_js\n",
        "from base64 import b64decode, b64encode\n",
        "import PIL\n",
        "import io\n",
        "import html\n",
        "import time\n",
        "import mediapipe as mp\n",
        "from google.colab.patches import cv2_imshow"
      ],
      "execution_count": 3,
      "outputs": []
    },
    {
      "cell_type": "markdown",
      "source": [
        "##download dataset from kaggle"
      ],
      "metadata": {
        "id": "ExKja7Yb3Mf2"
      }
    },
    {
      "cell_type": "code",
      "metadata": {
        "id": "nMjCnL1sYnLw"
      },
      "source": [
        "# kaggle configuration\n",
        "os.getcwd()\n",
        "# Enable the Kaggle environment, use the path to the directory your Kaggle API JSON is stored in\n",
        "os.environ['KAGGLE_CONFIG_DIR'] = '/content/drive/MyDrive/kaggle'"
      ],
      "execution_count": null,
      "outputs": []
    },
    {
      "cell_type": "code",
      "metadata": {
        "colab": {
          "base_uri": "https://localhost:8080/",
          "height": 217
        },
        "id": "sVBCOysyebi5",
        "outputId": "3f00db26-7820-42d9-d819-4b4b14f5e26f"
      },
      "source": [
        "# download the kaggle dataset\n",
        "os.chdir('/content/drive/MyDrive/kaggle')\n",
        "!kaggle datasets download -d elysian01/yoga-pose-classification\n",
        "os.listdir()"
      ],
      "execution_count": null,
      "outputs": [
        {
          "output_type": "error",
          "ename": "FileNotFoundError",
          "evalue": "ignored",
          "traceback": [
            "\u001b[0;31m---------------------------------------------------------------------------\u001b[0m",
            "\u001b[0;31mFileNotFoundError\u001b[0m                         Traceback (most recent call last)",
            "\u001b[0;32m<ipython-input-5-18b209e73121>\u001b[0m in \u001b[0;36m<module>\u001b[0;34m\u001b[0m\n\u001b[1;32m      1\u001b[0m \u001b[0;31m# download the kaggle dataset\u001b[0m\u001b[0;34m\u001b[0m\u001b[0;34m\u001b[0m\u001b[0;34m\u001b[0m\u001b[0m\n\u001b[0;32m----> 2\u001b[0;31m \u001b[0mos\u001b[0m\u001b[0;34m.\u001b[0m\u001b[0mchdir\u001b[0m\u001b[0;34m(\u001b[0m\u001b[0;34m'/content/drive/MyDrive/kaggle'\u001b[0m\u001b[0;34m)\u001b[0m\u001b[0;34m\u001b[0m\u001b[0;34m\u001b[0m\u001b[0m\n\u001b[0m\u001b[1;32m      3\u001b[0m \u001b[0mget_ipython\u001b[0m\u001b[0;34m(\u001b[0m\u001b[0;34m)\u001b[0m\u001b[0;34m.\u001b[0m\u001b[0msystem\u001b[0m\u001b[0;34m(\u001b[0m\u001b[0;34m'kaggle datasets download -d elysian01/yoga-pose-classification'\u001b[0m\u001b[0;34m)\u001b[0m\u001b[0;34m\u001b[0m\u001b[0;34m\u001b[0m\u001b[0m\n\u001b[1;32m      4\u001b[0m \u001b[0mos\u001b[0m\u001b[0;34m.\u001b[0m\u001b[0mlistdir\u001b[0m\u001b[0;34m(\u001b[0m\u001b[0;34m)\u001b[0m\u001b[0;34m\u001b[0m\u001b[0;34m\u001b[0m\u001b[0m\n",
            "\u001b[0;31mFileNotFoundError\u001b[0m: [Errno 2] No such file or directory: '/content/drive/MyDrive/kaggle'"
          ]
        }
      ]
    },
    {
      "cell_type": "code",
      "metadata": {
        "id": "0PvT2NOt863S"
      },
      "source": [
        "from zipfile import ZipFile \n",
        "  \n",
        "# specifying the name of the zip file\n",
        "file = \"/content/drive/MyDrive/kaggle/yoga-pose-classification.zip\"\n",
        "  \n",
        "# open the zip file in read mode\n",
        "with ZipFile(file, 'r') as zip: \n",
        "    # extract all files to another directory\n",
        "    zip.extractall('/content/drive/MyDrive/yoga_pose_dataset')\n"
      ],
      "execution_count": null,
      "outputs": []
    },
    {
      "cell_type": "markdown",
      "source": [
        "##defining folders path"
      ],
      "metadata": {
        "id": "gmltDNg_3S32"
      }
    },
    {
      "cell_type": "code",
      "metadata": {
        "id": "7PiV3r_Pphln"
      },
      "source": [
        "images_in_folder = '/content/drive/MyDrive/yoga_pose_dataset/dataset/yoga_set1/test'\n",
        "images_out_folder = '/content/drive/MyDrive/yoga_pose_dataset/test_dataset'\n",
        "csv_out_path = '/content/drive/MyDrive/yoga_pose_dataset/test_dataset/yoga_test.csv'"
      ],
      "execution_count": null,
      "outputs": []
    },
    {
      "cell_type": "markdown",
      "source": [
        "##dataset creation using mindpipe"
      ],
      "metadata": {
        "id": "_MtDhWVeF2QI"
      }
    },
    {
      "cell_type": "code",
      "metadata": {
        "id": "btboitEDrSDq"
      },
      "source": [
        "import csv\n",
        "import cv2\n",
        "import numpy as np\n",
        "import os\n",
        "import sys\n",
        "import tqdm\n",
        "\n",
        "from mediapipe.python.solutions import drawing_utils as mp_drawing\n",
        "from mediapipe.python.solutions import pose as mp_pose\n",
        "\n",
        "\n",
        "with open(csv_out_path, 'w') as csv_out_file:\n",
        "  csv_out_writer = csv.writer(csv_out_file, delimiter=',', quoting=csv.QUOTE_MINIMAL)\n",
        "\n",
        "  # Folder names are used as pose class names.\n",
        "  pose_class_names = sorted([n for n in os.listdir(images_in_folder) if not n.startswith('.')])\n",
        "\n",
        "  for pose_class_name in pose_class_names:\n",
        "    print('Bootstrapping ', pose_class_name, file=sys.stderr)\n",
        "\n",
        "    if not os.path.exists(os.path.join(images_out_folder, pose_class_name)):\n",
        "      os.makedirs(os.path.join(images_out_folder, pose_class_name))\n",
        "\n",
        "    image_names = sorted([\n",
        "        n for n in os.listdir(os.path.join(images_in_folder, pose_class_name))\n",
        "        if not n.startswith('.')])\n",
        "    for image_name in tqdm.tqdm(image_names, position=0):\n",
        "      # Load image.\n",
        "      input_frame = cv2.imread(os.path.join(images_in_folder, pose_class_name, image_name))\n",
        "      input_frame = cv2.cvtColor(input_frame, cv2.COLOR_BGR2RGB)\n",
        "\n",
        "      # Initialize fresh pose tracker and run it.\n",
        "      with mp_pose.Pose(upper_body_only=False) as pose_tracker:\n",
        "        result = pose_tracker.process(image=input_frame)\n",
        "        pose_landmarks = result.pose_landmarks\n",
        "      \n",
        "      # Save image with pose prediction (if pose was detected).\n",
        "      output_frame = input_frame.copy()\n",
        "      if pose_landmarks is not None:\n",
        "        mp_drawing.draw_landmarks(\n",
        "            image=output_frame,\n",
        "            landmark_list=pose_landmarks,\n",
        "            connections=mp_pose.POSE_CONNECTIONS)\n",
        "      output_frame = cv2.cvtColor(output_frame, cv2.COLOR_RGB2BGR)\n",
        "      cv2.imwrite(os.path.join(images_out_folder, image_name), output_frame)\n",
        "      \n",
        "      # Save landmarks.\n",
        "      if pose_landmarks is not None:\n",
        "        # Check the number of landmarks and take pose landmarks.\n",
        "        assert len(pose_landmarks.landmark) == 33, 'Unexpected number of predicted pose landmarks: {}'.format(len(pose_landmarks.landmark))\n",
        "        pose_landmarks = [[lmk.x, lmk.y, lmk.z] for lmk in pose_landmarks.landmark]\n",
        "\n",
        "        # Map pose landmarks from [0, 1] range to absolute coordinates to get\n",
        "        # correct aspect ratio.\n",
        "        frame_height, frame_width = output_frame.shape[:2]\n",
        "        pose_landmarks *= np.array([frame_width, frame_height, frame_width])\n",
        "\n",
        "        # Write pose sample to CSV.\n",
        "        pose_landmarks = np.around(pose_landmarks, 5).flatten().astype(np.str).tolist()\n",
        "        csv_out_writer.writerow([image_name, pose_class_name] + pose_landmarks)\n"
      ],
      "execution_count": null,
      "outputs": []
    },
    {
      "cell_type": "code",
      "metadata": {
        "id": "cGMXV_0ZnwDm",
        "colab": {
          "base_uri": "https://localhost:8080/",
          "height": 328
        },
        "outputId": "812a6372-1b51-4965-e0af-355767830eea"
      },
      "source": [
        "df_test = pd.read_csv(\"/content/drive/MyDrive/yoga_pose_dataset/yoga_test.csv\")\n",
        "df_test.head()"
      ],
      "execution_count": null,
      "outputs": [
        {
          "output_type": "error",
          "ename": "FileNotFoundError",
          "evalue": "ignored",
          "traceback": [
            "\u001b[0;31m---------------------------------------------------------------------------\u001b[0m",
            "\u001b[0;31mFileNotFoundError\u001b[0m                         Traceback (most recent call last)",
            "\u001b[0;32m<ipython-input-8-fb9c4d84518b>\u001b[0m in \u001b[0;36m<module>\u001b[0;34m\u001b[0m\n\u001b[0;32m----> 1\u001b[0;31m \u001b[0mdf_test\u001b[0m \u001b[0;34m=\u001b[0m \u001b[0mpd\u001b[0m\u001b[0;34m.\u001b[0m\u001b[0mread_csv\u001b[0m\u001b[0;34m(\u001b[0m\u001b[0;34m\"/content/drive/MyDrive/yoga_pose_dataset/yoga_test.csv\"\u001b[0m\u001b[0;34m)\u001b[0m\u001b[0;34m\u001b[0m\u001b[0;34m\u001b[0m\u001b[0m\n\u001b[0m\u001b[1;32m      2\u001b[0m \u001b[0mdf_test\u001b[0m\u001b[0;34m.\u001b[0m\u001b[0mhead\u001b[0m\u001b[0;34m(\u001b[0m\u001b[0;34m)\u001b[0m\u001b[0;34m\u001b[0m\u001b[0;34m\u001b[0m\u001b[0m\n",
            "\u001b[0;32m/usr/local/lib/python3.7/dist-packages/pandas/util/_decorators.py\u001b[0m in \u001b[0;36mwrapper\u001b[0;34m(*args, **kwargs)\u001b[0m\n\u001b[1;32m    309\u001b[0m                     \u001b[0mstacklevel\u001b[0m\u001b[0;34m=\u001b[0m\u001b[0mstacklevel\u001b[0m\u001b[0;34m,\u001b[0m\u001b[0;34m\u001b[0m\u001b[0;34m\u001b[0m\u001b[0m\n\u001b[1;32m    310\u001b[0m                 )\n\u001b[0;32m--> 311\u001b[0;31m             \u001b[0;32mreturn\u001b[0m \u001b[0mfunc\u001b[0m\u001b[0;34m(\u001b[0m\u001b[0;34m*\u001b[0m\u001b[0margs\u001b[0m\u001b[0;34m,\u001b[0m \u001b[0;34m**\u001b[0m\u001b[0mkwargs\u001b[0m\u001b[0;34m)\u001b[0m\u001b[0;34m\u001b[0m\u001b[0;34m\u001b[0m\u001b[0m\n\u001b[0m\u001b[1;32m    312\u001b[0m \u001b[0;34m\u001b[0m\u001b[0m\n\u001b[1;32m    313\u001b[0m         \u001b[0;32mreturn\u001b[0m \u001b[0mwrapper\u001b[0m\u001b[0;34m\u001b[0m\u001b[0;34m\u001b[0m\u001b[0m\n",
            "\u001b[0;32m/usr/local/lib/python3.7/dist-packages/pandas/io/parsers/readers.py\u001b[0m in \u001b[0;36mread_csv\u001b[0;34m(filepath_or_buffer, sep, delimiter, header, names, index_col, usecols, squeeze, prefix, mangle_dupe_cols, dtype, engine, converters, true_values, false_values, skipinitialspace, skiprows, skipfooter, nrows, na_values, keep_default_na, na_filter, verbose, skip_blank_lines, parse_dates, infer_datetime_format, keep_date_col, date_parser, dayfirst, cache_dates, iterator, chunksize, compression, thousands, decimal, lineterminator, quotechar, quoting, doublequote, escapechar, comment, encoding, encoding_errors, dialect, error_bad_lines, warn_bad_lines, on_bad_lines, delim_whitespace, low_memory, memory_map, float_precision, storage_options)\u001b[0m\n\u001b[1;32m    584\u001b[0m     \u001b[0mkwds\u001b[0m\u001b[0;34m.\u001b[0m\u001b[0mupdate\u001b[0m\u001b[0;34m(\u001b[0m\u001b[0mkwds_defaults\u001b[0m\u001b[0;34m)\u001b[0m\u001b[0;34m\u001b[0m\u001b[0;34m\u001b[0m\u001b[0m\n\u001b[1;32m    585\u001b[0m \u001b[0;34m\u001b[0m\u001b[0m\n\u001b[0;32m--> 586\u001b[0;31m     \u001b[0;32mreturn\u001b[0m \u001b[0m_read\u001b[0m\u001b[0;34m(\u001b[0m\u001b[0mfilepath_or_buffer\u001b[0m\u001b[0;34m,\u001b[0m \u001b[0mkwds\u001b[0m\u001b[0;34m)\u001b[0m\u001b[0;34m\u001b[0m\u001b[0;34m\u001b[0m\u001b[0m\n\u001b[0m\u001b[1;32m    587\u001b[0m \u001b[0;34m\u001b[0m\u001b[0m\n\u001b[1;32m    588\u001b[0m \u001b[0;34m\u001b[0m\u001b[0m\n",
            "\u001b[0;32m/usr/local/lib/python3.7/dist-packages/pandas/io/parsers/readers.py\u001b[0m in \u001b[0;36m_read\u001b[0;34m(filepath_or_buffer, kwds)\u001b[0m\n\u001b[1;32m    480\u001b[0m \u001b[0;34m\u001b[0m\u001b[0m\n\u001b[1;32m    481\u001b[0m     \u001b[0;31m# Create the parser.\u001b[0m\u001b[0;34m\u001b[0m\u001b[0;34m\u001b[0m\u001b[0;34m\u001b[0m\u001b[0m\n\u001b[0;32m--> 482\u001b[0;31m     \u001b[0mparser\u001b[0m \u001b[0;34m=\u001b[0m \u001b[0mTextFileReader\u001b[0m\u001b[0;34m(\u001b[0m\u001b[0mfilepath_or_buffer\u001b[0m\u001b[0;34m,\u001b[0m \u001b[0;34m**\u001b[0m\u001b[0mkwds\u001b[0m\u001b[0;34m)\u001b[0m\u001b[0;34m\u001b[0m\u001b[0;34m\u001b[0m\u001b[0m\n\u001b[0m\u001b[1;32m    483\u001b[0m \u001b[0;34m\u001b[0m\u001b[0m\n\u001b[1;32m    484\u001b[0m     \u001b[0;32mif\u001b[0m \u001b[0mchunksize\u001b[0m \u001b[0;32mor\u001b[0m \u001b[0miterator\u001b[0m\u001b[0;34m:\u001b[0m\u001b[0;34m\u001b[0m\u001b[0;34m\u001b[0m\u001b[0m\n",
            "\u001b[0;32m/usr/local/lib/python3.7/dist-packages/pandas/io/parsers/readers.py\u001b[0m in \u001b[0;36m__init__\u001b[0;34m(self, f, engine, **kwds)\u001b[0m\n\u001b[1;32m    809\u001b[0m             \u001b[0mself\u001b[0m\u001b[0;34m.\u001b[0m\u001b[0moptions\u001b[0m\u001b[0;34m[\u001b[0m\u001b[0;34m\"has_index_names\"\u001b[0m\u001b[0;34m]\u001b[0m \u001b[0;34m=\u001b[0m \u001b[0mkwds\u001b[0m\u001b[0;34m[\u001b[0m\u001b[0;34m\"has_index_names\"\u001b[0m\u001b[0;34m]\u001b[0m\u001b[0;34m\u001b[0m\u001b[0;34m\u001b[0m\u001b[0m\n\u001b[1;32m    810\u001b[0m \u001b[0;34m\u001b[0m\u001b[0m\n\u001b[0;32m--> 811\u001b[0;31m         \u001b[0mself\u001b[0m\u001b[0;34m.\u001b[0m\u001b[0m_engine\u001b[0m \u001b[0;34m=\u001b[0m \u001b[0mself\u001b[0m\u001b[0;34m.\u001b[0m\u001b[0m_make_engine\u001b[0m\u001b[0;34m(\u001b[0m\u001b[0mself\u001b[0m\u001b[0;34m.\u001b[0m\u001b[0mengine\u001b[0m\u001b[0;34m)\u001b[0m\u001b[0;34m\u001b[0m\u001b[0;34m\u001b[0m\u001b[0m\n\u001b[0m\u001b[1;32m    812\u001b[0m \u001b[0;34m\u001b[0m\u001b[0m\n\u001b[1;32m    813\u001b[0m     \u001b[0;32mdef\u001b[0m \u001b[0mclose\u001b[0m\u001b[0;34m(\u001b[0m\u001b[0mself\u001b[0m\u001b[0;34m)\u001b[0m\u001b[0;34m:\u001b[0m\u001b[0;34m\u001b[0m\u001b[0;34m\u001b[0m\u001b[0m\n",
            "\u001b[0;32m/usr/local/lib/python3.7/dist-packages/pandas/io/parsers/readers.py\u001b[0m in \u001b[0;36m_make_engine\u001b[0;34m(self, engine)\u001b[0m\n\u001b[1;32m   1038\u001b[0m             )\n\u001b[1;32m   1039\u001b[0m         \u001b[0;31m# error: Too many arguments for \"ParserBase\"\u001b[0m\u001b[0;34m\u001b[0m\u001b[0;34m\u001b[0m\u001b[0;34m\u001b[0m\u001b[0m\n\u001b[0;32m-> 1040\u001b[0;31m         \u001b[0;32mreturn\u001b[0m \u001b[0mmapping\u001b[0m\u001b[0;34m[\u001b[0m\u001b[0mengine\u001b[0m\u001b[0;34m]\u001b[0m\u001b[0;34m(\u001b[0m\u001b[0mself\u001b[0m\u001b[0;34m.\u001b[0m\u001b[0mf\u001b[0m\u001b[0;34m,\u001b[0m \u001b[0;34m**\u001b[0m\u001b[0mself\u001b[0m\u001b[0;34m.\u001b[0m\u001b[0moptions\u001b[0m\u001b[0;34m)\u001b[0m  \u001b[0;31m# type: ignore[call-arg]\u001b[0m\u001b[0;34m\u001b[0m\u001b[0;34m\u001b[0m\u001b[0m\n\u001b[0m\u001b[1;32m   1041\u001b[0m \u001b[0;34m\u001b[0m\u001b[0m\n\u001b[1;32m   1042\u001b[0m     \u001b[0;32mdef\u001b[0m \u001b[0m_failover_to_python\u001b[0m\u001b[0;34m(\u001b[0m\u001b[0mself\u001b[0m\u001b[0;34m)\u001b[0m\u001b[0;34m:\u001b[0m\u001b[0;34m\u001b[0m\u001b[0;34m\u001b[0m\u001b[0m\n",
            "\u001b[0;32m/usr/local/lib/python3.7/dist-packages/pandas/io/parsers/c_parser_wrapper.py\u001b[0m in \u001b[0;36m__init__\u001b[0;34m(self, src, **kwds)\u001b[0m\n\u001b[1;32m     49\u001b[0m \u001b[0;34m\u001b[0m\u001b[0m\n\u001b[1;32m     50\u001b[0m         \u001b[0;31m# open handles\u001b[0m\u001b[0;34m\u001b[0m\u001b[0;34m\u001b[0m\u001b[0;34m\u001b[0m\u001b[0m\n\u001b[0;32m---> 51\u001b[0;31m         \u001b[0mself\u001b[0m\u001b[0;34m.\u001b[0m\u001b[0m_open_handles\u001b[0m\u001b[0;34m(\u001b[0m\u001b[0msrc\u001b[0m\u001b[0;34m,\u001b[0m \u001b[0mkwds\u001b[0m\u001b[0;34m)\u001b[0m\u001b[0;34m\u001b[0m\u001b[0;34m\u001b[0m\u001b[0m\n\u001b[0m\u001b[1;32m     52\u001b[0m         \u001b[0;32massert\u001b[0m \u001b[0mself\u001b[0m\u001b[0;34m.\u001b[0m\u001b[0mhandles\u001b[0m \u001b[0;32mis\u001b[0m \u001b[0;32mnot\u001b[0m \u001b[0;32mNone\u001b[0m\u001b[0;34m\u001b[0m\u001b[0;34m\u001b[0m\u001b[0m\n\u001b[1;32m     53\u001b[0m \u001b[0;34m\u001b[0m\u001b[0m\n",
            "\u001b[0;32m/usr/local/lib/python3.7/dist-packages/pandas/io/parsers/base_parser.py\u001b[0m in \u001b[0;36m_open_handles\u001b[0;34m(self, src, kwds)\u001b[0m\n\u001b[1;32m    227\u001b[0m             \u001b[0mmemory_map\u001b[0m\u001b[0;34m=\u001b[0m\u001b[0mkwds\u001b[0m\u001b[0;34m.\u001b[0m\u001b[0mget\u001b[0m\u001b[0;34m(\u001b[0m\u001b[0;34m\"memory_map\"\u001b[0m\u001b[0;34m,\u001b[0m \u001b[0;32mFalse\u001b[0m\u001b[0;34m)\u001b[0m\u001b[0;34m,\u001b[0m\u001b[0;34m\u001b[0m\u001b[0;34m\u001b[0m\u001b[0m\n\u001b[1;32m    228\u001b[0m             \u001b[0mstorage_options\u001b[0m\u001b[0;34m=\u001b[0m\u001b[0mkwds\u001b[0m\u001b[0;34m.\u001b[0m\u001b[0mget\u001b[0m\u001b[0;34m(\u001b[0m\u001b[0;34m\"storage_options\"\u001b[0m\u001b[0;34m,\u001b[0m \u001b[0;32mNone\u001b[0m\u001b[0;34m)\u001b[0m\u001b[0;34m,\u001b[0m\u001b[0;34m\u001b[0m\u001b[0;34m\u001b[0m\u001b[0m\n\u001b[0;32m--> 229\u001b[0;31m             \u001b[0merrors\u001b[0m\u001b[0;34m=\u001b[0m\u001b[0mkwds\u001b[0m\u001b[0;34m.\u001b[0m\u001b[0mget\u001b[0m\u001b[0;34m(\u001b[0m\u001b[0;34m\"encoding_errors\"\u001b[0m\u001b[0;34m,\u001b[0m \u001b[0;34m\"strict\"\u001b[0m\u001b[0;34m)\u001b[0m\u001b[0;34m,\u001b[0m\u001b[0;34m\u001b[0m\u001b[0;34m\u001b[0m\u001b[0m\n\u001b[0m\u001b[1;32m    230\u001b[0m         )\n\u001b[1;32m    231\u001b[0m \u001b[0;34m\u001b[0m\u001b[0m\n",
            "\u001b[0;32m/usr/local/lib/python3.7/dist-packages/pandas/io/common.py\u001b[0m in \u001b[0;36mget_handle\u001b[0;34m(path_or_buf, mode, encoding, compression, memory_map, is_text, errors, storage_options)\u001b[0m\n\u001b[1;32m    705\u001b[0m                 \u001b[0mencoding\u001b[0m\u001b[0;34m=\u001b[0m\u001b[0mioargs\u001b[0m\u001b[0;34m.\u001b[0m\u001b[0mencoding\u001b[0m\u001b[0;34m,\u001b[0m\u001b[0;34m\u001b[0m\u001b[0;34m\u001b[0m\u001b[0m\n\u001b[1;32m    706\u001b[0m                 \u001b[0merrors\u001b[0m\u001b[0;34m=\u001b[0m\u001b[0merrors\u001b[0m\u001b[0;34m,\u001b[0m\u001b[0;34m\u001b[0m\u001b[0;34m\u001b[0m\u001b[0m\n\u001b[0;32m--> 707\u001b[0;31m                 \u001b[0mnewline\u001b[0m\u001b[0;34m=\u001b[0m\u001b[0;34m\"\"\u001b[0m\u001b[0;34m,\u001b[0m\u001b[0;34m\u001b[0m\u001b[0;34m\u001b[0m\u001b[0m\n\u001b[0m\u001b[1;32m    708\u001b[0m             )\n\u001b[1;32m    709\u001b[0m         \u001b[0;32melse\u001b[0m\u001b[0;34m:\u001b[0m\u001b[0;34m\u001b[0m\u001b[0;34m\u001b[0m\u001b[0m\n",
            "\u001b[0;31mFileNotFoundError\u001b[0m: [Errno 2] No such file or directory: '/content/drive/MyDrive/yoga_pose_dataset/yoga_test.csv'"
          ]
        }
      ]
    },
    {
      "cell_type": "code",
      "metadata": {
        "id": "ypjW-Ht_RMCk"
      },
      "source": [
        "df = pd.read_csv(\"/content/drive/MyDrive/yoga_pose_dataset/yoga_csv.csv\")\n",
        "df.head()"
      ],
      "execution_count": null,
      "outputs": []
    },
    {
      "cell_type": "markdown",
      "metadata": {
        "id": "BNojOZmjQwVq"
      },
      "source": [
        "##calculate angle for 3 points"
      ]
    },
    {
      "cell_type": "code",
      "metadata": {
        "id": "jGuKLUsNUXa6"
      },
      "source": [
        "# to calculate angle in three points\n",
        "def cal_ang(item, pt1, pt2, pt3):\n",
        "  # print(item)\n",
        "  a = np.array([item[(pt1*3)+2], item[(pt1*3)+1+2], item[(pt1*3)+2+2]])\n",
        "  b = np.array([item[(pt2*3)+2], item[(pt2*3)+1+2], item[(pt2*3)+2+2]])\n",
        "  c = np.array([item[(pt3*3)+2], item[(pt3*3)+1+2], item[(pt3*3)+2+2]])\n",
        "\n",
        "  ba = a - b\n",
        "  bc = c - b\n",
        "\n",
        "  cosine_angle = np.dot(ba, bc) / (np.linalg.norm(ba) * np.linalg.norm(bc))\n",
        "  angle = (np.arccos(cosine_angle))*(180/np.pi)\n",
        "\n",
        "  return angle"
      ],
      "execution_count": null,
      "outputs": []
    },
    {
      "cell_type": "markdown",
      "source": [
        "##calculate angles to define body features"
      ],
      "metadata": {
        "id": "lQf966bAGMuY"
      }
    },
    {
      "cell_type": "code",
      "metadata": {
        "id": "TIMtOumzHnmo"
      },
      "source": [
        "# creating dataframe for feature angles\n",
        "df_angle = pd.DataFrame(columns=['left_shoulder', 'right_shoulder', 'left_elbow', 'right_elbow', 'left_leg_waist', 'right_leg_waist', 'left_knee', 'right_knee', 'target'])\n",
        "df_angle_test = pd.DataFrame(columns=['left_shoulder', 'right_shoulder', 'left_elbow', 'right_elbow', 'left_leg_waist', 'right_leg_waist', 'left_knee', 'right_knee', 'target'])"
      ],
      "execution_count": null,
      "outputs": []
    },
    {
      "cell_type": "code",
      "metadata": {
        "id": "Ducc8fN6V8tv"
      },
      "source": [
        "# filling the dataframes\n",
        "for index, item in df.iterrows():\n",
        "  # a = np.array([item[(13*3)], item[(13*3)+1], item[(13*3)+2]])\n",
        "  # a = np.array([item[(13*3)], item[(13*3)+1], item[(13*3)+2]])\n",
        "  dict = {\n",
        "      'left_shoulder': cal_ang(item, 13, 11, 12),\n",
        "      'right_shoulder': cal_ang(item, 24, 12, 14),\n",
        "      'left_elbow': cal_ang(item, 15, 13, 11),\n",
        "      'right_elbow': cal_ang(item, 12, 14, 16),\n",
        "      'left_leg_waist': cal_ang(item, 11, 23, 25),\n",
        "      'right_leg_waist': cal_ang(item, 12, 24, 26),\n",
        "      'left_knee': cal_ang(item, 23, 25, 27),\n",
        "      'right_knee': cal_ang(item, 24, 26, 28),\n",
        "      'target': item[1]\n",
        "  }\n",
        "  # print(\"index = \", index)\n",
        "  # for i in range(0, len(item)):\n",
        "  #   print(item[i])\n",
        "  # if(index==2):\n",
        "  #   break\n",
        "  # print(\"done\")  \n",
        "  df_angle = df_angle.append(dict, ignore_index=True)"
      ],
      "execution_count": null,
      "outputs": []
    },
    {
      "cell_type": "code",
      "metadata": {
        "id": "YCMbMOyUpgnc"
      },
      "source": [
        "for index, item in df_test.iterrows():\n",
        "  # a = np.array([item[(13*3)], item[(13*3)+1], item[(13*3)+2]])\n",
        "  # a = np.array([item[(13*3)], item[(13*3)+1], item[(13*3)+2]])\n",
        "  dict = {\n",
        "      'left_shoulder': cal_ang(item, 13, 11, 12),\n",
        "      'right_shoulder': cal_ang(item, 24, 12, 14),\n",
        "      'left_elbow': cal_ang(item, 15, 13, 11),\n",
        "      'right_elbow': cal_ang(item, 12, 14, 16),\n",
        "      'left_leg_waist': cal_ang(item, 11, 23, 25),\n",
        "      'right_leg_waist': cal_ang(item, 12, 24, 26),\n",
        "      'left_knee': cal_ang(item, 23, 25, 27),\n",
        "      'right_knee': cal_ang(item, 24, 26, 28),\n",
        "      'target': item[1]\n",
        "  }\n",
        "  # print(\"index = \", index)\n",
        "  # for i in range(0, len(item)):\n",
        "  #   print(item[i])\n",
        "  # if(index==2):\n",
        "  #   break\n",
        "  # print(\"done\")  \n",
        "  df_angle_test = df_angle_test.append(dict, ignore_index=True)"
      ],
      "execution_count": null,
      "outputs": []
    },
    {
      "cell_type": "code",
      "metadata": {
        "id": "-gJyrbahhYUl"
      },
      "source": [
        "df_angle = pd.read_csv('/content/drive/MyDrive/yoga_angle.csv')\n",
        "df_angle_test = pd.read_csv('/content/drive/MyDrive/yoga_angle_test.csv')"
      ],
      "execution_count": 23,
      "outputs": []
    },
    {
      "cell_type": "code",
      "metadata": {
        "id": "0t1aK-jDiivs",
        "colab": {
          "base_uri": "https://localhost:8080/",
          "height": 424
        },
        "outputId": "7efeebc0-5540-41a8-b9a9-524b61a90d88"
      },
      "source": [
        "df_angle[df_angle['target'] == 'downdog']"
      ],
      "execution_count": 24,
      "outputs": [
        {
          "output_type": "execute_result",
          "data": {
            "text/plain": [
              "     Unnamed: 0  left_shoulder  right_shoulder  left_elbow  right_elbow  \\\n",
              "0             0     143.176041      147.824399  114.986452    93.792486   \n",
              "1             1     139.288780      145.156636  131.170793    99.637033   \n",
              "2             2     116.616909      173.894784   91.117305   164.415748   \n",
              "3             3     145.895066      123.270036  132.198656    53.619093   \n",
              "4             4     144.398010      140.334221   57.816453   148.502738   \n",
              "..          ...            ...             ...         ...          ...   \n",
              "343         343     135.678797      135.181224  110.274623    88.645270   \n",
              "344         344     139.518199      130.788954  106.686327    92.527192   \n",
              "345         345     142.607392       53.311210   76.823388   120.822136   \n",
              "346         346     120.475854      126.337124  169.342488   115.492176   \n",
              "347         347     156.933262      138.164641   94.477016    48.621596   \n",
              "\n",
              "     left_leg_waist  right_leg_waist   left_knee  right_knee   target  \n",
              "0         71.981782        64.813235  173.639815  156.346628  downdog  \n",
              "1         75.943327        70.144649  168.635117  155.601473  downdog  \n",
              "2         83.022949        69.420660  167.002745  159.490200  downdog  \n",
              "3        100.751834        82.769971  172.951286  167.115766  downdog  \n",
              "4         83.287876        93.894641  164.633229  162.323169  downdog  \n",
              "..              ...              ...         ...         ...      ...  \n",
              "343      103.180871       101.934329  169.324783  155.328283  downdog  \n",
              "344       89.816328        87.774871  175.316490  158.004182  downdog  \n",
              "345      141.337974       161.596687  142.603460  110.190861  downdog  \n",
              "346      104.342722       109.894360  158.500639  158.845581  downdog  \n",
              "347       78.497449        66.486969  158.085264  151.681713  downdog  \n",
              "\n",
              "[348 rows x 10 columns]"
            ],
            "text/html": [
              "\n",
              "  <div id=\"df-a475b793-72db-46cf-80d0-7dc4e05d1584\">\n",
              "    <div class=\"colab-df-container\">\n",
              "      <div>\n",
              "<style scoped>\n",
              "    .dataframe tbody tr th:only-of-type {\n",
              "        vertical-align: middle;\n",
              "    }\n",
              "\n",
              "    .dataframe tbody tr th {\n",
              "        vertical-align: top;\n",
              "    }\n",
              "\n",
              "    .dataframe thead th {\n",
              "        text-align: right;\n",
              "    }\n",
              "</style>\n",
              "<table border=\"1\" class=\"dataframe\">\n",
              "  <thead>\n",
              "    <tr style=\"text-align: right;\">\n",
              "      <th></th>\n",
              "      <th>Unnamed: 0</th>\n",
              "      <th>left_shoulder</th>\n",
              "      <th>right_shoulder</th>\n",
              "      <th>left_elbow</th>\n",
              "      <th>right_elbow</th>\n",
              "      <th>left_leg_waist</th>\n",
              "      <th>right_leg_waist</th>\n",
              "      <th>left_knee</th>\n",
              "      <th>right_knee</th>\n",
              "      <th>target</th>\n",
              "    </tr>\n",
              "  </thead>\n",
              "  <tbody>\n",
              "    <tr>\n",
              "      <th>0</th>\n",
              "      <td>0</td>\n",
              "      <td>143.176041</td>\n",
              "      <td>147.824399</td>\n",
              "      <td>114.986452</td>\n",
              "      <td>93.792486</td>\n",
              "      <td>71.981782</td>\n",
              "      <td>64.813235</td>\n",
              "      <td>173.639815</td>\n",
              "      <td>156.346628</td>\n",
              "      <td>downdog</td>\n",
              "    </tr>\n",
              "    <tr>\n",
              "      <th>1</th>\n",
              "      <td>1</td>\n",
              "      <td>139.288780</td>\n",
              "      <td>145.156636</td>\n",
              "      <td>131.170793</td>\n",
              "      <td>99.637033</td>\n",
              "      <td>75.943327</td>\n",
              "      <td>70.144649</td>\n",
              "      <td>168.635117</td>\n",
              "      <td>155.601473</td>\n",
              "      <td>downdog</td>\n",
              "    </tr>\n",
              "    <tr>\n",
              "      <th>2</th>\n",
              "      <td>2</td>\n",
              "      <td>116.616909</td>\n",
              "      <td>173.894784</td>\n",
              "      <td>91.117305</td>\n",
              "      <td>164.415748</td>\n",
              "      <td>83.022949</td>\n",
              "      <td>69.420660</td>\n",
              "      <td>167.002745</td>\n",
              "      <td>159.490200</td>\n",
              "      <td>downdog</td>\n",
              "    </tr>\n",
              "    <tr>\n",
              "      <th>3</th>\n",
              "      <td>3</td>\n",
              "      <td>145.895066</td>\n",
              "      <td>123.270036</td>\n",
              "      <td>132.198656</td>\n",
              "      <td>53.619093</td>\n",
              "      <td>100.751834</td>\n",
              "      <td>82.769971</td>\n",
              "      <td>172.951286</td>\n",
              "      <td>167.115766</td>\n",
              "      <td>downdog</td>\n",
              "    </tr>\n",
              "    <tr>\n",
              "      <th>4</th>\n",
              "      <td>4</td>\n",
              "      <td>144.398010</td>\n",
              "      <td>140.334221</td>\n",
              "      <td>57.816453</td>\n",
              "      <td>148.502738</td>\n",
              "      <td>83.287876</td>\n",
              "      <td>93.894641</td>\n",
              "      <td>164.633229</td>\n",
              "      <td>162.323169</td>\n",
              "      <td>downdog</td>\n",
              "    </tr>\n",
              "    <tr>\n",
              "      <th>...</th>\n",
              "      <td>...</td>\n",
              "      <td>...</td>\n",
              "      <td>...</td>\n",
              "      <td>...</td>\n",
              "      <td>...</td>\n",
              "      <td>...</td>\n",
              "      <td>...</td>\n",
              "      <td>...</td>\n",
              "      <td>...</td>\n",
              "      <td>...</td>\n",
              "    </tr>\n",
              "    <tr>\n",
              "      <th>343</th>\n",
              "      <td>343</td>\n",
              "      <td>135.678797</td>\n",
              "      <td>135.181224</td>\n",
              "      <td>110.274623</td>\n",
              "      <td>88.645270</td>\n",
              "      <td>103.180871</td>\n",
              "      <td>101.934329</td>\n",
              "      <td>169.324783</td>\n",
              "      <td>155.328283</td>\n",
              "      <td>downdog</td>\n",
              "    </tr>\n",
              "    <tr>\n",
              "      <th>344</th>\n",
              "      <td>344</td>\n",
              "      <td>139.518199</td>\n",
              "      <td>130.788954</td>\n",
              "      <td>106.686327</td>\n",
              "      <td>92.527192</td>\n",
              "      <td>89.816328</td>\n",
              "      <td>87.774871</td>\n",
              "      <td>175.316490</td>\n",
              "      <td>158.004182</td>\n",
              "      <td>downdog</td>\n",
              "    </tr>\n",
              "    <tr>\n",
              "      <th>345</th>\n",
              "      <td>345</td>\n",
              "      <td>142.607392</td>\n",
              "      <td>53.311210</td>\n",
              "      <td>76.823388</td>\n",
              "      <td>120.822136</td>\n",
              "      <td>141.337974</td>\n",
              "      <td>161.596687</td>\n",
              "      <td>142.603460</td>\n",
              "      <td>110.190861</td>\n",
              "      <td>downdog</td>\n",
              "    </tr>\n",
              "    <tr>\n",
              "      <th>346</th>\n",
              "      <td>346</td>\n",
              "      <td>120.475854</td>\n",
              "      <td>126.337124</td>\n",
              "      <td>169.342488</td>\n",
              "      <td>115.492176</td>\n",
              "      <td>104.342722</td>\n",
              "      <td>109.894360</td>\n",
              "      <td>158.500639</td>\n",
              "      <td>158.845581</td>\n",
              "      <td>downdog</td>\n",
              "    </tr>\n",
              "    <tr>\n",
              "      <th>347</th>\n",
              "      <td>347</td>\n",
              "      <td>156.933262</td>\n",
              "      <td>138.164641</td>\n",
              "      <td>94.477016</td>\n",
              "      <td>48.621596</td>\n",
              "      <td>78.497449</td>\n",
              "      <td>66.486969</td>\n",
              "      <td>158.085264</td>\n",
              "      <td>151.681713</td>\n",
              "      <td>downdog</td>\n",
              "    </tr>\n",
              "  </tbody>\n",
              "</table>\n",
              "<p>348 rows × 10 columns</p>\n",
              "</div>\n",
              "      <button class=\"colab-df-convert\" onclick=\"convertToInteractive('df-a475b793-72db-46cf-80d0-7dc4e05d1584')\"\n",
              "              title=\"Convert this dataframe to an interactive table.\"\n",
              "              style=\"display:none;\">\n",
              "        \n",
              "  <svg xmlns=\"http://www.w3.org/2000/svg\" height=\"24px\"viewBox=\"0 0 24 24\"\n",
              "       width=\"24px\">\n",
              "    <path d=\"M0 0h24v24H0V0z\" fill=\"none\"/>\n",
              "    <path d=\"M18.56 5.44l.94 2.06.94-2.06 2.06-.94-2.06-.94-.94-2.06-.94 2.06-2.06.94zm-11 1L8.5 8.5l.94-2.06 2.06-.94-2.06-.94L8.5 2.5l-.94 2.06-2.06.94zm10 10l.94 2.06.94-2.06 2.06-.94-2.06-.94-.94-2.06-.94 2.06-2.06.94z\"/><path d=\"M17.41 7.96l-1.37-1.37c-.4-.4-.92-.59-1.43-.59-.52 0-1.04.2-1.43.59L10.3 9.45l-7.72 7.72c-.78.78-.78 2.05 0 2.83L4 21.41c.39.39.9.59 1.41.59.51 0 1.02-.2 1.41-.59l7.78-7.78 2.81-2.81c.8-.78.8-2.07 0-2.86zM5.41 20L4 18.59l7.72-7.72 1.47 1.35L5.41 20z\"/>\n",
              "  </svg>\n",
              "      </button>\n",
              "      \n",
              "  <style>\n",
              "    .colab-df-container {\n",
              "      display:flex;\n",
              "      flex-wrap:wrap;\n",
              "      gap: 12px;\n",
              "    }\n",
              "\n",
              "    .colab-df-convert {\n",
              "      background-color: #E8F0FE;\n",
              "      border: none;\n",
              "      border-radius: 50%;\n",
              "      cursor: pointer;\n",
              "      display: none;\n",
              "      fill: #1967D2;\n",
              "      height: 32px;\n",
              "      padding: 0 0 0 0;\n",
              "      width: 32px;\n",
              "    }\n",
              "\n",
              "    .colab-df-convert:hover {\n",
              "      background-color: #E2EBFA;\n",
              "      box-shadow: 0px 1px 2px rgba(60, 64, 67, 0.3), 0px 1px 3px 1px rgba(60, 64, 67, 0.15);\n",
              "      fill: #174EA6;\n",
              "    }\n",
              "\n",
              "    [theme=dark] .colab-df-convert {\n",
              "      background-color: #3B4455;\n",
              "      fill: #D2E3FC;\n",
              "    }\n",
              "\n",
              "    [theme=dark] .colab-df-convert:hover {\n",
              "      background-color: #434B5C;\n",
              "      box-shadow: 0px 1px 3px 1px rgba(0, 0, 0, 0.15);\n",
              "      filter: drop-shadow(0px 1px 2px rgba(0, 0, 0, 0.3));\n",
              "      fill: #FFFFFF;\n",
              "    }\n",
              "  </style>\n",
              "\n",
              "      <script>\n",
              "        const buttonEl =\n",
              "          document.querySelector('#df-a475b793-72db-46cf-80d0-7dc4e05d1584 button.colab-df-convert');\n",
              "        buttonEl.style.display =\n",
              "          google.colab.kernel.accessAllowed ? 'block' : 'none';\n",
              "\n",
              "        async function convertToInteractive(key) {\n",
              "          const element = document.querySelector('#df-a475b793-72db-46cf-80d0-7dc4e05d1584');\n",
              "          const dataTable =\n",
              "            await google.colab.kernel.invokeFunction('convertToInteractive',\n",
              "                                                     [key], {});\n",
              "          if (!dataTable) return;\n",
              "\n",
              "          const docLinkHtml = 'Like what you see? Visit the ' +\n",
              "            '<a target=\"_blank\" href=https://colab.research.google.com/notebooks/data_table.ipynb>data table notebook</a>'\n",
              "            + ' to learn more about interactive tables.';\n",
              "          element.innerHTML = '';\n",
              "          dataTable['output_type'] = 'display_data';\n",
              "          await google.colab.output.renderOutput(dataTable, element);\n",
              "          const docLink = document.createElement('div');\n",
              "          docLink.innerHTML = docLinkHtml;\n",
              "          element.appendChild(docLink);\n",
              "        }\n",
              "      </script>\n",
              "    </div>\n",
              "  </div>\n",
              "  "
            ]
          },
          "metadata": {},
          "execution_count": 24
        }
      ]
    },
    {
      "cell_type": "code",
      "source": [
        "df_angle_test.drop('Unnamed: 0', inplace=True, axis=1)\n",
        "df_angle.drop('Unnamed: 0', inplace=True, axis=1)"
      ],
      "metadata": {
        "id": "q8I8JY_aRe-Z"
      },
      "execution_count": 25,
      "outputs": []
    },
    {
      "cell_type": "markdown",
      "source": [
        "##training"
      ],
      "metadata": {
        "id": "--UpovONGex2"
      }
    },
    {
      "cell_type": "code",
      "metadata": {
        "id": "TxwaUdDQmNvn"
      },
      "source": [
        "# describe features\n",
        "import matplotlib.pyplot as mtp  \n",
        "  \n",
        "#Extracting Independent and dependent Variable  \n",
        "x_train= df_angle.iloc[:, 0:8].values  \n",
        "y_train= df_angle.iloc[:, 8].values  \n",
        "x_test = df_angle_test.iloc[:, 0:8].values \n",
        "y_test = df_angle_test.iloc[:, 8].values    \n",
        "  \n",
        "#feature Scaling  \n",
        "# from sklearn.preprocessing import StandardScaler    \n",
        "# st_x= StandardScaler()    \n",
        "# x_train= st_x.fit_transform(x_train)    \n",
        "# x_test= st_x.transform(x_test)  "
      ],
      "execution_count": 26,
      "outputs": []
    },
    {
      "cell_type": "code",
      "metadata": {
        "id": "BKk3nyXv5qJG",
        "colab": {
          "base_uri": "https://localhost:8080/",
          "height": 363
        },
        "outputId": "c51683b7-1596-4d92-a0df-13ec21c5b00e"
      },
      "source": [
        "df_angle_test.head(10)"
      ],
      "execution_count": 27,
      "outputs": [
        {
          "output_type": "execute_result",
          "data": {
            "text/plain": [
              "   left_shoulder  right_shoulder  left_elbow  right_elbow  left_leg_waist  \\\n",
              "0     153.889524      138.894707  137.569890    76.171640       76.822979   \n",
              "1     148.984172      144.510751  118.134282    77.656030       76.177528   \n",
              "2     137.983160      140.481900   64.367022   129.185550       71.580972   \n",
              "3     139.447815      133.380929   64.317826   112.953782       73.168204   \n",
              "4      81.959654      127.233231  141.941720   172.948443       46.664656   \n",
              "5     141.060937      136.226006   60.707847   107.140378       82.602151   \n",
              "6     126.385929      151.271193   77.922776   111.495118       89.125094   \n",
              "7     151.515936      118.221190  148.060578    67.930635      100.861391   \n",
              "8     149.346339      143.620450   95.503059    68.357336       87.104440   \n",
              "9     151.283501      132.944869  110.544668    63.279992       83.153946   \n",
              "\n",
              "   right_leg_waist   left_knee  right_knee   target  \n",
              "0        68.322260  173.676172  147.484575  downdog  \n",
              "1        71.451253  176.418239  148.038165  downdog  \n",
              "2        78.080602  162.244509  176.341972  downdog  \n",
              "3        75.364128  154.374658  173.976926  downdog  \n",
              "4        77.816850  145.384025  151.499912  downdog  \n",
              "5        85.589903  152.232854  166.499219  downdog  \n",
              "6        88.973821  151.187347  161.166915  downdog  \n",
              "7        92.366500  166.038336  158.763603  downdog  \n",
              "8        80.922777  173.437245  151.521916  downdog  \n",
              "9        79.625148  165.349480  146.828186  downdog  "
            ],
            "text/html": [
              "\n",
              "  <div id=\"df-6928d27f-5d24-475c-8df3-fa26571e2656\">\n",
              "    <div class=\"colab-df-container\">\n",
              "      <div>\n",
              "<style scoped>\n",
              "    .dataframe tbody tr th:only-of-type {\n",
              "        vertical-align: middle;\n",
              "    }\n",
              "\n",
              "    .dataframe tbody tr th {\n",
              "        vertical-align: top;\n",
              "    }\n",
              "\n",
              "    .dataframe thead th {\n",
              "        text-align: right;\n",
              "    }\n",
              "</style>\n",
              "<table border=\"1\" class=\"dataframe\">\n",
              "  <thead>\n",
              "    <tr style=\"text-align: right;\">\n",
              "      <th></th>\n",
              "      <th>left_shoulder</th>\n",
              "      <th>right_shoulder</th>\n",
              "      <th>left_elbow</th>\n",
              "      <th>right_elbow</th>\n",
              "      <th>left_leg_waist</th>\n",
              "      <th>right_leg_waist</th>\n",
              "      <th>left_knee</th>\n",
              "      <th>right_knee</th>\n",
              "      <th>target</th>\n",
              "    </tr>\n",
              "  </thead>\n",
              "  <tbody>\n",
              "    <tr>\n",
              "      <th>0</th>\n",
              "      <td>153.889524</td>\n",
              "      <td>138.894707</td>\n",
              "      <td>137.569890</td>\n",
              "      <td>76.171640</td>\n",
              "      <td>76.822979</td>\n",
              "      <td>68.322260</td>\n",
              "      <td>173.676172</td>\n",
              "      <td>147.484575</td>\n",
              "      <td>downdog</td>\n",
              "    </tr>\n",
              "    <tr>\n",
              "      <th>1</th>\n",
              "      <td>148.984172</td>\n",
              "      <td>144.510751</td>\n",
              "      <td>118.134282</td>\n",
              "      <td>77.656030</td>\n",
              "      <td>76.177528</td>\n",
              "      <td>71.451253</td>\n",
              "      <td>176.418239</td>\n",
              "      <td>148.038165</td>\n",
              "      <td>downdog</td>\n",
              "    </tr>\n",
              "    <tr>\n",
              "      <th>2</th>\n",
              "      <td>137.983160</td>\n",
              "      <td>140.481900</td>\n",
              "      <td>64.367022</td>\n",
              "      <td>129.185550</td>\n",
              "      <td>71.580972</td>\n",
              "      <td>78.080602</td>\n",
              "      <td>162.244509</td>\n",
              "      <td>176.341972</td>\n",
              "      <td>downdog</td>\n",
              "    </tr>\n",
              "    <tr>\n",
              "      <th>3</th>\n",
              "      <td>139.447815</td>\n",
              "      <td>133.380929</td>\n",
              "      <td>64.317826</td>\n",
              "      <td>112.953782</td>\n",
              "      <td>73.168204</td>\n",
              "      <td>75.364128</td>\n",
              "      <td>154.374658</td>\n",
              "      <td>173.976926</td>\n",
              "      <td>downdog</td>\n",
              "    </tr>\n",
              "    <tr>\n",
              "      <th>4</th>\n",
              "      <td>81.959654</td>\n",
              "      <td>127.233231</td>\n",
              "      <td>141.941720</td>\n",
              "      <td>172.948443</td>\n",
              "      <td>46.664656</td>\n",
              "      <td>77.816850</td>\n",
              "      <td>145.384025</td>\n",
              "      <td>151.499912</td>\n",
              "      <td>downdog</td>\n",
              "    </tr>\n",
              "    <tr>\n",
              "      <th>5</th>\n",
              "      <td>141.060937</td>\n",
              "      <td>136.226006</td>\n",
              "      <td>60.707847</td>\n",
              "      <td>107.140378</td>\n",
              "      <td>82.602151</td>\n",
              "      <td>85.589903</td>\n",
              "      <td>152.232854</td>\n",
              "      <td>166.499219</td>\n",
              "      <td>downdog</td>\n",
              "    </tr>\n",
              "    <tr>\n",
              "      <th>6</th>\n",
              "      <td>126.385929</td>\n",
              "      <td>151.271193</td>\n",
              "      <td>77.922776</td>\n",
              "      <td>111.495118</td>\n",
              "      <td>89.125094</td>\n",
              "      <td>88.973821</td>\n",
              "      <td>151.187347</td>\n",
              "      <td>161.166915</td>\n",
              "      <td>downdog</td>\n",
              "    </tr>\n",
              "    <tr>\n",
              "      <th>7</th>\n",
              "      <td>151.515936</td>\n",
              "      <td>118.221190</td>\n",
              "      <td>148.060578</td>\n",
              "      <td>67.930635</td>\n",
              "      <td>100.861391</td>\n",
              "      <td>92.366500</td>\n",
              "      <td>166.038336</td>\n",
              "      <td>158.763603</td>\n",
              "      <td>downdog</td>\n",
              "    </tr>\n",
              "    <tr>\n",
              "      <th>8</th>\n",
              "      <td>149.346339</td>\n",
              "      <td>143.620450</td>\n",
              "      <td>95.503059</td>\n",
              "      <td>68.357336</td>\n",
              "      <td>87.104440</td>\n",
              "      <td>80.922777</td>\n",
              "      <td>173.437245</td>\n",
              "      <td>151.521916</td>\n",
              "      <td>downdog</td>\n",
              "    </tr>\n",
              "    <tr>\n",
              "      <th>9</th>\n",
              "      <td>151.283501</td>\n",
              "      <td>132.944869</td>\n",
              "      <td>110.544668</td>\n",
              "      <td>63.279992</td>\n",
              "      <td>83.153946</td>\n",
              "      <td>79.625148</td>\n",
              "      <td>165.349480</td>\n",
              "      <td>146.828186</td>\n",
              "      <td>downdog</td>\n",
              "    </tr>\n",
              "  </tbody>\n",
              "</table>\n",
              "</div>\n",
              "      <button class=\"colab-df-convert\" onclick=\"convertToInteractive('df-6928d27f-5d24-475c-8df3-fa26571e2656')\"\n",
              "              title=\"Convert this dataframe to an interactive table.\"\n",
              "              style=\"display:none;\">\n",
              "        \n",
              "  <svg xmlns=\"http://www.w3.org/2000/svg\" height=\"24px\"viewBox=\"0 0 24 24\"\n",
              "       width=\"24px\">\n",
              "    <path d=\"M0 0h24v24H0V0z\" fill=\"none\"/>\n",
              "    <path d=\"M18.56 5.44l.94 2.06.94-2.06 2.06-.94-2.06-.94-.94-2.06-.94 2.06-2.06.94zm-11 1L8.5 8.5l.94-2.06 2.06-.94-2.06-.94L8.5 2.5l-.94 2.06-2.06.94zm10 10l.94 2.06.94-2.06 2.06-.94-2.06-.94-.94-2.06-.94 2.06-2.06.94z\"/><path d=\"M17.41 7.96l-1.37-1.37c-.4-.4-.92-.59-1.43-.59-.52 0-1.04.2-1.43.59L10.3 9.45l-7.72 7.72c-.78.78-.78 2.05 0 2.83L4 21.41c.39.39.9.59 1.41.59.51 0 1.02-.2 1.41-.59l7.78-7.78 2.81-2.81c.8-.78.8-2.07 0-2.86zM5.41 20L4 18.59l7.72-7.72 1.47 1.35L5.41 20z\"/>\n",
              "  </svg>\n",
              "      </button>\n",
              "      \n",
              "  <style>\n",
              "    .colab-df-container {\n",
              "      display:flex;\n",
              "      flex-wrap:wrap;\n",
              "      gap: 12px;\n",
              "    }\n",
              "\n",
              "    .colab-df-convert {\n",
              "      background-color: #E8F0FE;\n",
              "      border: none;\n",
              "      border-radius: 50%;\n",
              "      cursor: pointer;\n",
              "      display: none;\n",
              "      fill: #1967D2;\n",
              "      height: 32px;\n",
              "      padding: 0 0 0 0;\n",
              "      width: 32px;\n",
              "    }\n",
              "\n",
              "    .colab-df-convert:hover {\n",
              "      background-color: #E2EBFA;\n",
              "      box-shadow: 0px 1px 2px rgba(60, 64, 67, 0.3), 0px 1px 3px 1px rgba(60, 64, 67, 0.15);\n",
              "      fill: #174EA6;\n",
              "    }\n",
              "\n",
              "    [theme=dark] .colab-df-convert {\n",
              "      background-color: #3B4455;\n",
              "      fill: #D2E3FC;\n",
              "    }\n",
              "\n",
              "    [theme=dark] .colab-df-convert:hover {\n",
              "      background-color: #434B5C;\n",
              "      box-shadow: 0px 1px 3px 1px rgba(0, 0, 0, 0.15);\n",
              "      filter: drop-shadow(0px 1px 2px rgba(0, 0, 0, 0.3));\n",
              "      fill: #FFFFFF;\n",
              "    }\n",
              "  </style>\n",
              "\n",
              "      <script>\n",
              "        const buttonEl =\n",
              "          document.querySelector('#df-6928d27f-5d24-475c-8df3-fa26571e2656 button.colab-df-convert');\n",
              "        buttonEl.style.display =\n",
              "          google.colab.kernel.accessAllowed ? 'block' : 'none';\n",
              "\n",
              "        async function convertToInteractive(key) {\n",
              "          const element = document.querySelector('#df-6928d27f-5d24-475c-8df3-fa26571e2656');\n",
              "          const dataTable =\n",
              "            await google.colab.kernel.invokeFunction('convertToInteractive',\n",
              "                                                     [key], {});\n",
              "          if (!dataTable) return;\n",
              "\n",
              "          const docLinkHtml = 'Like what you see? Visit the ' +\n",
              "            '<a target=\"_blank\" href=https://colab.research.google.com/notebooks/data_table.ipynb>data table notebook</a>'\n",
              "            + ' to learn more about interactive tables.';\n",
              "          element.innerHTML = '';\n",
              "          dataTable['output_type'] = 'display_data';\n",
              "          await google.colab.output.renderOutput(dataTable, element);\n",
              "          const docLink = document.createElement('div');\n",
              "          docLink.innerHTML = docLinkHtml;\n",
              "          element.appendChild(docLink);\n",
              "        }\n",
              "      </script>\n",
              "    </div>\n",
              "  </div>\n",
              "  "
            ]
          },
          "metadata": {},
          "execution_count": 27
        }
      ]
    },
    {
      "cell_type": "code",
      "metadata": {
        "id": "WPXrNE1Eofyi",
        "colab": {
          "base_uri": "https://localhost:8080/"
        },
        "outputId": "68154a22-ee1f-45d7-e1e8-bca8466d4a52"
      },
      "source": [
        "# define the model\n",
        "from sklearn.neighbors import KNeighborsClassifier  \n",
        "classifier= KNeighborsClassifier(n_neighbors=5, metric='minkowski', p=2 )  \n",
        "classifier.fit(x_train, y_train)  "
      ],
      "execution_count": 46,
      "outputs": [
        {
          "output_type": "execute_result",
          "data": {
            "text/plain": [
              "KNeighborsClassifier()"
            ]
          },
          "metadata": {},
          "execution_count": 46
        }
      ]
    },
    {
      "cell_type": "code",
      "metadata": {
        "id": "0boMtRXlopYA"
      },
      "source": [
        "# predicting\n",
        "y_pred= classifier.predict(x_test)  "
      ],
      "execution_count": 47,
      "outputs": []
    },
    {
      "cell_type": "code",
      "source": [
        "from sklearn.tree import DecisionTreeClassifier\n",
        "clf = DecisionTreeClassifier()\n",
        "clf = clf.fit(x_train,y_train)\n",
        "\n",
        "#Predict the response for test dataset\n",
        "y_pred = clf.predict(x_test)"
      ],
      "metadata": {
        "id": "T4SLXgRLbGby"
      },
      "execution_count": null,
      "outputs": []
    },
    {
      "cell_type": "code",
      "source": [
        "from sklearn.naive_bayes import GaussianNB\n",
        "gnb = GaussianNB()\n",
        "gnb = gnb.fit(x_train, y_train)\n",
        "  \n",
        "# making predictions on the testing set\n",
        "y_pred = gnb.predict(x_test)"
      ],
      "metadata": {
        "id": "--humJbhezBJ"
      },
      "execution_count": null,
      "outputs": []
    },
    {
      "cell_type": "code",
      "source": [
        "from sklearn.ensemble import RandomForestClassifier\n",
        "clf = RandomForestClassifier(n_estimators = 100) \n",
        "clf.fit(x_train, y_train)\n",
        " \n",
        "# performing predictions on the test dataset\n",
        "y_pred = clf.predict(x_test)"
      ],
      "metadata": {
        "id": "6krky0C8fu7T"
      },
      "execution_count": 32,
      "outputs": []
    },
    {
      "cell_type": "code",
      "source": [
        "from sklearn.ensemble import GradientBoostingClassifier\n",
        "clf = GradientBoostingClassifier(n_estimators=100, learning_rate=1.0, max_depth=1, random_state=0)\n",
        "clf.fit(x_train, y_train)\n",
        " \n",
        "# performing predictions on the test dataset\n",
        "y_pred = clf.predict(x_test)"
      ],
      "metadata": {
        "id": "8rZGlRVLg8aM"
      },
      "execution_count": 36,
      "outputs": []
    },
    {
      "cell_type": "code",
      "source": [
        "from xgboost import XGBClassifier\n",
        "clf = XGBClassifier()\n",
        "clf.fit(x_train, y_train)\n",
        "\n",
        "# performing predictions on the test dataset\n",
        "y_pred = clf.predict(x_test)"
      ],
      "metadata": {
        "id": "4DAYKhJnz7df"
      },
      "execution_count": 40,
      "outputs": []
    },
    {
      "cell_type": "code",
      "source": [
        "from sklearn import svm\n",
        "clf = svm.SVC()\n",
        "clf.fit(x_train, y_train)\n",
        " \n",
        "# performing predictions on the test dataset\n",
        "y_pred = clf.predict(x_test)"
      ],
      "metadata": {
        "id": "uJM-s4ibhxr-"
      },
      "execution_count": 42,
      "outputs": []
    },
    {
      "cell_type": "code",
      "source": [
        "from sklearn.neural_network import MLPClassifier\n",
        "clf = MLPClassifier(random_state=1, max_iter=500)\n",
        "clf.fit(x_train, y_train)\n",
        "\n",
        "# performing predictions on the test dataset\n",
        "y_pred = clf.predict(x_test)"
      ],
      "metadata": {
        "id": "D2Z6VKj0ZJ-j"
      },
      "execution_count": 44,
      "outputs": []
    },
    {
      "cell_type": "code",
      "metadata": {
        "id": "Qs25mRBQosRA"
      },
      "source": [
        "# confusion matrix\n",
        "from sklearn.metrics import confusion_matrix  \n",
        "cm= confusion_matrix(y_test, y_pred) "
      ],
      "execution_count": 37,
      "outputs": []
    },
    {
      "cell_type": "code",
      "metadata": {
        "id": "uZ6dMSkEupE0",
        "colab": {
          "base_uri": "https://localhost:8080/"
        },
        "outputId": "a5516f81-ddfb-4999-d6c0-e8115b1d57c4"
      },
      "source": [
        "cm"
      ],
      "execution_count": 38,
      "outputs": [
        {
          "output_type": "execute_result",
          "data": {
            "text/plain": [
              "array([[91,  0,  0,  0,  2,  0],\n",
              "       [ 0, 66,  1,  1,  2, 10],\n",
              "       [ 0,  0, 26,  3,  1,  0],\n",
              "       [ 1,  2, 13, 49,  1,  2],\n",
              "       [ 0,  0,  1,  0,  2,  1],\n",
              "       [ 0,  7,  0,  0,  4, 96]])"
            ]
          },
          "metadata": {},
          "execution_count": 38
        }
      ]
    },
    {
      "cell_type": "code",
      "metadata": {
        "id": "8Xyr4kp0uhTh",
        "colab": {
          "base_uri": "https://localhost:8080/",
          "height": 182
        },
        "outputId": "2e3ba7bd-5738-4d85-fe9c-bbc6b19ff8d4"
      },
      "source": [
        "# testing for individual test\n",
        "classifier.predict([x_test[100]])"
      ],
      "execution_count": 12,
      "outputs": [
        {
          "output_type": "error",
          "ename": "NameError",
          "evalue": "ignored",
          "traceback": [
            "\u001b[0;31m---------------------------------------------------------------------------\u001b[0m",
            "\u001b[0;31mNameError\u001b[0m                                 Traceback (most recent call last)",
            "\u001b[0;32m<ipython-input-12-35bc40802d1d>\u001b[0m in \u001b[0;36m<module>\u001b[0;34m\u001b[0m\n\u001b[1;32m      1\u001b[0m \u001b[0;31m# testing for individual test\u001b[0m\u001b[0;34m\u001b[0m\u001b[0;34m\u001b[0m\u001b[0;34m\u001b[0m\u001b[0m\n\u001b[0;32m----> 2\u001b[0;31m \u001b[0mclassifier\u001b[0m\u001b[0;34m.\u001b[0m\u001b[0mpredict\u001b[0m\u001b[0;34m(\u001b[0m\u001b[0;34m[\u001b[0m\u001b[0mx_test\u001b[0m\u001b[0;34m[\u001b[0m\u001b[0;36m100\u001b[0m\u001b[0;34m]\u001b[0m\u001b[0;34m]\u001b[0m\u001b[0;34m)\u001b[0m\u001b[0;34m\u001b[0m\u001b[0;34m\u001b[0m\u001b[0m\n\u001b[0m",
            "\u001b[0;31mNameError\u001b[0m: name 'classifier' is not defined"
          ]
        }
      ]
    },
    {
      "cell_type": "code",
      "metadata": {
        "id": "_eX9gME2tI06",
        "colab": {
          "base_uri": "https://localhost:8080/"
        },
        "outputId": "965eba9f-c3bc-4faa-a5a8-a2352df19f65"
      },
      "source": [
        "# calculating accuracy\n",
        "from sklearn.metrics import accuracy_score  \n",
        "acc = accuracy_score(y_test, y_pred)\n",
        "acc"
      ],
      "execution_count": 48,
      "outputs": [
        {
          "output_type": "execute_result",
          "data": {
            "text/plain": [
              "0.9450261780104712"
            ]
          },
          "metadata": {},
          "execution_count": 48
        }
      ]
    },
    {
      "cell_type": "code",
      "metadata": {
        "id": "q2QlG5wL-LvL"
      },
      "source": [
        "# df to csv\n",
        "df_angle.to_csv(\"yoga_angle.csv\", index=False)\n",
        "df_angle_test.to_csv(\"yoga_angle_test.csv\", index = False)"
      ],
      "execution_count": null,
      "outputs": []
    },
    {
      "cell_type": "code",
      "metadata": {
        "id": "xSowJ_c-t1ip"
      },
      "source": [
        "\n",
        "def plot_correlation(data):\n",
        "    '''\n",
        "    plot correlation's matrix to explore dependency between features \n",
        "    '''\n",
        "    # init figure size\n",
        "    rcParams['figure.figsize'] = 15, 20\n",
        "    fig = plt.figure()\n",
        "    sns.heatmap(data.corr(), annot=True, fmt=\".2f\")\n",
        "    plt.show()\n",
        "    fig.savefig('corr.png')\n",
        "\n",
        "# load your data \n",
        "# data  = pd.read_csv('diabetes.csv')\n",
        "\n",
        "# plot correlation & densities\n",
        "plot_correlation(df_angle)"
      ],
      "execution_count": null,
      "outputs": []
    },
    {
      "cell_type": "markdown",
      "source": [
        "#dump the model"
      ],
      "metadata": {
        "id": "yOm2ILi9Gm6x"
      }
    },
    {
      "cell_type": "code",
      "metadata": {
        "id": "E2xOsvRyw4hp"
      },
      "source": [
        "# dump the model\n",
        "pickle.dump(classifier,open('save_model3','wb'))\n"
      ],
      "execution_count": null,
      "outputs": []
    },
    {
      "cell_type": "markdown",
      "source": [
        "#load the model"
      ],
      "metadata": {
        "id": "xqfH3jqIGriS"
      }
    },
    {
      "cell_type": "code",
      "metadata": {
        "id": "sjBBaJ-7fGu9"
      },
      "source": [
        "# load the model\n",
        "classifier = pickle.load(open('/content/drive/MyDrive/yoga_pose_dataset/save_model3', 'rb'))"
      ],
      "execution_count": null,
      "outputs": []
    },
    {
      "cell_type": "markdown",
      "metadata": {
        "id": "z34equH7xjkn"
      },
      "source": [
        "#testing\n"
      ]
    },
    {
      "cell_type": "code",
      "metadata": {
        "id": "Jl_1NPGOr627"
      },
      "source": [
        "# angle calculate for test features\n",
        "def cal_ang_test(item, pt1, pt2, pt3):\n",
        "  # print(item)\n",
        "  # a = np.array([item[pt1][0], item[pt1][1], item[pt1][2]])\n",
        "  # b = np.array([item[pt2][0], item[pt2][1], item[pt2][2]])\n",
        "  # c = np.array([item[pt3][0], item[pt3][1], item[pt3][2]])\n",
        "  a = item[pt1]\n",
        "  b = item[pt2]\n",
        "  c = item[pt3]\n",
        "  ba = a - b\n",
        "  bc = c - b\n",
        "\n",
        "  cosine_angle = np.dot(ba, bc) / (np.linalg.norm(ba) * np.linalg.norm(bc))\n",
        "  angle = (np.arccos(cosine_angle))*(180/np.pi)\n",
        "\n",
        "  return angle"
      ],
      "execution_count": null,
      "outputs": []
    },
    {
      "cell_type": "code",
      "metadata": {
        "id": "ZMbD4czcyDG3"
      },
      "source": [
        "import cv2\n",
        "from mediapipe.python.solutions import drawing_utils as mp_drawing\n",
        "from mediapipe.python.solutions import pose as mp_pose\n",
        "input_frame = cv2.imread('/content/baai4.jpg')\n",
        "input_frame = cv2.cvtColor(input_frame, cv2.COLOR_BGR2RGB)\n",
        "with mp_pose.Pose(upper_body_only=False) as pose_tracker:\n",
        "  result = pose_tracker.process(image=input_frame)\n",
        "  # mp_drawing.plot_landmarks(results.pose_world_landmarks, mp_pose.POSE_CONNECTIONS)\n",
        "  pose_landmarks = result.pose_landmarks\n",
        "output_frame = input_frame.copy()\n",
        "if pose_landmarks is not None:\n",
        "  mp_drawing.draw_landmarks(\n",
        "      image=output_frame,\n",
        "      landmark_list=pose_landmarks,\n",
        "      connections=mp_pose.POSE_CONNECTIONS)\n",
        "  assert len(pose_landmarks.landmark) == 33, 'Unexpected number of predicted pose landmarks: {}'.format(len(pose_landmarks.landmark))\n",
        "  pose_landmarks = [[lmk.x, lmk.y, lmk.z] for lmk in pose_landmarks.landmark]\n",
        "  output_frame = cv2.cvtColor(output_frame, cv2.COLOR_RGB2BGR)\n",
        "  frame_height, frame_width = input_frame.shape[:2]\n",
        "  pose_landmarks *= np.array([frame_width, frame_height, frame_width])\n",
        "f, axarr = plt.subplots(1,2, figsize = (20, 10))\n",
        "axarr[0].imshow(input_frame)\n",
        "axarr[1].imshow(output_frame)\n"
      ],
      "execution_count": null,
      "outputs": []
    },
    {
      "cell_type": "code",
      "source": [
        "cap = cv2.VideoCapture(0)\n",
        "# while cap.isOpened():\n",
        "#     ret, frame = cap.read()\n",
        "#     cv2.imshow('Mediapipe Feed', frame)\n",
        "    \n",
        "#     if cv2.waitKey(10) & 0xFF == ord('q'):\n",
        "#         break\n",
        "        \n",
        "# cap.release()\n",
        "# cv2.destroyAllWindows()"
      ],
      "metadata": {
        "id": "f6nDqV7Ki6xB"
      },
      "execution_count": null,
      "outputs": []
    },
    {
      "cell_type": "code",
      "source": [
        "from IPython.display import display, Javascript\n",
        "from google.colab.output import eval_js\n",
        "from base64 import b64decode\n",
        "\n",
        "def take_photo(filename='photo.jpg', quality=0.8):\n",
        "  js = Javascript('''\n",
        "    async function takePhoto(quality) {\n",
        "      const div = document.createElement('div');\n",
        "      const capture = document.createElement('button');\n",
        "      capture.textContent = 'Capture';\n",
        "      div.appendChild(capture);\n",
        "\n",
        "      const video = document.createElement('video');\n",
        "      video.style.display = 'block';\n",
        "      const stream = await navigator.mediaDevices.getUserMedia({video: true});\n",
        "\n",
        "      document.body.appendChild(div);\n",
        "      div.appendChild(video);\n",
        "      video.srcObject = stream;\n",
        "      await video.play();\n",
        "\n",
        "      // Resize the output to fit the video element.\n",
        "      google.colab.output.setIframeHeight(document.documentElement.scrollHeight, true);\n",
        "\n",
        "      // Wait for Capture to be clicked.\n",
        "      await new Promise((resolve) => capture.onclick = resolve);\n",
        "\n",
        "      const canvas = document.createElement('canvas');\n",
        "      canvas.width = video.videoWidth;\n",
        "      canvas.height = video.videoHeight;\n",
        "      canvas.getContext('2d').drawImage(video, 0, 0);\n",
        "      stream.getVideoTracks()[0].stop();\n",
        "      div.remove();\n",
        "      return canvas.toDataURL('image/jpeg', quality);\n",
        "    }\n",
        "    ''')\n",
        "  display(js)\n",
        "  data = eval_js('takePhoto({})'.format(quality))\n",
        "  binary = b64decode(data.split(',')[1])\n",
        "  with open(filename, 'wb') as f:\n",
        "    f.write(binary)\n",
        "  return filename"
      ],
      "metadata": {
        "id": "P_QCfe3Tj1Ab"
      },
      "execution_count": null,
      "outputs": []
    },
    {
      "cell_type": "code",
      "source": [
        "from IPython.display import Image\n",
        "try:\n",
        "  filename = take_photo()\n",
        "  print('Saved to {}'.format(filename))\n",
        "  \n",
        "  # Show the image which was just taken.\n",
        "  display(Image(filename))\n",
        "except Exception as err:\n",
        "  # Errors will be thrown if the user does not have a webcam or if they do not\n",
        "  # grant the page permission to access it.\n",
        "  print(str(err))"
      ],
      "metadata": {
        "id": "LKOvgjpSj1Ag"
      },
      "execution_count": null,
      "outputs": []
    },
    {
      "cell_type": "code",
      "metadata": {
        "id": "n_UYSN3bzi4m"
      },
      "source": [
        "\n",
        "item = pose_landmarks\n",
        "arr = np.array([cal_ang_test(item, 13, 11, 12),\n",
        "          cal_ang_test(item, 24, 12, 14),\n",
        "          cal_ang_test(item, 15, 13, 11),\n",
        "          cal_ang_test(item, 12, 14, 16),\n",
        "          cal_ang_test(item, 11, 23, 25),\n",
        "          cal_ang_test(item, 12, 24, 26),\n",
        "          cal_ang_test(item, 23, 25, 27),\n",
        "          cal_ang_test(item, 24, 26, 28)])\n",
        "print(arr)\n",
        "print(classifier.predict([arr]))"
      ],
      "execution_count": null,
      "outputs": []
    },
    {
      "cell_type": "markdown",
      "source": [
        "video tests"
      ],
      "metadata": {
        "id": "Vfa_gdJu_zpu"
      }
    },
    {
      "cell_type": "code",
      "source": [
        "# function to convert the JavaScript object into an OpenCV image\n",
        "def js_to_image(js_reply):\n",
        "  \"\"\"\n",
        "  Params:\n",
        "          js_reply: JavaScript object containing image from webcam\n",
        "  Returns:\n",
        "          img: OpenCV BGR image\n",
        "  \"\"\"\n",
        "  # decode base64 image\n",
        "  image_bytes = b64decode(js_reply.split(',')[1])\n",
        "  # convert bytes to numpy array\n",
        "  jpg_as_np = np.frombuffer(image_bytes, dtype=np.uint8)\n",
        "  # decode numpy array into OpenCV BGR image\n",
        "  img = cv2.imdecode(jpg_as_np, flags=1)\n",
        "\n",
        "  return img\n",
        "# JavaScript to properly create our live video stream using our webcam as input\n",
        "\n",
        "def bbox_to_bytes(bbox_array):\n",
        "  \"\"\"\n",
        "  Params:\n",
        "          bbox_array: Numpy array (pixels) containing rectangle to overlay on video stream.\n",
        "  Returns:\n",
        "        bytes: Base64 image byte string\n",
        "  \"\"\"\n",
        "  # convert array into PIL image\n",
        "  bbox_PIL = PIL.Image.fromarray(bbox_array, 'RGBA')\n",
        "  iobuf = io.BytesIO()\n",
        "  # format bbox into png for return\n",
        "  bbox_PIL.save(iobuf, format='png')\n",
        "  # format return string\n",
        "  bbox_bytes = 'data:image/png;base64,{}'.format((str(b64encode(iobuf.getvalue()), 'utf-8')))\n",
        "\n",
        "  return bbox_bytes\n",
        "\n",
        "def video_stream():\n",
        "  js = Javascript('''\n",
        "    var video;\n",
        "    var div = null;\n",
        "    var stream;\n",
        "    var captureCanvas;\n",
        "    var imgElement;\n",
        "    var labelElement;\n",
        "    \n",
        "    var pendingResolve = null;\n",
        "    var shutdown = false;\n",
        "    \n",
        "    function removeDom() {\n",
        "       stream.getVideoTracks()[0].stop();\n",
        "       video.remove();\n",
        "       div.remove();\n",
        "       video = null;\n",
        "       div = null;\n",
        "       stream = null;\n",
        "       imgElement = null;\n",
        "       captureCanvas = null;\n",
        "       labelElement = null;\n",
        "    }\n",
        "    \n",
        "    function onAnimationFrame() {\n",
        "      if (!shutdown) {\n",
        "        window.requestAnimationFrame(onAnimationFrame);\n",
        "      }\n",
        "      if (pendingResolve) {\n",
        "        var result = \"\";\n",
        "        if (!shutdown) {\n",
        "          captureCanvas.getContext('2d').drawImage(video, 0, 0, 640, 480);\n",
        "          result = captureCanvas.toDataURL('image/jpeg', 0.8)\n",
        "        }\n",
        "        var lp = pendingResolve;\n",
        "        pendingResolve = null;\n",
        "        lp(result);\n",
        "      }\n",
        "    }\n",
        "    \n",
        "    async function createDom() {\n",
        "      if (div !== null) {\n",
        "        return stream;\n",
        "      }\n",
        "\n",
        "      div = document.createElement('div');\n",
        "      div.style.border = '2px solid black';\n",
        "      div.style.padding = '3px';\n",
        "      div.style.width = '100%';\n",
        "      div.style.maxWidth = '600px';\n",
        "      document.body.appendChild(div);\n",
        "      \n",
        "      const modelOut = document.createElement('div');\n",
        "      modelOut.innerHTML = \"<span>Status:</span>\";\n",
        "      labelElement = document.createElement('span');\n",
        "      labelElement.innerText = 'No data';\n",
        "      labelElement.style.fontWeight = 'bold';\n",
        "      modelOut.appendChild(labelElement);\n",
        "      div.appendChild(modelOut);\n",
        "           \n",
        "      video = document.createElement('video');\n",
        "      video.style.display = 'block';\n",
        "      video.width = div.clientWidth - 6;\n",
        "      video.setAttribute('playsinline', '');\n",
        "      video.onclick = () => { shutdown = true; };\n",
        "      stream = await navigator.mediaDevices.getUserMedia(\n",
        "          {video: { facingMode: \"environment\"}});\n",
        "      div.appendChild(video);\n",
        "\n",
        "      imgElement = document.createElement('img');\n",
        "      imgElement.style.position = 'absolute';\n",
        "      imgElement.style.zIndex = 1;\n",
        "      imgElement.onclick = () => { shutdown = true; };\n",
        "      div.appendChild(imgElement);\n",
        "      \n",
        "      const instruction = document.createElement('div');\n",
        "      instruction.innerHTML = \n",
        "          '<span style=\"color: red; font-weight: bold;\">' +\n",
        "          'When finished, click here or on the video to stop this demo</span>';\n",
        "      div.appendChild(instruction);\n",
        "      instruction.onclick = () => { shutdown = true; };\n",
        "      \n",
        "      video.srcObject = stream;\n",
        "      await video.play();\n",
        "\n",
        "      captureCanvas = document.createElement('canvas');\n",
        "      captureCanvas.width = 640; //video.videoWidth;\n",
        "      captureCanvas.height = 480; //video.videoHeight;\n",
        "      window.requestAnimationFrame(onAnimationFrame);\n",
        "      \n",
        "      return stream;\n",
        "    }\n",
        "    async function stream_frame(label, imgData) {\n",
        "      if (shutdown) {\n",
        "        removeDom();\n",
        "        shutdown = false;\n",
        "        return '';\n",
        "      }\n",
        "\n",
        "      var preCreate = Date.now();\n",
        "      stream = await createDom();\n",
        "      \n",
        "      var preShow = Date.now();\n",
        "      if (label != \"\") {\n",
        "        labelElement.innerHTML = label;\n",
        "      }\n",
        "            \n",
        "      if (imgData != \"\") {\n",
        "        var videoRect = video.getClientRects()[0];\n",
        "        imgElement.style.top = videoRect.top + \"px\";\n",
        "        imgElement.style.left = videoRect.left + \"px\";\n",
        "        imgElement.style.width = videoRect.width + \"px\";\n",
        "        imgElement.style.height = videoRect.height + \"px\";\n",
        "        imgElement.src = imgData;\n",
        "      }\n",
        "      \n",
        "      var preCapture = Date.now();\n",
        "      var result = await new Promise(function(resolve, reject) {\n",
        "        pendingResolve = resolve;\n",
        "      });\n",
        "      shutdown = false;\n",
        "      \n",
        "      return {'create': preShow - preCreate, \n",
        "              'show': preCapture - preShow, \n",
        "              'capture': Date.now() - preCapture,\n",
        "              'img': result};\n",
        "    }\n",
        "    ''')\n",
        "\n",
        "  display(js)\n",
        "  \n",
        "def video_frame(label, bbox):\n",
        "  data = eval_js('stream_frame(\"{}\", \"{}\")'.format(label, bbox))\n",
        "  print(data)\n",
        "  return data"
      ],
      "metadata": {
        "id": "8UpnGX6CAjq2"
      },
      "execution_count": null,
      "outputs": []
    },
    {
      "cell_type": "code",
      "source": [
        "from mediapipe.python.solutions import drawing_utils as mp_drawing\n",
        "from mediapipe.python.solutions import pose as mp_pose"
      ],
      "metadata": {
        "id": "FRLUiiP1gDEp"
      },
      "execution_count": null,
      "outputs": []
    },
    {
      "cell_type": "code",
      "source": [
        "# start streaming video from webcam\n",
        "video_stream()\n",
        "# label for video\n",
        "label_html = 'Capturing...'\n",
        "# initialze bounding box to empty\n",
        "bbox = ''\n",
        "count = 0\n",
        "\n",
        "while True:\n",
        "    js_reply = video_frame(label_html, bbox)\n",
        "    if not js_reply:\n",
        "        break\n",
        "\n",
        "    # convert JS response to OpenCV Image\n",
        "    frame = js_to_image(js_reply[\"img\"])\n",
        "    frame = cv2.cvtColor(frame, cv2.COLOR_BGR2RGB)\n",
        "    with mp_pose.Pose() as pose_tracker:\n",
        "        result = pose_tracker.process(image=frame)\n",
        "        # mp_drawing.plot_landmarks(results.pose_world_landmarks, mp_pose.POSE_CONNECTIONS)\n",
        "        pose_landmarks = result.pose_landmarks\n",
        "        print(pose_landmarks)\n",
        "    output_frame = frame.copy()\n",
        "    if pose_landmarks is not None:\n",
        "        mp_drawing.draw_landmarks(\n",
        "            image=output_frame,\n",
        "            landmark_list=pose_landmarks,\n",
        "            connections=mp_pose.POSE_CONNECTIONS)\n",
        "        assert len(pose_landmarks.landmark) == 33, 'Unexpected number of predicted pose landmarks: {}'.format(\n",
        "            len(pose_landmarks.landmark))\n",
        "        pose_landmarks = [[lmk.x, lmk.y, lmk.z]\n",
        "                          for lmk in pose_landmarks.landmark]\n",
        "        output_frame = cv2.cvtColor(output_frame, cv2.COLOR_RGB2BGR)\n",
        "        frame_height, frame_width = frame.shape[:2]\n",
        "        pose_landmarks *= np.array([frame_width, frame_height, frame_width])\n",
        "    # cv2.imshow('frame', output_frame)\n",
        "    bbox_bytes = bbox_to_bytes(pose_landmarks)\n",
        "    bbox = bbox_bytes\n",
        "\n",
        "    # cv2_imshow(img)\n",
        "    # create transparent overlay for bounding box\n",
        "    # bbox_array = np.zeros([480,640,4], dtype=np.uint8)\n",
        "\n",
        "    # grayscale image for face detection\n",
        "    # gray = cv2.cvtColor(img, cv2.COLOR_RGB2GRAY)\n",
        "\n",
        "    # get face region coordinates\n",
        "    # faces = face_cascade.detectMultiScale(gray)\n",
        "    # get face bounding box for overlay\n",
        "    # for (x,y,w,h) in faces:\n",
        "    #   bbox_array = cv2.rectangle(bbox_array,(x,y),(x+w,y+h),(255,0,0),2)\n",
        "\n",
        "    # bbox_array[:,:,3] = (bbox_array.max(axis = 2) > 0 ).astype(int) * 255\n",
        "    # # convert overlay of bbox into bytes\n",
        "    # bbox_bytes = bbox_to_bytes(bbox_array)\n",
        "    # # update bbox so next frame gets new overlay\n",
        "    # bbox = bbox_bytes\n"
      ],
      "metadata": {
        "id": "X6EQaWnj_l3u"
      },
      "execution_count": null,
      "outputs": []
    },
    {
      "cell_type": "code",
      "source": [
        "from IPython.display import display, Javascript\n",
        "from google.colab.output import eval_js\n",
        "from base64 import b64decode\n",
        "\n",
        "def take_photo(filename='photo.jpg', quality=0.8):\n",
        "  js = Javascript('''\n",
        "    async function takePhoto(quality) {\n",
        "      const div = document.createElement('div');\n",
        "      const capture = document.createElement('button');\n",
        "      capture.textContent = 'Capture';\n",
        "      div.appendChild(capture);\n",
        "\n",
        "      const video = document.createElement('video');\n",
        "      video.style.display = 'block';\n",
        "      const stream = await navigator.mediaDevices.getUserMedia({video: true});\n",
        "\n",
        "      document.body.appendChild(div);\n",
        "      div.appendChild(video);\n",
        "      video.srcObject = stream;\n",
        "      await video.play();\n",
        "\n",
        "      // Resize the output to fit the video element.\n",
        "      google.colab.output.setIframeHeight(document.documentElement.scrollHeight, true);\n",
        "\n",
        "      // Wait for Capture to be clicked.\n",
        "      await new Promise((resolve) => capture.onclick = resolve);\n",
        "\n",
        "      const canvas = document.createElement('canvas');\n",
        "      canvas.width = video.videoWidth;\n",
        "      canvas.height = video.videoHeight;\n",
        "      canvas.getContext('2d').drawImage(video, 0, 0);\n",
        "      stream.getVideoTracks()[0].stop();\n",
        "      div.remove();\n",
        "      return canvas.toDataURL('image/jpeg', quality);\n",
        "    }\n",
        "    ''')\n",
        "  display(js)\n",
        "  data = eval_js('takePhoto({})'.format(quality))\n",
        "  binary = b64decode(data.split(',')[1])\n",
        "  with open(filename, 'wb') as f:\n",
        "    f.write(binary)\n",
        "  return filename"
      ],
      "metadata": {
        "id": "0-7MPD2KA0wt"
      },
      "execution_count": null,
      "outputs": []
    },
    {
      "cell_type": "code",
      "source": [
        "from IPython.display import Image\n",
        "try:\n",
        "  filename = take_photo()\n",
        "  print('Saved to {}'.format(filename))\n",
        "  \n",
        "  # Show the image which was just taken.\n",
        "  display(Image(filename))\n",
        "except Exception as err:\n",
        "  # Errors will be thrown if the user does not have a webcam or if they do not\n",
        "  # grant the page permission to access it.\n",
        "  print(str(err))"
      ],
      "metadata": {
        "id": "8aXWzPyUA0wv"
      },
      "execution_count": null,
      "outputs": []
    },
    {
      "cell_type": "markdown",
      "source": [
        "suryanamaskar dataset\n",
        "\n",
        "\n",
        "1. pranamaasna\n",
        "2.   \n",
        "3. Uttanasana\n",
        "4. \n",
        "5. \n",
        "6. \n",
        "7. cobra pose / Urdhva Mukha Svsnssana\n",
        "8. Uttanasana\n",
        "9. \n",
        "10. \n",
        "11. \n",
        "12. \n"
      ],
      "metadata": {
        "id": "B0fzJey7tfA3"
      }
    },
    {
      "cell_type": "markdown",
      "source": [
        "dataset graphs for yoga"
      ],
      "metadata": {
        "id": "bNhH_9w7hI_Q"
      }
    },
    {
      "cell_type": "code",
      "source": [
        "import matplotlib.pyplot as plt\n",
        "\n",
        "from sklearn.datasets import make_classification\n",
        "from sklearn.datasets import make_blobs\n",
        "from sklearn.datasets import make_gaussian_quantiles\n",
        "\n",
        "plt.figure(figsize=(8, 8))\n",
        "plt.subplots_adjust(bottom=0.05, top=0.9, left=0.05, right=0.95)\n",
        "\n",
        "plt.subplot(321)\n",
        "plt.title(\"One informative feature, one cluster per class\", fontsize=\"small\")\n",
        "X1, Y1 = make_classification(\n",
        "    n_features=2, n_redundant=0, n_informative=1, n_clusters_per_class=1\n",
        ")\n",
        "plt.scatter(X1[:, 0], X1[:, 1], marker=\"o\", c=Y1, s=25, edgecolor=\"k\")\n",
        "\n",
        "plt.subplot(322)\n",
        "plt.title(\"Two informative features, one cluster per class\", fontsize=\"small\")\n",
        "X1, Y1 = make_classification(\n",
        "    n_features=2, n_redundant=0, n_informative=2, n_clusters_per_class=1\n",
        ")\n",
        "plt.scatter(X1[:, 0], X1[:, 1], marker=\"o\", c=Y1, s=25, edgecolor=\"k\")\n",
        "\n",
        "plt.subplot(323)\n",
        "plt.title(\"Two informative features, two clusters per class\", fontsize=\"small\")\n",
        "X2, Y2 = make_classification(n_features=2, n_redundant=0, n_informative=2)\n",
        "plt.scatter(X2[:, 0], X2[:, 1], marker=\"o\", c=Y2, s=25, edgecolor=\"k\")\n",
        "\n",
        "plt.subplot(324)\n",
        "plt.title(\"Multi-class, two informative features, one cluster\", fontsize=\"small\")\n",
        "X1, Y1 = make_classification(\n",
        "    n_features=2, n_redundant=0, n_informative=2, n_clusters_per_class=1, n_classes=3\n",
        ")\n",
        "plt.scatter(X1[:, 0], X1[:, 1], marker=\"o\", c=Y1, s=25, edgecolor=\"k\")\n",
        "\n",
        "plt.subplot(325)\n",
        "plt.title(\"Three blobs\", fontsize=\"small\")\n",
        "X1, Y1 = make_blobs(n_features=2, centers=3)\n",
        "plt.scatter(X1[:, 0], X1[:, 1], marker=\"o\", c=Y1, s=25, edgecolor=\"k\")\n",
        "\n",
        "plt.subplot(326)\n",
        "plt.title(\"Gaussian divided into three quantiles\", fontsize=\"small\")\n",
        "X1, Y1 = make_gaussian_quantiles(n_features=2, n_classes=3)\n",
        "plt.scatter(X1[:, 0], X1[:, 1], marker=\"o\", c=Y1, s=25, edgecolor=\"k\")\n",
        "\n",
        "plt.show()"
      ],
      "metadata": {
        "id": "I0_6fA3jtjRO"
      },
      "execution_count": null,
      "outputs": []
    }
  ]
}