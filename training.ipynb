{
 "cells": [
  {
   "cell_type": "code",
   "execution_count": 1,
   "metadata": {},
   "outputs": [],
   "source": [
    "import numpy as np\n",
    "import os\n",
    "import pandas as pd\n",
    "import pickle\n",
    "from pylab import rcParams\n",
    "import matplotlib.pyplot as plt\n",
    "import cv2\n",
    "from IPython.display import display, Javascript, Image\n",
    "from base64 import b64decode, b64encode\n",
    "import PIL\n",
    "import io\n",
    "import html\n",
    "import time\n",
    "import mediapipe as mp"
   ]
  },
  {
   "cell_type": "code",
   "execution_count": 7,
   "metadata": {},
   "outputs": [],
   "source": [
    "# test\n",
    "df_angle = pd.read_csv(\"yoga_pose_dataset/train_df.csv\")\n",
    "df_angle.drop('Unnamed: 0', inplace=True, axis=1)"
   ]
  },
  {
   "cell_type": "code",
   "execution_count": 8,
   "metadata": {},
   "outputs": [],
   "source": [
    "# test\n",
    "from sklearn.model_selection import train_test_split\n",
    "df_angle_train, df_angle_test = train_test_split(df_angle, test_size=0.2)"
   ]
  },
  {
   "cell_type": "code",
   "execution_count": 19,
   "metadata": {},
   "outputs": [],
   "source": [
    "df_angle = pd.read_csv(\"yoga_pose_dataset/train_csv.csv\")\n",
    "# df_angle.drop('Unnamed: 0', inplace=True, axis=1)\n",
    "df_angle_test = pd.read_csv(\"yoga_pose_dataset/test_csv.csv\")\n",
    "# df_angle_test.drop('Unnamed: 0', inplace=True, axis=1)"
   ]
  },
  {
   "cell_type": "code",
   "execution_count": 20,
   "metadata": {},
   "outputs": [
    {
     "data": {
      "text/html": [
       "<div>\n",
       "<style scoped>\n",
       "    .dataframe tbody tr th:only-of-type {\n",
       "        vertical-align: middle;\n",
       "    }\n",
       "\n",
       "    .dataframe tbody tr th {\n",
       "        vertical-align: top;\n",
       "    }\n",
       "\n",
       "    .dataframe thead th {\n",
       "        text-align: right;\n",
       "    }\n",
       "</style>\n",
       "<table border=\"1\" class=\"dataframe\">\n",
       "  <thead>\n",
       "    <tr style=\"text-align: right;\">\n",
       "      <th></th>\n",
       "      <th>left_shoulder</th>\n",
       "      <th>right_shoulder</th>\n",
       "      <th>left_elbow</th>\n",
       "      <th>right_elbow</th>\n",
       "      <th>left_leg_waist</th>\n",
       "      <th>right_leg_waist</th>\n",
       "      <th>left_knee</th>\n",
       "      <th>right_knee</th>\n",
       "      <th>target</th>\n",
       "    </tr>\n",
       "  </thead>\n",
       "  <tbody>\n",
       "    <tr>\n",
       "      <th>0</th>\n",
       "      <td>99.210879</td>\n",
       "      <td>102.347473</td>\n",
       "      <td>109.828696</td>\n",
       "      <td>117.324714</td>\n",
       "      <td>25.931416</td>\n",
       "      <td>33.981009</td>\n",
       "      <td>140.752703</td>\n",
       "      <td>153.184618</td>\n",
       "      <td>uttanasana</td>\n",
       "    </tr>\n",
       "    <tr>\n",
       "      <th>1</th>\n",
       "      <td>159.718340</td>\n",
       "      <td>92.676868</td>\n",
       "      <td>146.315142</td>\n",
       "      <td>124.344985</td>\n",
       "      <td>99.710489</td>\n",
       "      <td>111.572791</td>\n",
       "      <td>108.467415</td>\n",
       "      <td>101.981418</td>\n",
       "      <td>ashtanga namaskar</td>\n",
       "    </tr>\n",
       "    <tr>\n",
       "      <th>2</th>\n",
       "      <td>88.493415</td>\n",
       "      <td>61.393819</td>\n",
       "      <td>165.451688</td>\n",
       "      <td>160.708484</td>\n",
       "      <td>132.014128</td>\n",
       "      <td>122.269728</td>\n",
       "      <td>135.019834</td>\n",
       "      <td>108.057299</td>\n",
       "      <td>bhujangasana</td>\n",
       "    </tr>\n",
       "    <tr>\n",
       "      <th>3</th>\n",
       "      <td>151.894562</td>\n",
       "      <td>140.501102</td>\n",
       "      <td>99.725214</td>\n",
       "      <td>77.080461</td>\n",
       "      <td>76.656432</td>\n",
       "      <td>73.741283</td>\n",
       "      <td>177.170965</td>\n",
       "      <td>160.722706</td>\n",
       "      <td>adho mukha savanasana</td>\n",
       "    </tr>\n",
       "    <tr>\n",
       "      <th>4</th>\n",
       "      <td>38.364833</td>\n",
       "      <td>31.924900</td>\n",
       "      <td>133.602113</td>\n",
       "      <td>109.855887</td>\n",
       "      <td>135.932116</td>\n",
       "      <td>173.310797</td>\n",
       "      <td>173.050603</td>\n",
       "      <td>177.295124</td>\n",
       "      <td>pranamasan</td>\n",
       "    </tr>\n",
       "  </tbody>\n",
       "</table>\n",
       "</div>"
      ],
      "text/plain": [
       "   left_shoulder  right_shoulder  left_elbow  right_elbow  left_leg_waist  \\\n",
       "0      99.210879      102.347473  109.828696   117.324714       25.931416   \n",
       "1     159.718340       92.676868  146.315142   124.344985       99.710489   \n",
       "2      88.493415       61.393819  165.451688   160.708484      132.014128   \n",
       "3     151.894562      140.501102   99.725214    77.080461       76.656432   \n",
       "4      38.364833       31.924900  133.602113   109.855887      135.932116   \n",
       "\n",
       "   right_leg_waist   left_knee  right_knee                 target  \n",
       "0        33.981009  140.752703  153.184618             uttanasana  \n",
       "1       111.572791  108.467415  101.981418      ashtanga namaskar  \n",
       "2       122.269728  135.019834  108.057299           bhujangasana  \n",
       "3        73.741283  177.170965  160.722706  adho mukha savanasana  \n",
       "4       173.310797  173.050603  177.295124             pranamasan  "
      ]
     },
     "execution_count": 20,
     "metadata": {},
     "output_type": "execute_result"
    }
   ],
   "source": [
    "df_angle.head()"
   ]
  },
  {
   "cell_type": "code",
   "execution_count": 21,
   "metadata": {},
   "outputs": [],
   "source": [
    "x_train= df_angle.iloc[:, 0:8].values  \n",
    "y_train= df_angle.iloc[:, 8].values  \n",
    "x_test = df_angle_test.iloc[:, 0:8].values \n",
    "y_test = df_angle_test.iloc[:, 8].values "
   ]
  },
  {
   "cell_type": "code",
   "execution_count": 10,
   "metadata": {},
   "outputs": [
    {
     "data": {
      "text/html": [
       "<div>\n",
       "<style scoped>\n",
       "    .dataframe tbody tr th:only-of-type {\n",
       "        vertical-align: middle;\n",
       "    }\n",
       "\n",
       "    .dataframe tbody tr th {\n",
       "        vertical-align: top;\n",
       "    }\n",
       "\n",
       "    .dataframe thead th {\n",
       "        text-align: right;\n",
       "    }\n",
       "</style>\n",
       "<table border=\"1\" class=\"dataframe\">\n",
       "  <thead>\n",
       "    <tr style=\"text-align: right;\">\n",
       "      <th></th>\n",
       "      <th>left_shoulder</th>\n",
       "      <th>right_shoulder</th>\n",
       "      <th>left_elbow</th>\n",
       "      <th>right_elbow</th>\n",
       "      <th>left_leg_waist</th>\n",
       "      <th>right_leg_waist</th>\n",
       "      <th>left_knee</th>\n",
       "      <th>right_knee</th>\n",
       "      <th>target</th>\n",
       "    </tr>\n",
       "  </thead>\n",
       "  <tbody>\n",
       "    <tr>\n",
       "      <th>0</th>\n",
       "      <td>138.983903</td>\n",
       "      <td>140.804127</td>\n",
       "      <td>95.817347</td>\n",
       "      <td>82.134694</td>\n",
       "      <td>76.883614</td>\n",
       "      <td>68.260365</td>\n",
       "      <td>163.431037</td>\n",
       "      <td>160.490643</td>\n",
       "      <td>downdog</td>\n",
       "    </tr>\n",
       "    <tr>\n",
       "      <th>1</th>\n",
       "      <td>135.716176</td>\n",
       "      <td>135.846064</td>\n",
       "      <td>96.520271</td>\n",
       "      <td>80.260453</td>\n",
       "      <td>76.647009</td>\n",
       "      <td>71.440060</td>\n",
       "      <td>170.733076</td>\n",
       "      <td>154.728611</td>\n",
       "      <td>downdog</td>\n",
       "    </tr>\n",
       "    <tr>\n",
       "      <th>2</th>\n",
       "      <td>134.350852</td>\n",
       "      <td>137.341890</td>\n",
       "      <td>100.287557</td>\n",
       "      <td>104.815009</td>\n",
       "      <td>78.617225</td>\n",
       "      <td>68.430680</td>\n",
       "      <td>168.996896</td>\n",
       "      <td>159.350417</td>\n",
       "      <td>downdog</td>\n",
       "    </tr>\n",
       "    <tr>\n",
       "      <th>3</th>\n",
       "      <td>121.475871</td>\n",
       "      <td>132.466321</td>\n",
       "      <td>94.347652</td>\n",
       "      <td>77.287868</td>\n",
       "      <td>78.327807</td>\n",
       "      <td>69.968026</td>\n",
       "      <td>174.078151</td>\n",
       "      <td>154.978962</td>\n",
       "      <td>downdog</td>\n",
       "    </tr>\n",
       "    <tr>\n",
       "      <th>4</th>\n",
       "      <td>144.068704</td>\n",
       "      <td>143.297976</td>\n",
       "      <td>113.995978</td>\n",
       "      <td>87.530671</td>\n",
       "      <td>77.275437</td>\n",
       "      <td>74.765290</td>\n",
       "      <td>160.884277</td>\n",
       "      <td>157.432206</td>\n",
       "      <td>downdog</td>\n",
       "    </tr>\n",
       "  </tbody>\n",
       "</table>\n",
       "</div>"
      ],
      "text/plain": [
       "   left_shoulder  right_shoulder  left_elbow  right_elbow  left_leg_waist  \\\n",
       "0     138.983903      140.804127   95.817347    82.134694       76.883614   \n",
       "1     135.716176      135.846064   96.520271    80.260453       76.647009   \n",
       "2     134.350852      137.341890  100.287557   104.815009       78.617225   \n",
       "3     121.475871      132.466321   94.347652    77.287868       78.327807   \n",
       "4     144.068704      143.297976  113.995978    87.530671       77.275437   \n",
       "\n",
       "   right_leg_waist   left_knee  right_knee   target  \n",
       "0        68.260365  163.431037  160.490643  downdog  \n",
       "1        71.440060  170.733076  154.728611  downdog  \n",
       "2        68.430680  168.996896  159.350417  downdog  \n",
       "3        69.968026  174.078151  154.978962  downdog  \n",
       "4        74.765290  160.884277  157.432206  downdog  "
      ]
     },
     "execution_count": 10,
     "metadata": {},
     "output_type": "execute_result"
    }
   ],
   "source": [
    "df_angle.head()"
   ]
  },
  {
   "cell_type": "code",
   "execution_count": 22,
   "metadata": {},
   "outputs": [
    {
     "data": {
      "text/plain": [
       "KNeighborsClassifier()"
      ]
     },
     "execution_count": 22,
     "metadata": {},
     "output_type": "execute_result"
    }
   ],
   "source": [
    "from sklearn.neighbors import KNeighborsClassifier  \n",
    "classifier= KNeighborsClassifier(n_neighbors=5, metric='minkowski', p=2 )  \n",
    "classifier.fit(x_train, y_train)  "
   ]
  },
  {
   "cell_type": "code",
   "execution_count": 23,
   "metadata": {},
   "outputs": [
    {
     "name": "stderr",
     "output_type": "stream",
     "text": [
      "d:\\projects\\YogaPoseDetect\\yoga_jupy\\env\\lib\\site-packages\\sklearn\\neighbors\\_classification.py:228: FutureWarning: Unlike other reduction functions (e.g. `skew`, `kurtosis`), the default behavior of `mode` typically preserves the axis it acts along. In SciPy 1.11.0, this behavior will change: the default value of `keepdims` will become False, the `axis` over which the statistic is taken will be eliminated, and the value None will no longer be accepted. Set `keepdims` to True or False to avoid this warning.\n",
      "  mode, _ = stats.mode(_y[neigh_ind, k], axis=1)\n"
     ]
    }
   ],
   "source": [
    "y_pred= classifier.predict(x_test)  "
   ]
  },
  {
   "cell_type": "code",
   "execution_count": 26,
   "metadata": {},
   "outputs": [
    {
     "name": "stderr",
     "output_type": "stream",
     "text": [
      "d:\\projects\\YogaPoseDetect\\yoga_jupy\\env\\lib\\site-packages\\sklearn\\neighbors\\_classification.py:228: FutureWarning: Unlike other reduction functions (e.g. `skew`, `kurtosis`), the default behavior of `mode` typically preserves the axis it acts along. In SciPy 1.11.0, this behavior will change: the default value of `keepdims` will become False, the `axis` over which the statistic is taken will be eliminated, and the value None will no longer be accepted. Set `keepdims` to True or False to avoid this warning.\n",
      "  mode, _ = stats.mode(_y[neigh_ind, k], axis=1)\n"
     ]
    },
    {
     "data": {
      "text/plain": [
       "array(['bhujangasana'], dtype=object)"
      ]
     },
     "execution_count": 26,
     "metadata": {},
     "output_type": "execute_result"
    }
   ],
   "source": [
    "classifier.predict([x_test[8]])"
   ]
  },
  {
   "cell_type": "code",
   "execution_count": 16,
   "metadata": {},
   "outputs": [],
   "source": [
    "pickle.dump(classifier,open('yoga_pose_dataset/latest_model1','wb'))"
   ]
  },
  {
   "cell_type": "code",
   "execution_count": 4,
   "metadata": {},
   "outputs": [],
   "source": [
    "classifier = pickle.load(open('yoga_pose_dataset/latest_model', 'rb'))"
   ]
  },
  {
   "cell_type": "code",
   "execution_count": 17,
   "metadata": {},
   "outputs": [],
   "source": [
    "df_angle_temp = pd.read_csv(\"yoga_pose_dataset/yoga_angle_test.csv\")\n",
    "df_angle_temp.drop('Unnamed: 0', inplace=True, axis=1)\n",
    "x_test_temp = df_angle_temp.iloc[:, 0:8].values \n",
    "y_test_temp = df_angle_temp.iloc[:, 8].values "
   ]
  },
  {
   "cell_type": "code",
   "execution_count": 6,
   "metadata": {},
   "outputs": [
    {
     "name": "stdout",
     "output_type": "stream",
     "text": [
      "[[146.0757362  139.61072455 112.97773076 ...  74.4740952  173.39183403\n",
      "  156.15492178]\n",
      " [149.52929972 137.2643356  113.20551472 ...  74.89448555 173.1793718\n",
      "  153.75279241]\n",
      " [149.21672349 136.41917782 112.5227789  ...  72.42432885 176.27900312\n",
      "  153.75429506]\n",
      " ...\n",
      " [150.89268797  95.99838181 169.14069182 ...  73.79794249 113.05231502\n",
      "   63.96793864]\n",
      " [164.05029466 107.91371339 158.74230487 ...  74.24277556 118.83104127\n",
      "   66.29963824]\n",
      " [152.01905488 110.05862285 170.58314651 ...  78.37701941 110.59687321\n",
      "   61.35367208]]\n"
     ]
    }
   ],
   "source": [
    "print(x_test)"
   ]
  },
  {
   "cell_type": "code",
   "execution_count": 5,
   "metadata": {},
   "outputs": [
    {
     "ename": "ValueError",
     "evalue": "Input contains NaN, infinity or a value too large for dtype('float64').",
     "output_type": "error",
     "traceback": [
      "\u001b[1;31m---------------------------------------------------------------------------\u001b[0m",
      "\u001b[1;31mValueError\u001b[0m                                Traceback (most recent call last)",
      "Cell \u001b[1;32mIn [5], line 1\u001b[0m\n\u001b[1;32m----> 1\u001b[0m y_pred\u001b[39m=\u001b[39m classifier\u001b[39m.\u001b[39;49mpredict(x_test)  \n",
      "File \u001b[1;32md:\\projects\\YogaPoseDetect\\yoga_jupy\\env\\lib\\site-packages\\sklearn\\neighbors\\_classification.py:214\u001b[0m, in \u001b[0;36mKNeighborsClassifier.predict\u001b[1;34m(self, X)\u001b[0m\n\u001b[0;32m    200\u001b[0m \u001b[39mdef\u001b[39;00m \u001b[39mpredict\u001b[39m(\u001b[39mself\u001b[39m, X):\n\u001b[0;32m    201\u001b[0m     \u001b[39m\"\"\"Predict the class labels for the provided data.\u001b[39;00m\n\u001b[0;32m    202\u001b[0m \n\u001b[0;32m    203\u001b[0m \u001b[39m    Parameters\u001b[39;00m\n\u001b[1;32m   (...)\u001b[0m\n\u001b[0;32m    212\u001b[0m \u001b[39m        Class labels for each data sample.\u001b[39;00m\n\u001b[0;32m    213\u001b[0m \u001b[39m    \"\"\"\u001b[39;00m\n\u001b[1;32m--> 214\u001b[0m     neigh_dist, neigh_ind \u001b[39m=\u001b[39m \u001b[39mself\u001b[39;49m\u001b[39m.\u001b[39;49mkneighbors(X)\n\u001b[0;32m    215\u001b[0m     classes_ \u001b[39m=\u001b[39m \u001b[39mself\u001b[39m\u001b[39m.\u001b[39mclasses_\n\u001b[0;32m    216\u001b[0m     _y \u001b[39m=\u001b[39m \u001b[39mself\u001b[39m\u001b[39m.\u001b[39m_y\n",
      "File \u001b[1;32md:\\projects\\YogaPoseDetect\\yoga_jupy\\env\\lib\\site-packages\\sklearn\\neighbors\\_base.py:714\u001b[0m, in \u001b[0;36mKNeighborsMixin.kneighbors\u001b[1;34m(self, X, n_neighbors, return_distance)\u001b[0m\n\u001b[0;32m    712\u001b[0m         X \u001b[39m=\u001b[39m _check_precomputed(X)\n\u001b[0;32m    713\u001b[0m     \u001b[39melse\u001b[39;00m:\n\u001b[1;32m--> 714\u001b[0m         X \u001b[39m=\u001b[39m \u001b[39mself\u001b[39;49m\u001b[39m.\u001b[39;49m_validate_data(X, accept_sparse\u001b[39m=\u001b[39;49m\u001b[39m\"\u001b[39;49m\u001b[39mcsr\u001b[39;49m\u001b[39m\"\u001b[39;49m, reset\u001b[39m=\u001b[39;49m\u001b[39mFalse\u001b[39;49;00m)\n\u001b[0;32m    715\u001b[0m \u001b[39melse\u001b[39;00m:\n\u001b[0;32m    716\u001b[0m     query_is_train \u001b[39m=\u001b[39m \u001b[39mTrue\u001b[39;00m\n",
      "File \u001b[1;32md:\\projects\\YogaPoseDetect\\yoga_jupy\\env\\lib\\site-packages\\sklearn\\base.py:561\u001b[0m, in \u001b[0;36mBaseEstimator._validate_data\u001b[1;34m(self, X, y, reset, validate_separately, **check_params)\u001b[0m\n\u001b[0;32m    559\u001b[0m     \u001b[39mraise\u001b[39;00m \u001b[39mValueError\u001b[39;00m(\u001b[39m\"\u001b[39m\u001b[39mValidation should be done on X, y or both.\u001b[39m\u001b[39m\"\u001b[39m)\n\u001b[0;32m    560\u001b[0m \u001b[39melif\u001b[39;00m \u001b[39mnot\u001b[39;00m no_val_X \u001b[39mand\u001b[39;00m no_val_y:\n\u001b[1;32m--> 561\u001b[0m     X \u001b[39m=\u001b[39m check_array(X, \u001b[39m*\u001b[39m\u001b[39m*\u001b[39mcheck_params)\n\u001b[0;32m    562\u001b[0m     out \u001b[39m=\u001b[39m X\n\u001b[0;32m    563\u001b[0m \u001b[39melif\u001b[39;00m no_val_X \u001b[39mand\u001b[39;00m \u001b[39mnot\u001b[39;00m no_val_y:\n",
      "File \u001b[1;32md:\\projects\\YogaPoseDetect\\yoga_jupy\\env\\lib\\site-packages\\sklearn\\utils\\validation.py:792\u001b[0m, in \u001b[0;36mcheck_array\u001b[1;34m(array, accept_sparse, accept_large_sparse, dtype, order, copy, force_all_finite, ensure_2d, allow_nd, ensure_min_samples, ensure_min_features, estimator)\u001b[0m\n\u001b[0;32m    786\u001b[0m         \u001b[39mraise\u001b[39;00m \u001b[39mValueError\u001b[39;00m(\n\u001b[0;32m    787\u001b[0m             \u001b[39m\"\u001b[39m\u001b[39mFound array with dim \u001b[39m\u001b[39m%d\u001b[39;00m\u001b[39m. \u001b[39m\u001b[39m%s\u001b[39;00m\u001b[39m expected <= 2.\u001b[39m\u001b[39m\"\u001b[39m\n\u001b[0;32m    788\u001b[0m             \u001b[39m%\u001b[39m (array\u001b[39m.\u001b[39mndim, estimator_name)\n\u001b[0;32m    789\u001b[0m         )\n\u001b[0;32m    791\u001b[0m     \u001b[39mif\u001b[39;00m force_all_finite:\n\u001b[1;32m--> 792\u001b[0m         _assert_all_finite(array, allow_nan\u001b[39m=\u001b[39;49mforce_all_finite \u001b[39m==\u001b[39;49m \u001b[39m\"\u001b[39;49m\u001b[39mallow-nan\u001b[39;49m\u001b[39m\"\u001b[39;49m)\n\u001b[0;32m    794\u001b[0m \u001b[39mif\u001b[39;00m ensure_min_samples \u001b[39m>\u001b[39m \u001b[39m0\u001b[39m:\n\u001b[0;32m    795\u001b[0m     n_samples \u001b[39m=\u001b[39m _num_samples(array)\n",
      "File \u001b[1;32md:\\projects\\YogaPoseDetect\\yoga_jupy\\env\\lib\\site-packages\\sklearn\\utils\\validation.py:114\u001b[0m, in \u001b[0;36m_assert_all_finite\u001b[1;34m(X, allow_nan, msg_dtype)\u001b[0m\n\u001b[0;32m    107\u001b[0m     \u001b[39mif\u001b[39;00m (\n\u001b[0;32m    108\u001b[0m         allow_nan\n\u001b[0;32m    109\u001b[0m         \u001b[39mand\u001b[39;00m np\u001b[39m.\u001b[39misinf(X)\u001b[39m.\u001b[39many()\n\u001b[0;32m    110\u001b[0m         \u001b[39mor\u001b[39;00m \u001b[39mnot\u001b[39;00m allow_nan\n\u001b[0;32m    111\u001b[0m         \u001b[39mand\u001b[39;00m \u001b[39mnot\u001b[39;00m np\u001b[39m.\u001b[39misfinite(X)\u001b[39m.\u001b[39mall()\n\u001b[0;32m    112\u001b[0m     ):\n\u001b[0;32m    113\u001b[0m         type_err \u001b[39m=\u001b[39m \u001b[39m\"\u001b[39m\u001b[39minfinity\u001b[39m\u001b[39m\"\u001b[39m \u001b[39mif\u001b[39;00m allow_nan \u001b[39melse\u001b[39;00m \u001b[39m\"\u001b[39m\u001b[39mNaN, infinity\u001b[39m\u001b[39m\"\u001b[39m\n\u001b[1;32m--> 114\u001b[0m         \u001b[39mraise\u001b[39;00m \u001b[39mValueError\u001b[39;00m(\n\u001b[0;32m    115\u001b[0m             msg_err\u001b[39m.\u001b[39mformat(\n\u001b[0;32m    116\u001b[0m                 type_err, msg_dtype \u001b[39mif\u001b[39;00m msg_dtype \u001b[39mis\u001b[39;00m \u001b[39mnot\u001b[39;00m \u001b[39mNone\u001b[39;00m \u001b[39melse\u001b[39;00m X\u001b[39m.\u001b[39mdtype\n\u001b[0;32m    117\u001b[0m             )\n\u001b[0;32m    118\u001b[0m         )\n\u001b[0;32m    119\u001b[0m \u001b[39m# for object dtype data, we only check for NaNs (GH-13254)\u001b[39;00m\n\u001b[0;32m    120\u001b[0m \u001b[39melif\u001b[39;00m X\u001b[39m.\u001b[39mdtype \u001b[39m==\u001b[39m np\u001b[39m.\u001b[39mdtype(\u001b[39m\"\u001b[39m\u001b[39mobject\u001b[39m\u001b[39m\"\u001b[39m) \u001b[39mand\u001b[39;00m \u001b[39mnot\u001b[39;00m allow_nan:\n",
      "\u001b[1;31mValueError\u001b[0m: Input contains NaN, infinity or a value too large for dtype('float64')."
     ]
    }
   ],
   "source": [
    "y_pred= classifier.predict(x_test)  "
   ]
  },
  {
   "cell_type": "code",
   "execution_count": 18,
   "metadata": {},
   "outputs": [
    {
     "name": "stderr",
     "output_type": "stream",
     "text": [
      "d:\\projects\\YogaPoseDetect\\yoga_jupy\\env\\lib\\site-packages\\sklearn\\neighbors\\_classification.py:228: FutureWarning: Unlike other reduction functions (e.g. `skew`, `kurtosis`), the default behavior of `mode` typically preserves the axis it acts along. In SciPy 1.11.0, this behavior will change: the default value of `keepdims` will become False, the `axis` over which the statistic is taken will be eliminated, and the value None will no longer be accepted. Set `keepdims` to True or False to avoid this warning.\n",
      "  mode, _ = stats.mode(_y[neigh_ind, k], axis=1)\n"
     ]
    }
   ],
   "source": [
    "y_pred_temp= classifier.predict(x_test_temp)  "
   ]
  },
  {
   "cell_type": "code",
   "execution_count": 27,
   "metadata": {},
   "outputs": [
    {
     "data": {
      "text/plain": [
       "0.9333333333333333"
      ]
     },
     "execution_count": 27,
     "metadata": {},
     "output_type": "execute_result"
    }
   ],
   "source": [
    "from sklearn.metrics import accuracy_score  \n",
    "acc = accuracy_score(y_test, y_pred)\n",
    "acc"
   ]
  }
 ],
 "metadata": {
  "kernelspec": {
   "display_name": "Python 3.9.10 ('env': venv)",
   "language": "python",
   "name": "python3"
  },
  "language_info": {
   "codemirror_mode": {
    "name": "ipython",
    "version": 3
   },
   "file_extension": ".py",
   "mimetype": "text/x-python",
   "name": "python",
   "nbconvert_exporter": "python",
   "pygments_lexer": "ipython3",
   "version": "3.9.10"
  },
  "orig_nbformat": 4,
  "vscode": {
   "interpreter": {
    "hash": "d352b7b89aefcf18acc8ab37af57672aecbd752547159b9bed95f47d44296c9c"
   }
  }
 },
 "nbformat": 4,
 "nbformat_minor": 2
}
